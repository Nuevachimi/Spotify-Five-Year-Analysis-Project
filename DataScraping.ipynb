{
 "cells": [
  {
   "cell_type": "markdown",
   "id": "a5c5a956",
   "metadata": {},
   "source": [
    "# Spotify Song Data Scraping"
   ]
  },
  {
   "cell_type": "markdown",
   "id": "ba14a9e3",
   "metadata": {},
   "source": [
    "### References:\n",
    "Based on the following tutorials: <br />\n",
    "Max Hilsdorf, \"How to Create Large Music Datasets Using Spotipy\", <i>Towards Data Science</i>, 25 April 2020: <br />\n",
    "https://towardsdatascience.com/how-to-create-large-music-datasets-using-spotipy-40e7242cc6a6 <br />\n",
    "Max Tingle, \"Getting Started with Spotify’s API & Spotipy\", <i>Towards Data Science</i>, 3 Oct 2019: <br />\n",
    "https://medium.com/@maxtingle/getting-started-with-spotifys-api-spotipy-197c3dc6353b <br />\n",
    "Sandra Radgowska, \"How to use Spotify API and what data science opportunities can it open up?\", <i>My Journey As A Data Scientist</i>, 18 August 2021:<br />\n",
    "https://datascientistdiary.com/index.php/2021/03/04/how-to-use-spotify-api-and-what-data-science-opportunities-can-it-open-up/"
   ]
  },
  {
   "cell_type": "markdown",
   "id": "221b655a",
   "metadata": {},
   "source": [
    "## Setup"
   ]
  },
  {
   "cell_type": "markdown",
   "id": "8875f365",
   "metadata": {},
   "source": [
    "### Import packages"
   ]
  },
  {
   "cell_type": "code",
   "execution_count": 9,
   "id": "1252e80c",
   "metadata": {},
   "outputs": [],
   "source": [
    "import json\n",
    "import time\n",
    "import pandas as pd\n",
    "import creds\n",
    "import spotipy\n",
    "from spotipy.oauth2 import SpotifyClientCredentials"
   ]
  },
  {
   "cell_type": "markdown",
   "id": "83963bef",
   "metadata": {},
   "source": [
    "### Spotify Credentials"
   ]
  },
  {
   "cell_type": "markdown",
   "id": "1e7a7760",
   "metadata": {},
   "source": [
    "#### Load credentials"
   ]
  },
  {
   "cell_type": "markdown",
   "id": "1b8ffc22",
   "metadata": {},
   "source": [
    "Loads the creds.py file, containing the following two lines for variables client_id and secret, which is gitignored for sharing. \n",
    "\n",
    "client_id = 'Your Client ID Here'<br />\n",
    "secret = 'Your secret here'"
   ]
  },
  {
   "cell_type": "code",
   "execution_count": 10,
   "id": "01c50c05",
   "metadata": {},
   "outputs": [],
   "source": [
    "%run -i 'creds.py'"
   ]
  },
  {
   "cell_type": "markdown",
   "id": "8c78dc68",
   "metadata": {},
   "source": [
    "#### Set credentials"
   ]
  },
  {
   "cell_type": "code",
   "execution_count": 11,
   "id": "08a31449",
   "metadata": {},
   "outputs": [],
   "source": [
    "client_credentials_manager = SpotifyClientCredentials(client_id=client_id,client_secret=secret)\n",
    "sp = spotipy.Spotify(client_credentials_manager=client_credentials_manager)"
   ]
  },
  {
   "cell_type": "markdown",
   "id": "eb027716",
   "metadata": {},
   "source": [
    "### Functions for data extraction"
   ]
  },
  {
   "cell_type": "markdown",
   "id": "b3927a12",
   "metadata": {},
   "source": [
    "#### Create track container dictionaries\n",
    "\n",
    "* Note that since tracks variable is no created in cell with function call, subsequent calls will be appended to the same dictionary"
   ]
  },
  {
   "cell_type": "code",
   "execution_count": 12,
   "id": "7ce875e7",
   "metadata": {},
   "outputs": [],
   "source": [
    "tracks = []"
   ]
  },
  {
   "cell_type": "markdown",
   "id": "1d8b753b",
   "metadata": {},
   "source": [
    "Function to extract all the track ids from your playlist:"
   ]
  },
  {
   "cell_type": "code",
   "execution_count": 13,
   "id": "a7bf912a",
   "metadata": {},
   "outputs": [],
   "source": [
    "def get_track_ids(playlist_id):\n",
    "    music_id_list = []\n",
    "    playlist = sp.playlist(playlist_id)\n",
    "    for item in playlist['tracks']['items']:\n",
    "        music_track = item['track']\n",
    "        music_id_list.append(music_track['id'])\n",
    "    return music_id_list "
   ]
  },
  {
   "cell_type": "markdown",
   "id": "56ce357c",
   "metadata": {},
   "source": [
    "Function to extract all the details of each track by passing its ID:"
   ]
  },
  {
   "cell_type": "code",
   "execution_count": 14,
   "id": "3dec7f39",
   "metadata": {},
   "outputs": [],
   "source": [
    "def get_track_data(track_id):\n",
    "    meta = sp.track(track_id)\n",
    "    track_details = {'uri': meta['uri'],\n",
    "                    'name': meta['name'],\n",
    "                    'album': meta['album']['name'],\n",
    "                    'artist': meta['album']['artists'][0]['name'],\n",
    "                    'release_date': meta['album']['release_date'],\n",
    "                    'explicit': meta['explicit'],\n",
    "                    'duration_in_mins': round((meta['duration_ms'] * 0.001) / 60.0, 2)}\n",
    "    return track_details"
   ]
  },
  {
   "cell_type": "markdown",
   "id": "36f513fd",
   "metadata": {},
   "source": [
    "### Extract track data"
   ]
  },
  {
   "cell_type": "raw",
   "id": "82131cc2",
   "metadata": {},
   "source": [
    "Extract audio features of each track\n",
    "\n",
    "For testing:  playlist_id = '0qfagBJB5ou0r1kwQDZ8Op'"
   ]
  },
  {
   "cell_type": "code",
   "execution_count": 15,
   "id": "efe055c6",
   "metadata": {},
   "outputs": [
    {
     "name": "stdout",
     "output_type": "stream",
     "text": [
      "Enter the playlist id0qfagBJB5ou0r1kwQDZ8Op\n",
      "21\n",
      "['0bXpmJyHHYPk6QBFj25bYF', '0Xy9xPPs2zRRFqljGqKXel', '0RqRN88qFUEeOQZ7VklA14', '1QZJiYulh7ak7GpZ8OAdwI', '0wrBkSiN1Y1StFR1Q3ZC28', '4Q2UM2QSR7Gye03jvl4Rdw', '5urkJ8dcmxtvsnruNfx6ZS', '6ujlgkgbsrPskgWslEcZmR', '3pyTksNccLM1jRvzQ4zTke', '7AiIlhSSVKAyMJTygWuut2', '7pKfPomDEeI4TPT6EOYjn9', '0WWz2AaqxLoO0fa9ou6Fqc', '5qJbIYo8AitajCbnOGPIvI', '7IbMonU3CRITpQ0cRVThsV', '5yEPxDjbbzUzyauGtnmVEC', '2gANywSFYF58YFMPdDSAjC', '29zkoUsOE50f0I3n44LjjU', '6d3geXDfoj6hz882o9Ip9S', '2UKYMN7VnsQo40n0qCt6Sa', '6Prs4p7iVZxODcO62NIiA6', '7kCrYUDtWsPldohOKPTKPL']\n"
     ]
    }
   ],
   "source": [
    "# Get the ids for all the songs in your playlist\n",
    "playlist_id = input('Enter the playlist id')\n",
    "track_ids = get_track_ids(playlist_id)\n",
    "print(len(track_ids))\n",
    "print(track_ids)\n",
    "\n",
    "#  Loop over track ids and get their data points\n",
    "for i in range(len(track_ids)):\n",
    "    time.sleep(.5)\n",
    "    track = get_track_data(track_ids[i])\n",
    "    tracks.append(track)"
   ]
  },
  {
   "cell_type": "markdown",
   "id": "47bd1d95",
   "metadata": {},
   "source": [
    "#### Create dataframe"
   ]
  },
  {
   "cell_type": "code",
   "execution_count": null,
   "id": "b247c89b",
   "metadata": {},
   "outputs": [],
   "source": [
    "df = pd.DataFrame(tracks)\n",
    "df"
   ]
  },
  {
   "cell_type": "code",
   "execution_count": null,
   "id": "320400fb",
   "metadata": {},
   "outputs": [],
   "source": []
  },
  {
   "cell_type": "code",
   "execution_count": null,
   "id": "83437026",
   "metadata": {},
   "outputs": [],
   "source": []
  },
  {
   "cell_type": "code",
   "execution_count": null,
   "id": "253335bb",
   "metadata": {},
   "outputs": [],
   "source": []
  },
  {
   "cell_type": "code",
   "execution_count": null,
   "id": "5c2c3205",
   "metadata": {},
   "outputs": [],
   "source": []
  },
  {
   "cell_type": "markdown",
   "id": "0bbb9886",
   "metadata": {},
   "source": [
    "Function to extract each track's audio features"
   ]
  },
  {
   "cell_type": "code",
   "execution_count": 16,
   "id": "5e5e41f6",
   "metadata": {},
   "outputs": [],
   "source": [
    "def get_playlist_tracks(playlist_id):\n",
    "    track_attributes = sp.playlist_tracks(playlist_id)\n",
    "    return track_attributes"
   ]
  },
  {
   "cell_type": "code",
   "execution_count": 17,
   "id": "b8e6dd78",
   "metadata": {},
   "outputs": [],
   "source": [
    "playlist_tracks_data = []\n",
    "playlist_ids = ['0qfagBJB5ou0r1kwQDZ8Op']\n",
    "\n",
    "#  Loop over playlist ids and get their data points\n",
    "for i in range(len(playlist_ids)):\n",
    "    time.sleep(.5)\n",
    "    playlist_track = get_playlist_tracks(playlist_ids[i])\n",
    "    playlist_tracks_data.append(playlist_track)"
   ]
  },
  {
   "cell_type": "code",
   "execution_count": 18,
   "id": "0887526a",
   "metadata": {},
   "outputs": [
    {
     "data": {
      "text/html": [
       "<div>\n",
       "<style scoped>\n",
       "    .dataframe tbody tr th:only-of-type {\n",
       "        vertical-align: middle;\n",
       "    }\n",
       "\n",
       "    .dataframe tbody tr th {\n",
       "        vertical-align: top;\n",
       "    }\n",
       "\n",
       "    .dataframe thead th {\n",
       "        text-align: right;\n",
       "    }\n",
       "</style>\n",
       "<table border=\"1\" class=\"dataframe\">\n",
       "  <thead>\n",
       "    <tr style=\"text-align: right;\">\n",
       "      <th></th>\n",
       "      <th>href</th>\n",
       "      <th>items</th>\n",
       "      <th>limit</th>\n",
       "      <th>next</th>\n",
       "      <th>offset</th>\n",
       "      <th>previous</th>\n",
       "      <th>total</th>\n",
       "    </tr>\n",
       "  </thead>\n",
       "  <tbody>\n",
       "    <tr>\n",
       "      <th>0</th>\n",
       "      <td>https://api.spotify.com/v1/playlists/0qfagBJB5...</td>\n",
       "      <td>[{'added_at': '2015-12-04T17:25:30Z', 'added_b...</td>\n",
       "      <td>100</td>\n",
       "      <td>None</td>\n",
       "      <td>0</td>\n",
       "      <td>None</td>\n",
       "      <td>21</td>\n",
       "    </tr>\n",
       "  </tbody>\n",
       "</table>\n",
       "</div>"
      ],
      "text/plain": [
       "                                                href  \\\n",
       "0  https://api.spotify.com/v1/playlists/0qfagBJB5...   \n",
       "\n",
       "                                               items  limit  next  offset  \\\n",
       "0  [{'added_at': '2015-12-04T17:25:30Z', 'added_b...    100  None       0   \n",
       "\n",
       "  previous  total  \n",
       "0     None     21  "
      ]
     },
     "execution_count": 18,
     "metadata": {},
     "output_type": "execute_result"
    }
   ],
   "source": [
    "playlist_df = pd.DataFrame(playlist_tracks_data)\n",
    "playlist_df"
   ]
  },
  {
   "cell_type": "markdown",
   "id": "0a581453",
   "metadata": {},
   "source": [
    "#### Extract playlist data"
   ]
  },
  {
   "cell_type": "raw",
   "id": "a152e641",
   "metadata": {},
   "source": [
    "Extract audio features of each track in playlist\n",
    "\n",
    "For testing:  playlist_id = '0qfagBJB5ou0r1kwQDZ8Op'"
   ]
  },
  {
   "cell_type": "code",
   "execution_count": null,
   "id": "eabbf8d5",
   "metadata": {},
   "outputs": [],
   "source": [
    "# Get the ids for all the songs in your playlist\n",
    "playlist_id = input('Enter the playlist id')\n",
    "track_ids = get_track_ids(playlist_id)\n",
    "print(len(track_ids))\n",
    "print(track_ids)\n",
    "\n",
    "#  Loop over track ids and get their data points\n",
    "for i in range(len(track_ids)):\n",
    "    time.sleep(.5)\n",
    "    track = get_track_data(track_ids[i])\n",
    "    tracks.append(track)"
   ]
  },
  {
   "cell_type": "code",
   "execution_count": null,
   "id": "bb4e05de",
   "metadata": {},
   "outputs": [],
   "source": []
  },
  {
   "cell_type": "code",
   "execution_count": null,
   "id": "a831e400",
   "metadata": {},
   "outputs": [],
   "source": []
  },
  {
   "cell_type": "code",
   "execution_count": null,
   "id": "5b346056",
   "metadata": {},
   "outputs": [],
   "source": []
  },
  {
   "cell_type": "code",
   "execution_count": null,
   "id": "c00c1aee",
   "metadata": {},
   "outputs": [],
   "source": []
  },
  {
   "cell_type": "code",
   "execution_count": null,
   "id": "4f73b4e6",
   "metadata": {},
   "outputs": [],
   "source": []
  },
  {
   "cell_type": "code",
   "execution_count": null,
   "id": "ab17bba8",
   "metadata": {},
   "outputs": [],
   "source": []
  },
  {
   "cell_type": "code",
   "execution_count": null,
   "id": "a0ae4d39",
   "metadata": {},
   "outputs": [],
   "source": []
  }
 ],
 "metadata": {
  "kernelspec": {
   "display_name": "Python 3",
   "language": "python",
   "name": "python3"
  },
  "language_info": {
   "codemirror_mode": {
    "name": "ipython",
    "version": 3
   },
   "file_extension": ".py",
   "mimetype": "text/x-python",
   "name": "python",
   "nbconvert_exporter": "python",
   "pygments_lexer": "ipython3",
   "version": "3.8.8"
  }
 },
 "nbformat": 4,
 "nbformat_minor": 5
}
