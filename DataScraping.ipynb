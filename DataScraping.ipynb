{
 "cells": [
  {
   "cell_type": "markdown",
   "id": "a5c5a956",
   "metadata": {},
   "source": [
    "# Spotify Song Data Scraping"
   ]
  },
  {
   "cell_type": "markdown",
   "id": "ba14a9e3",
   "metadata": {},
   "source": [
    "### References:\n",
    "Based on the following tutorials: <br />\n",
    "Max Hilsdorf, \"How to Create Large Music Datasets Using Spotipy\", <i>Towards Data Science</i>, 25 April 2020: <br />\n",
    "https://towardsdatascience.com/how-to-create-large-music-datasets-using-spotipy-40e7242cc6a6 <br />\n",
    "Max Tingle, \"Getting Started with Spotify’s API & Spotipy\", <i>Towards Data Science</i>, 3 Oct 2019: <br />\n",
    "https://medium.com/@maxtingle/getting-started-with-spotifys-api-spotipy-197c3dc6353b <br />\n",
    "Sandra Radgowska, \"How to use Spotify API and what data science opportunities can it open up?\", <i>My Journey As A Data Scientist</i>, 18 August 2021:<br />\n",
    "https://datascientistdiary.com/index.php/2021/03/04/how-to-use-spotify-api-and-what-data-science-opportunities-can-it-open-up/"
   ]
  },
  {
   "cell_type": "markdown",
   "id": "221b655a",
   "metadata": {},
   "source": [
    "## Setup"
   ]
  },
  {
   "cell_type": "markdown",
   "id": "8875f365",
   "metadata": {},
   "source": [
    "### Import packages"
   ]
  },
  {
   "cell_type": "code",
   "execution_count": 9,
   "id": "1252e80c",
   "metadata": {},
   "outputs": [],
   "source": [
    "import json\n",
    "import time\n",
    "import pandas as pd\n",
    "import creds\n",
    "import spotipy\n",
    "from spotipy.oauth2 import SpotifyClientCredentials"
   ]
  },
  {
   "cell_type": "markdown",
   "id": "83963bef",
   "metadata": {},
   "source": [
    "### Spotify Credentials"
   ]
  },
  {
   "cell_type": "markdown",
   "id": "a332643c",
   "metadata": {},
   "source": [
    "#### Load credentials"
   ]
  },
  {
   "cell_type": "markdown",
   "id": "2ee386c7",
   "metadata": {},
   "source": [
    "Loads the creds.py file, containing the following two lines for variables client_id and secret, which is gitignored for sharing. \n",
    "\n",
    "client_id = 'Your Client ID Here'<br />\n",
    "secret = 'Your secret here'"
   ]
  },
  {
   "cell_type": "code",
   "execution_count": 10,
   "id": "01c50c05",
   "metadata": {},
   "outputs": [],
   "source": [
    "%run -i 'creds.py'"
   ]
  },
  {
   "cell_type": "markdown",
   "id": "f2e5094b",
   "metadata": {},
   "source": [
    "#### Set credentials"
   ]
  },
  {
   "cell_type": "code",
   "execution_count": 11,
   "id": "7aa8834b",
   "metadata": {},
   "outputs": [],
   "source": [
    "client_credentials_manager = SpotifyClientCredentials(client_id=client_id,client_secret=secret)\n",
    "sp = spotipy.Spotify(client_credentials_manager=client_credentials_manager)"
   ]
  },
  {
   "cell_type": "markdown",
   "id": "40b547ad",
   "metadata": {},
   "source": [
    "## Functions for data extraction"
   ]
  },
  {
   "cell_type": "markdown",
   "id": "a331fe1b",
   "metadata": {},
   "source": [
    "### Get track data (uri, name, album, artist name, release date, explicit T/F, duration in mins)"
   ]
  },
  {
   "cell_type": "markdown",
   "id": "12b10174",
   "metadata": {},
   "source": [
    "#### Create track container dictionaries\n",
    "\n",
    "* Note that since tracks variable is no created in cell with function call, subsequent calls will be appended to the same dictionary"
   ]
  },
  {
   "cell_type": "code",
   "execution_count": 12,
   "id": "0d2b9761",
   "metadata": {},
   "outputs": [],
   "source": [
    "tracks = []"
   ]
  },
  {
   "cell_type": "markdown",
   "id": "d7f80b09",
   "metadata": {},
   "source": [
    "#### Function to extract all the track ids from your playlist:"
   ]
  },
  {
   "cell_type": "code",
   "execution_count": 13,
   "id": "2937f7c7",
   "metadata": {},
   "outputs": [],
   "source": [
    "def get_track_ids(playlist_id):\n",
    "    music_id_list = []\n",
    "    playlist = sp.playlist(playlist_id)\n",
    "    for item in playlist['tracks']['items']:\n",
    "        music_track = item['track']\n",
    "        music_id_list.append(music_track['id'])\n",
    "    return music_id_list "
   ]
  },
  {
   "cell_type": "markdown",
   "id": "d6f73ab3",
   "metadata": {},
   "source": [
    "#### Function to extract all the details of each track by passing its ID:"
   ]
  },
  {
   "cell_type": "code",
   "execution_count": 14,
   "id": "e6abd891",
   "metadata": {},
   "outputs": [],
   "source": [
    "def get_track_data(track_id):\n",
    "    meta = sp.track(track_id)\n",
    "    track_details = {'uri': meta['uri'],\n",
    "                    'name': meta['name'],\n",
    "                    'album': meta['album']['name'],\n",
    "                    'artist': meta['album']['artists'][0]['name'],\n",
    "                    'release_date': meta['album']['release_date'],\n",
    "                    'explicit': meta['explicit'],\n",
    "                    'duration_in_mins': round((meta['duration_ms'] * 0.001) / 60.0, 2)}\n",
    "    return track_details"
   ]
  },
  {
   "cell_type": "markdown",
   "id": "d9084fa9",
   "metadata": {},
   "source": [
    "####  Extract track data"
   ]
  },
  {
   "cell_type": "markdown",
   "id": "20162763",
   "metadata": {},
   "source": [
    "Extract info of each track\n",
    "\n",
    "For testing:  playlist_id = '0qfagBJB5ou0r1kwQDZ8Op'"
   ]
  },
  {
   "cell_type": "code",
   "execution_count": 15,
   "id": "da7caf3e",
   "metadata": {},
   "outputs": [
    {
     "name": "stdout",
     "output_type": "stream",
     "text": [
      "Enter the playlist id0qfagBJB5ou0r1kwQDZ8Op\n",
      "21\n",
      "['0bXpmJyHHYPk6QBFj25bYF', '0Xy9xPPs2zRRFqljGqKXel', '0RqRN88qFUEeOQZ7VklA14', '1QZJiYulh7ak7GpZ8OAdwI', '0wrBkSiN1Y1StFR1Q3ZC28', '4Q2UM2QSR7Gye03jvl4Rdw', '5urkJ8dcmxtvsnruNfx6ZS', '6ujlgkgbsrPskgWslEcZmR', '3pyTksNccLM1jRvzQ4zTke', '7AiIlhSSVKAyMJTygWuut2', '7pKfPomDEeI4TPT6EOYjn9', '0WWz2AaqxLoO0fa9ou6Fqc', '5qJbIYo8AitajCbnOGPIvI', '7IbMonU3CRITpQ0cRVThsV', '5yEPxDjbbzUzyauGtnmVEC', '2gANywSFYF58YFMPdDSAjC', '29zkoUsOE50f0I3n44LjjU', '6d3geXDfoj6hz882o9Ip9S', '2UKYMN7VnsQo40n0qCt6Sa', '6Prs4p7iVZxODcO62NIiA6', '7kCrYUDtWsPldohOKPTKPL']\n"
     ]
    }
   ],
   "source": [
    "# Get the ids for all the songs in your playlist\n",
    "playlist_id = input('Enter the playlist id')\n",
    "track_ids = get_track_ids(playlist_id)\n",
    "print(len(track_ids))\n",
    "print(track_ids)\n",
    "\n",
    "#  Loop over track ids and get their data points\n",
    "for i in range(len(track_ids)):\n",
    "    time.sleep(.5)\n",
    "    track = get_track_data(track_ids[i])\n",
    "    tracks.append(track)"
   ]
  },
  {
   "cell_type": "markdown",
   "id": "dcfa6950",
   "metadata": {},
   "source": [
    "#### Create dataframe"
   ]
  },
  {
   "cell_type": "code",
   "execution_count": 22,
   "id": "6d5ccf07",
   "metadata": {},
   "outputs": [
    {
     "data": {
      "text/html": [
       "<div>\n",
       "<style scoped>\n",
       "    .dataframe tbody tr th:only-of-type {\n",
       "        vertical-align: middle;\n",
       "    }\n",
       "\n",
       "    .dataframe tbody tr th {\n",
       "        vertical-align: top;\n",
       "    }\n",
       "\n",
       "    .dataframe thead th {\n",
       "        text-align: right;\n",
       "    }\n",
       "</style>\n",
       "<table border=\"1\" class=\"dataframe\">\n",
       "  <thead>\n",
       "    <tr style=\"text-align: right;\">\n",
       "      <th></th>\n",
       "      <th>uri</th>\n",
       "      <th>name</th>\n",
       "      <th>album</th>\n",
       "      <th>artist</th>\n",
       "      <th>release_date</th>\n",
       "      <th>explicit</th>\n",
       "      <th>duration_in_mins</th>\n",
       "    </tr>\n",
       "  </thead>\n",
       "  <tbody>\n",
       "    <tr>\n",
       "      <th>0</th>\n",
       "      <td>spotify:track:0bXpmJyHHYPk6QBFj25bYF</td>\n",
       "      <td>Intro</td>\n",
       "      <td>xx</td>\n",
       "      <td>The xx</td>\n",
       "      <td>2009-08-16</td>\n",
       "      <td>False</td>\n",
       "      <td>2.13</td>\n",
       "    </tr>\n",
       "    <tr>\n",
       "      <th>1</th>\n",
       "      <td>spotify:track:0Xy9xPPs2zRRFqljGqKXel</td>\n",
       "      <td>Pyro</td>\n",
       "      <td>Come Around Sundown</td>\n",
       "      <td>Kings of Leon</td>\n",
       "      <td>2010-10-19</td>\n",
       "      <td>False</td>\n",
       "      <td>4.18</td>\n",
       "    </tr>\n",
       "    <tr>\n",
       "      <th>2</th>\n",
       "      <td>spotify:track:0RqRN88qFUEeOQZ7VklA14</td>\n",
       "      <td>Restless</td>\n",
       "      <td>Music Complete</td>\n",
       "      <td>New Order</td>\n",
       "      <td>2015-09-25</td>\n",
       "      <td>False</td>\n",
       "      <td>5.47</td>\n",
       "    </tr>\n",
       "    <tr>\n",
       "      <th>3</th>\n",
       "      <td>spotify:track:1QZJiYulh7ak7GpZ8OAdwI</td>\n",
       "      <td>Control</td>\n",
       "      <td>After the Disco</td>\n",
       "      <td>Broken Bells</td>\n",
       "      <td>2014-01-13</td>\n",
       "      <td>False</td>\n",
       "      <td>3.69</td>\n",
       "    </tr>\n",
       "    <tr>\n",
       "      <th>4</th>\n",
       "      <td>spotify:track:0wrBkSiN1Y1StFR1Q3ZC28</td>\n",
       "      <td>All I'm Saying</td>\n",
       "      <td>La Petite Mort</td>\n",
       "      <td>James</td>\n",
       "      <td>2014-06-02</td>\n",
       "      <td>False</td>\n",
       "      <td>4.97</td>\n",
       "    </tr>\n",
       "  </tbody>\n",
       "</table>\n",
       "</div>"
      ],
      "text/plain": [
       "                                    uri            name                album  \\\n",
       "0  spotify:track:0bXpmJyHHYPk6QBFj25bYF           Intro                   xx   \n",
       "1  spotify:track:0Xy9xPPs2zRRFqljGqKXel            Pyro  Come Around Sundown   \n",
       "2  spotify:track:0RqRN88qFUEeOQZ7VklA14        Restless       Music Complete   \n",
       "3  spotify:track:1QZJiYulh7ak7GpZ8OAdwI         Control      After the Disco   \n",
       "4  spotify:track:0wrBkSiN1Y1StFR1Q3ZC28  All I'm Saying       La Petite Mort   \n",
       "\n",
       "          artist release_date  explicit  duration_in_mins  \n",
       "0         The xx   2009-08-16     False              2.13  \n",
       "1  Kings of Leon   2010-10-19     False              4.18  \n",
       "2      New Order   2015-09-25     False              5.47  \n",
       "3   Broken Bells   2014-01-13     False              3.69  \n",
       "4          James   2014-06-02     False              4.97  "
      ]
     },
     "execution_count": 22,
     "metadata": {},
     "output_type": "execute_result"
    }
   ],
   "source": [
    "df = pd.DataFrame(tracks)\n",
    "df.head()"
   ]
  },
  {
   "cell_type": "code",
   "execution_count": null,
   "id": "cbdcee6d",
   "metadata": {},
   "outputs": [],
   "source": []
  },
  {
   "cell_type": "markdown",
   "id": "e34590eb",
   "metadata": {},
   "source": [
    "### Get artist data (id, artist name, genre, popularity, followers)"
   ]
  },
  {
   "cell_type": "markdown",
   "id": "5f060bf6",
   "metadata": {},
   "source": [
    "#### Create track container dictionaries\n",
    "\n",
    "* Note that since tracks variable is no created in cell with function call, subsequent calls will be appended to the same dictionary"
   ]
  },
  {
   "cell_type": "code",
   "execution_count": 26,
   "id": "85d973dd",
   "metadata": {},
   "outputs": [],
   "source": [
    "artists = []"
   ]
  },
  {
   "cell_type": "markdown",
   "id": "fe79cf98",
   "metadata": {},
   "source": [
    "#### Function to extract all of the tracks' artist ids from your playlist:"
   ]
  },
  {
   "cell_type": "code",
   "execution_count": 59,
   "id": "33b58283",
   "metadata": {},
   "outputs": [],
   "source": [
    "def get_artist_ids(playlist_id):\n",
    "    artist_id_list = []\n",
    "    playlist = sp.playlist(playlist_id)\n",
    "    for item in playlist['tracks']['items']:\n",
    "        music_track = item['track']\n",
    "        artist_id_list.append(music_track['artists'][0]['id'])\n",
    "    return artist_id_list "
   ]
  },
  {
   "cell_type": "markdown",
   "id": "4b2d2c39",
   "metadata": {},
   "source": [
    "#### Function to extract all the details of each artist by passing their ID:"
   ]
  },
  {
   "cell_type": "code",
   "execution_count": 61,
   "id": "bb0a487d",
   "metadata": {},
   "outputs": [],
   "source": [
    "def get_artist_data(artist_id):\n",
    "    meta = sp.artist(artist_id)\n",
    "    artist_details = {'artist id': meta['id'],\n",
    "                    'artist name': meta['name'],\n",
    "                    'genres': meta['genres'],\n",
    "                    'popularity': meta['popularity'],\n",
    "                    'followers': meta['followers']['total']\n",
    "                    }\n",
    "    return artist_details"
   ]
  },
  {
   "cell_type": "markdown",
   "id": "d950b95d",
   "metadata": {},
   "source": [
    "####  Extract artist data"
   ]
  },
  {
   "cell_type": "markdown",
   "id": "59d323ff",
   "metadata": {},
   "source": [
    "Extract artist data of each track\n",
    "\n",
    "For testing:  playlist_id = '0qfagBJB5ou0r1kwQDZ8Op'"
   ]
  },
  {
   "cell_type": "code",
   "execution_count": 64,
   "id": "29869061",
   "metadata": {},
   "outputs": [
    {
     "name": "stdout",
     "output_type": "stream",
     "text": [
      "Enter the playlist id0qfagBJB5ou0r1kwQDZ8Op\n",
      "21\n",
      "['3iOvXCl6edW5Um0fXEBRXy', '2qk9voo8llSGYcZ6xrBzKx', '0yNLKJebCb8Aueb54LYya3', '6dgwEwnK0YtDfS9XhRwBTG', '0qLNsNKm8bQcMoRFkR8Hmh', '2DaxqgrOhkeH0fpeiQq2f4', '3Bf4u6r96pGx1eIbaGqfvf', '7sjttK1WcZeyLPn3IsQ62L', '1eClJfHLoDI4rZe5HxzBFv', '4STHEaNw4mPZ2tzheohgXB', '4x1nvY2FN8jxqAFA0DA02H', '4gzpq5DPGxSnKTe4SA8HAU', '0qLNsNKm8bQcMoRFkR8Hmh', '7sjttK1WcZeyLPn3IsQ62L', '2cGwlqi3k18jFpUyTrsR84', '2DaxqgrOhkeH0fpeiQq2f4', '0k17h0D3J5VfsdmQ1iZtE9', '4W48hZAnAHVOC2c8WH8pcq', '3OsRAKCvk37zwYcnzRf5XF', '63MQldklfxkjYDoUE4Tppz', '51Blml2LZPmy7TTiAg47vQ']\n"
     ]
    }
   ],
   "source": [
    "# Get the ids for all the songs in your playlist\n",
    "playlist_id = input('Enter the playlist id')\n",
    "artist_ids = get_artist_ids(playlist_id)\n",
    "print(len(artist_ids))\n",
    "print(artist_ids)\n",
    "\n",
    "#  Loop over track ids and get their data points\n",
    "for i in range(len(artist_ids)):\n",
    "    time.sleep(.5)\n",
    "    artist = get_artist_data(artist_ids[i])\n",
    "    artists.append(artist)"
   ]
  },
  {
   "cell_type": "markdown",
   "id": "d444c477",
   "metadata": {},
   "source": [
    "#### Create dataframe"
   ]
  },
  {
   "cell_type": "code",
   "execution_count": 67,
   "id": "943ca035",
   "metadata": {},
   "outputs": [
    {
     "data": {
      "text/html": [
       "<div>\n",
       "<style scoped>\n",
       "    .dataframe tbody tr th:only-of-type {\n",
       "        vertical-align: middle;\n",
       "    }\n",
       "\n",
       "    .dataframe tbody tr th {\n",
       "        vertical-align: top;\n",
       "    }\n",
       "\n",
       "    .dataframe thead th {\n",
       "        text-align: right;\n",
       "    }\n",
       "</style>\n",
       "<table border=\"1\" class=\"dataframe\">\n",
       "  <thead>\n",
       "    <tr style=\"text-align: right;\">\n",
       "      <th></th>\n",
       "      <th>artist id</th>\n",
       "      <th>artist name</th>\n",
       "      <th>genres</th>\n",
       "      <th>popularity</th>\n",
       "      <th>followers</th>\n",
       "    </tr>\n",
       "  </thead>\n",
       "  <tbody>\n",
       "    <tr>\n",
       "      <th>0</th>\n",
       "      <td>3iOvXCl6edW5Um0fXEBRXy</td>\n",
       "      <td>The xx</td>\n",
       "      <td>[downtempo, dream pop, indietronica]</td>\n",
       "      <td>70</td>\n",
       "      <td>3788369</td>\n",
       "    </tr>\n",
       "    <tr>\n",
       "      <th>1</th>\n",
       "      <td>2qk9voo8llSGYcZ6xrBzKx</td>\n",
       "      <td>Kings of Leon</td>\n",
       "      <td>[modern rock, rock]</td>\n",
       "      <td>78</td>\n",
       "      <td>4895360</td>\n",
       "    </tr>\n",
       "    <tr>\n",
       "      <th>2</th>\n",
       "      <td>0yNLKJebCb8Aueb54LYya3</td>\n",
       "      <td>New Order</td>\n",
       "      <td>[art rock, dance rock, madchester, new romanti...</td>\n",
       "      <td>69</td>\n",
       "      <td>1617097</td>\n",
       "    </tr>\n",
       "    <tr>\n",
       "      <th>3</th>\n",
       "      <td>6dgwEwnK0YtDfS9XhRwBTG</td>\n",
       "      <td>Broken Bells</td>\n",
       "      <td>[alternative dance, alternative rock, indie po...</td>\n",
       "      <td>61</td>\n",
       "      <td>514191</td>\n",
       "    </tr>\n",
       "    <tr>\n",
       "      <th>4</th>\n",
       "      <td>0qLNsNKm8bQcMoRFkR8Hmh</td>\n",
       "      <td>James</td>\n",
       "      <td>[britpop, madchester, new wave, new wave pop, ...</td>\n",
       "      <td>64</td>\n",
       "      <td>429477</td>\n",
       "    </tr>\n",
       "  </tbody>\n",
       "</table>\n",
       "</div>"
      ],
      "text/plain": [
       "                artist id    artist name  \\\n",
       "0  3iOvXCl6edW5Um0fXEBRXy         The xx   \n",
       "1  2qk9voo8llSGYcZ6xrBzKx  Kings of Leon   \n",
       "2  0yNLKJebCb8Aueb54LYya3      New Order   \n",
       "3  6dgwEwnK0YtDfS9XhRwBTG   Broken Bells   \n",
       "4  0qLNsNKm8bQcMoRFkR8Hmh          James   \n",
       "\n",
       "                                              genres  popularity  followers  \n",
       "0               [downtempo, dream pop, indietronica]          70    3788369  \n",
       "1                                [modern rock, rock]          78    4895360  \n",
       "2  [art rock, dance rock, madchester, new romanti...          69    1617097  \n",
       "3  [alternative dance, alternative rock, indie po...          61     514191  \n",
       "4  [britpop, madchester, new wave, new wave pop, ...          64     429477  "
      ]
     },
     "execution_count": 67,
     "metadata": {},
     "output_type": "execute_result"
    }
   ],
   "source": [
    "artist_df = pd.DataFrame(artists)\n",
    "artist_df.head()"
   ]
  },
  {
   "cell_type": "code",
   "execution_count": null,
   "id": "5f6c9eb6",
   "metadata": {},
   "outputs": [],
   "source": []
  },
  {
   "cell_type": "code",
   "execution_count": null,
   "id": "778ef677",
   "metadata": {},
   "outputs": [],
   "source": []
  },
  {
   "cell_type": "code",
   "execution_count": null,
   "id": "00469a51",
   "metadata": {},
   "outputs": [],
   "source": []
  },
  {
   "cell_type": "markdown",
   "id": "51d5b24e",
   "metadata": {},
   "source": [
    "### Get track's audio features directly from playlist (for concept only, still a WIP)"
   ]
  },
  {
   "cell_type": "markdown",
   "id": "d98e675c",
   "metadata": {},
   "source": [
    "#### Function to extract each track's audio features from a playlist directly"
   ]
  },
  {
   "cell_type": "code",
   "execution_count": 16,
   "id": "810892fc",
   "metadata": {},
   "outputs": [],
   "source": [
    "def get_playlist_tracks(playlist_id):\n",
    "    track_attributes = sp.playlist_tracks(playlist_id)\n",
    "    return track_attributes"
   ]
  },
  {
   "cell_type": "code",
   "execution_count": 17,
   "id": "9860e816",
   "metadata": {},
   "outputs": [],
   "source": [
    "playlist_tracks_data = []\n",
    "playlist_ids = ['0qfagBJB5ou0r1kwQDZ8Op']\n",
    "\n",
    "#  Loop over playlist ids and get their data points\n",
    "for i in range(len(playlist_ids)):\n",
    "    time.sleep(.5)\n",
    "    playlist_track = get_playlist_tracks(playlist_ids[i])\n",
    "    playlist_tracks_data.append(playlist_track)"
   ]
  },
  {
   "cell_type": "code",
   "execution_count": 18,
   "id": "1feac06d",
   "metadata": {},
   "outputs": [
    {
     "data": {
      "text/html": [
       "<div>\n",
       "<style scoped>\n",
       "    .dataframe tbody tr th:only-of-type {\n",
       "        vertical-align: middle;\n",
       "    }\n",
       "\n",
       "    .dataframe tbody tr th {\n",
       "        vertical-align: top;\n",
       "    }\n",
       "\n",
       "    .dataframe thead th {\n",
       "        text-align: right;\n",
       "    }\n",
       "</style>\n",
       "<table border=\"1\" class=\"dataframe\">\n",
       "  <thead>\n",
       "    <tr style=\"text-align: right;\">\n",
       "      <th></th>\n",
       "      <th>href</th>\n",
       "      <th>items</th>\n",
       "      <th>limit</th>\n",
       "      <th>next</th>\n",
       "      <th>offset</th>\n",
       "      <th>previous</th>\n",
       "      <th>total</th>\n",
       "    </tr>\n",
       "  </thead>\n",
       "  <tbody>\n",
       "    <tr>\n",
       "      <th>0</th>\n",
       "      <td>https://api.spotify.com/v1/playlists/0qfagBJB5...</td>\n",
       "      <td>[{'added_at': '2015-12-04T17:25:30Z', 'added_b...</td>\n",
       "      <td>100</td>\n",
       "      <td>None</td>\n",
       "      <td>0</td>\n",
       "      <td>None</td>\n",
       "      <td>21</td>\n",
       "    </tr>\n",
       "  </tbody>\n",
       "</table>\n",
       "</div>"
      ],
      "text/plain": [
       "                                                href  \\\n",
       "0  https://api.spotify.com/v1/playlists/0qfagBJB5...   \n",
       "\n",
       "                                               items  limit  next  offset  \\\n",
       "0  [{'added_at': '2015-12-04T17:25:30Z', 'added_b...    100  None       0   \n",
       "\n",
       "  previous  total  \n",
       "0     None     21  "
      ]
     },
     "execution_count": 18,
     "metadata": {},
     "output_type": "execute_result"
    }
   ],
   "source": [
    "playlist_df = pd.DataFrame(playlist_tracks_data)\n",
    "playlist_df"
   ]
  },
  {
   "cell_type": "code",
   "execution_count": null,
   "id": "3d62a9e3",
   "metadata": {},
   "outputs": [],
   "source": [
    "\n"
   ]
  },
  {
   "cell_type": "code",
   "execution_count": null,
   "id": "cf9c212c",
   "metadata": {},
   "outputs": [],
   "source": []
  },
  {
   "cell_type": "code",
   "execution_count": null,
   "id": "333966db",
   "metadata": {},
   "outputs": [],
   "source": []
  },
  {
   "cell_type": "code",
   "execution_count": null,
   "id": "f1573dc6",
   "metadata": {},
   "outputs": [],
   "source": []
  },
  {
   "cell_type": "code",
   "execution_count": null,
   "id": "fc98966b",
   "metadata": {},
   "outputs": [],
   "source": []
  },
  {
   "cell_type": "code",
   "execution_count": null,
   "id": "0d1bec9d",
   "metadata": {},
   "outputs": [],
   "source": []
  },
  {
   "cell_type": "code",
   "execution_count": null,
   "id": "e74b32df",
   "metadata": {},
   "outputs": [],
   "source": []
  }
 ],
 "metadata": {
  "kernelspec": {
   "display_name": "Python 3",
   "language": "python",
   "name": "python3"
  },
  "language_info": {
   "codemirror_mode": {
    "name": "ipython",
    "version": 3
   },
   "file_extension": ".py",
   "mimetype": "text/x-python",
   "name": "python",
   "nbconvert_exporter": "python",
   "pygments_lexer": "ipython3",
   "version": "3.8.8"
  }
 },
 "nbformat": 4,
 "nbformat_minor": 5
}
