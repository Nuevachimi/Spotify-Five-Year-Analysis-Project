{
 "cells": [
  {
   "cell_type": "markdown",
   "id": "955a2ba7",
   "metadata": {},
   "source": [
    "# Spotify Five Year Analysis Project: Dataset Creation Notebook"
   ]
  },
  {
   "cell_type": "markdown",
   "id": "2cc859b2",
   "metadata": {},
   "source": [
    "## Imports and Setup"
   ]
  },
  {
   "cell_type": "markdown",
   "id": "d6bc9dd2",
   "metadata": {},
   "source": [
    "### Imports"
   ]
  },
  {
   "cell_type": "code",
   "execution_count": 1,
   "id": "0b59d95a",
   "metadata": {},
   "outputs": [],
   "source": [
    "import json\n",
    "import time\n",
    "from tqdm import tqdm\n",
    "import pandas as pd\n",
    "import spotipy\n",
    "from spotipy.oauth2 import SpotifyClientCredentials\n",
    "import creds"
   ]
  },
  {
   "cell_type": "markdown",
   "id": "edf87cd0",
   "metadata": {},
   "source": [
    "### Set display options"
   ]
  },
  {
   "cell_type": "code",
   "execution_count": 2,
   "id": "3853f33d",
   "metadata": {},
   "outputs": [],
   "source": [
    "pd.set_option('display.max_columns', 500)"
   ]
  },
  {
   "cell_type": "markdown",
   "id": "d9793a12",
   "metadata": {},
   "source": [
    "### Spotify Credentials\n",
    "\n",
    "#### Load credentials"
   ]
  },
  {
   "cell_type": "markdown",
   "id": "5638d9ef",
   "metadata": {},
   "source": [
    "Loads the creds.py file, containing the following two lines for variables client_id and secret, which is gitignored for sharing. \n",
    "\n",
    "client_id = 'Your Client ID Here'<br />\n",
    "secret = 'Your secret here'"
   ]
  },
  {
   "cell_type": "code",
   "execution_count": 3,
   "id": "5a782b27",
   "metadata": {},
   "outputs": [],
   "source": [
    "%run -i 'creds.py'"
   ]
  },
  {
   "cell_type": "markdown",
   "id": "beb8c920",
   "metadata": {},
   "source": [
    "#### Set credentials"
   ]
  },
  {
   "cell_type": "code",
   "execution_count": 4,
   "id": "07c33691",
   "metadata": {},
   "outputs": [],
   "source": [
    "client_credentials_manager = SpotifyClientCredentials(client_id=client_id,client_secret=secret)\n",
    "sp = spotipy.Spotify(client_credentials_manager=client_credentials_manager)"
   ]
  },
  {
   "cell_type": "markdown",
   "id": "60c88acb",
   "metadata": {},
   "source": [
    "## Functions for data extraction"
   ]
  },
  {
   "cell_type": "markdown",
   "id": "4d0f12f6",
   "metadata": {},
   "source": [
    "### Supporting function definitions"
   ]
  },
  {
   "cell_type": "markdown",
   "id": "5bac2af6",
   "metadata": {},
   "source": [
    "#### Album artists names function"
   ]
  },
  {
   "cell_type": "code",
   "execution_count": 5,
   "id": "c3bd5cc8",
   "metadata": {},
   "outputs": [],
   "source": [
    "def get_all_album_artists_names(track_id):\n",
    "    meta = sp.track(track_id)\n",
    "    album_artist_list = []\n",
    "    for item in (meta['album']['artists']):\n",
    "        album_artist = item['name']\n",
    "        album_artist_list.append(album_artist)\n",
    "    return album_artist_list     "
   ]
  },
  {
   "cell_type": "markdown",
   "id": "25b613c5",
   "metadata": {},
   "source": [
    "Test with track id '3fFBZvG777xoKyvcrBq7lc?si=f241a44d776b451a'"
   ]
  },
  {
   "cell_type": "code",
   "execution_count": 6,
   "id": "1f92308c",
   "metadata": {},
   "outputs": [
    {
     "data": {
      "text/plain": [
       "['Future', 'Juice WRLD']"
      ]
     },
     "execution_count": 6,
     "metadata": {},
     "output_type": "execute_result"
    }
   ],
   "source": [
    "get_all_album_artists_names('3fFBZvG777xoKyvcrBq7lc?si=f241a44d776b451a')"
   ]
  },
  {
   "cell_type": "markdown",
   "id": "f2a8d8ae",
   "metadata": {},
   "source": [
    "#### Album artists ids function"
   ]
  },
  {
   "cell_type": "code",
   "execution_count": 7,
   "id": "f6857fa8",
   "metadata": {},
   "outputs": [],
   "source": [
    "def get_all_album_artists_ids(track_id):\n",
    "    meta = sp.track(track_id)\n",
    "    album_artist_id_list = []\n",
    "    for item in (meta['album']['artists']):\n",
    "        album_artist_id = item['id']\n",
    "        album_artist_id_list.append(album_artist_id)\n",
    "    return album_artist_id_list     "
   ]
  },
  {
   "cell_type": "markdown",
   "id": "0d536eb3",
   "metadata": {},
   "source": [
    "Test with track id '3fFBZvG777xoKyvcrBq7lc?si=f241a44d776b451a'"
   ]
  },
  {
   "cell_type": "code",
   "execution_count": 8,
   "id": "9e460dab",
   "metadata": {},
   "outputs": [
    {
     "data": {
      "text/plain": [
       "['1RyvyyTE3xzB2ZywiAwp0i', '4MCBfE4596Uoi2O4DtmEMz']"
      ]
     },
     "execution_count": 8,
     "metadata": {},
     "output_type": "execute_result"
    }
   ],
   "source": [
    "get_all_album_artists_ids('3fFBZvG777xoKyvcrBq7lc?si=f241a44d776b451a')"
   ]
  },
  {
   "cell_type": "markdown",
   "id": "338d2235",
   "metadata": {},
   "source": [
    "#### Album artists genres function"
   ]
  },
  {
   "cell_type": "code",
   "execution_count": 9,
   "id": "626c7c00",
   "metadata": {},
   "outputs": [],
   "source": [
    "def get_all_album_artists_genres(track_id):\n",
    "    meta = sp.track(track_id)\n",
    "    album_artist_genre_list = []\n",
    "    for item in (meta['album']['artists']):\n",
    "        album_artist_id = item['id']\n",
    "        album_artist_genres = sp.artist(album_artist_id)['genres']\n",
    "        album_artist_genre_list.append(album_artist_genres)\n",
    "    return album_artist_genre_list     "
   ]
  },
  {
   "cell_type": "markdown",
   "id": "eed0d25e",
   "metadata": {},
   "source": [
    "Test with track id '3fFBZvG777xoKyvcrBq7lc?si=f241a44d776b451a'"
   ]
  },
  {
   "cell_type": "code",
   "execution_count": 10,
   "id": "ff8b46e9",
   "metadata": {},
   "outputs": [
    {
     "data": {
      "text/plain": [
       "[['atl hip hop', 'hip hop', 'pop rap', 'rap', 'southern hip hop', 'trap'],\n",
       " ['chicago rap', 'melodic rap']]"
      ]
     },
     "execution_count": 10,
     "metadata": {},
     "output_type": "execute_result"
    }
   ],
   "source": [
    "get_all_album_artists_genres('3fFBZvG777xoKyvcrBq7lc?si=f241a44d776b451a')"
   ]
  },
  {
   "cell_type": "markdown",
   "id": "329c86cf",
   "metadata": {},
   "source": [
    "#### Album artists popularity function"
   ]
  },
  {
   "cell_type": "code",
   "execution_count": 11,
   "id": "335255eb",
   "metadata": {},
   "outputs": [],
   "source": [
    "def get_all_album_artists_popularity(track_id):\n",
    "    meta = sp.track(track_id)\n",
    "    album_artist_popularity_list = []\n",
    "    for item in (meta['album']['artists']):\n",
    "        album_artist_id = item['id']\n",
    "        album_artist_popularity = sp.artist(album_artist_id)['popularity']\n",
    "        album_artist_popularity_list.append(album_artist_popularity)\n",
    "    return album_artist_popularity_list     "
   ]
  },
  {
   "cell_type": "markdown",
   "id": "f9473718",
   "metadata": {},
   "source": [
    "Test with track id '3fFBZvG777xoKyvcrBq7lc?si=f241a44d776b451a'"
   ]
  },
  {
   "cell_type": "code",
   "execution_count": 12,
   "id": "b9dd908f",
   "metadata": {},
   "outputs": [
    {
     "data": {
      "text/plain": [
       "[91, 97]"
      ]
     },
     "execution_count": 12,
     "metadata": {},
     "output_type": "execute_result"
    }
   ],
   "source": [
    "get_all_album_artists_popularity('3fFBZvG777xoKyvcrBq7lc?si=f241a44d776b451a')"
   ]
  },
  {
   "cell_type": "markdown",
   "id": "2fb38e93",
   "metadata": {},
   "source": [
    "#### Album artists followers function"
   ]
  },
  {
   "cell_type": "code",
   "execution_count": 13,
   "id": "e5d2b194",
   "metadata": {},
   "outputs": [],
   "source": [
    "def get_all_album_artists_followers(track_id):\n",
    "    meta = sp.track(track_id)\n",
    "    album_artist_followers_list = []\n",
    "    for item in (meta['album']['artists']):\n",
    "        album_artist_id = item['id']\n",
    "        album_artist_followers = sp.artist(album_artist_id)['followers']['total']\n",
    "        album_artist_followers_list.append(album_artist_followers)\n",
    "    return album_artist_followers_list     "
   ]
  },
  {
   "cell_type": "markdown",
   "id": "6ee2a330",
   "metadata": {},
   "source": [
    "Test with track id '3fFBZvG777xoKyvcrBq7lc?si=f241a44d776b451a'"
   ]
  },
  {
   "cell_type": "code",
   "execution_count": 14,
   "id": "f599a7dd",
   "metadata": {},
   "outputs": [
    {
     "data": {
      "text/plain": [
       "[10978631, 21538862]"
      ]
     },
     "execution_count": 14,
     "metadata": {},
     "output_type": "execute_result"
    }
   ],
   "source": [
    "get_all_album_artists_followers('3fFBZvG777xoKyvcrBq7lc?si=f241a44d776b451a')"
   ]
  },
  {
   "cell_type": "markdown",
   "id": "c4242784",
   "metadata": {},
   "source": [
    "#### Track artists names function"
   ]
  },
  {
   "cell_type": "code",
   "execution_count": 15,
   "id": "31b98ebe",
   "metadata": {},
   "outputs": [],
   "source": [
    "def get_all_track_artists_names(track_id):\n",
    "    meta = sp.track(track_id)\n",
    "    track_artist_list = []\n",
    "    for item in (meta['artists']):\n",
    "        track_artist = item['name']\n",
    "        track_artist_list.append(track_artist)\n",
    "    return track_artist_list     "
   ]
  },
  {
   "cell_type": "markdown",
   "id": "1fb57abb",
   "metadata": {},
   "source": [
    "Test with track id '3fFBZvG777xoKyvcrBq7lc?si=f241a44d776b451a'"
   ]
  },
  {
   "cell_type": "code",
   "execution_count": 16,
   "id": "1031778a",
   "metadata": {},
   "outputs": [
    {
     "data": {
      "text/plain": [
       "['Future', 'Juice WRLD', 'Young Thug']"
      ]
     },
     "execution_count": 16,
     "metadata": {},
     "output_type": "execute_result"
    }
   ],
   "source": [
    "get_all_track_artists_names('3fFBZvG777xoKyvcrBq7lc?si=f241a44d776b451a')"
   ]
  },
  {
   "cell_type": "markdown",
   "id": "24968d00",
   "metadata": {},
   "source": [
    "#### Track artists ids function"
   ]
  },
  {
   "cell_type": "code",
   "execution_count": 17,
   "id": "7593a54d",
   "metadata": {},
   "outputs": [],
   "source": [
    "def get_all_track_artists_ids(track_id):\n",
    "    meta = sp.track(track_id)\n",
    "    track_artist_id_list = []\n",
    "    for item in (meta['artists']):\n",
    "        track_artist = item['id']\n",
    "        track_artist_id_list.append(track_artist)\n",
    "    return track_artist_id_list     "
   ]
  },
  {
   "cell_type": "markdown",
   "id": "ab24cccc",
   "metadata": {},
   "source": [
    "Test with track id '3fFBZvG777xoKyvcrBq7lc?si=f241a44d776b451a'"
   ]
  },
  {
   "cell_type": "code",
   "execution_count": 18,
   "id": "550c8016",
   "metadata": {},
   "outputs": [
    {
     "data": {
      "text/plain": [
       "['1RyvyyTE3xzB2ZywiAwp0i', '4MCBfE4596Uoi2O4DtmEMz', '50co4Is1HCEo8bhOyUWKpn']"
      ]
     },
     "execution_count": 18,
     "metadata": {},
     "output_type": "execute_result"
    }
   ],
   "source": [
    "get_all_track_artists_ids('3fFBZvG777xoKyvcrBq7lc?si=f241a44d776b451a')"
   ]
  },
  {
   "cell_type": "markdown",
   "id": "9e72e24a",
   "metadata": {},
   "source": [
    "#### Track artists genres function"
   ]
  },
  {
   "cell_type": "code",
   "execution_count": 19,
   "id": "b9e8c0ac",
   "metadata": {},
   "outputs": [],
   "source": [
    "def get_all_track_artists_genres(track_id):\n",
    "    meta = sp.track(track_id)\n",
    "    track_artist_genre_list = []\n",
    "    for item in (meta['artists']):\n",
    "        track_artist_id = item['id']\n",
    "        track_artist_genres = sp.artist(track_artist_id)['genres']\n",
    "        track_artist_genre_list.append(track_artist_genres)\n",
    "    return track_artist_genre_list     "
   ]
  },
  {
   "cell_type": "markdown",
   "id": "3019c3b4",
   "metadata": {},
   "source": [
    "Test with track id '3fFBZvG777xoKyvcrBq7lc?si=f241a44d776b451a'"
   ]
  },
  {
   "cell_type": "code",
   "execution_count": 20,
   "id": "76b1a61d",
   "metadata": {},
   "outputs": [
    {
     "data": {
      "text/plain": [
       "[['atl hip hop', 'hip hop', 'pop rap', 'rap', 'southern hip hop', 'trap'],\n",
       " ['chicago rap', 'melodic rap'],\n",
       " ['atl hip hop',\n",
       "  'atl trap',\n",
       "  'gangster rap',\n",
       "  'hip hop',\n",
       "  'melodic rap',\n",
       "  'rap',\n",
       "  'trap']]"
      ]
     },
     "execution_count": 20,
     "metadata": {},
     "output_type": "execute_result"
    }
   ],
   "source": [
    "get_all_track_artists_genres('3fFBZvG777xoKyvcrBq7lc?si=f241a44d776b451a')"
   ]
  },
  {
   "cell_type": "markdown",
   "id": "bd8daacc",
   "metadata": {},
   "source": [
    "#### Track artists popularity function"
   ]
  },
  {
   "cell_type": "code",
   "execution_count": 21,
   "id": "5a92cb21",
   "metadata": {},
   "outputs": [],
   "source": [
    "def get_all_track_artists_popularity(track_id):\n",
    "    meta = sp.track(track_id)\n",
    "    track_artist_popularity_list = []\n",
    "    for item in (meta['artists']):\n",
    "        track_artist_id = item['id']\n",
    "        track_artist_popularity = sp.artist(track_artist_id)['popularity']\n",
    "        track_artist_popularity_list.append(track_artist_popularity)\n",
    "    return track_artist_popularity_list     "
   ]
  },
  {
   "cell_type": "markdown",
   "id": "5c2a036d",
   "metadata": {},
   "source": [
    "Test with track id '3fFBZvG777xoKyvcrBq7lc?si=f241a44d776b451a'"
   ]
  },
  {
   "cell_type": "code",
   "execution_count": 22,
   "id": "34b9047c",
   "metadata": {},
   "outputs": [
    {
     "data": {
      "text/plain": [
       "[91, 97, 90]"
      ]
     },
     "execution_count": 22,
     "metadata": {},
     "output_type": "execute_result"
    }
   ],
   "source": [
    "get_all_track_artists_popularity('3fFBZvG777xoKyvcrBq7lc?si=f241a44d776b451a')"
   ]
  },
  {
   "cell_type": "markdown",
   "id": "e8827e01",
   "metadata": {},
   "source": [
    "#### Track artists followers function"
   ]
  },
  {
   "cell_type": "code",
   "execution_count": 23,
   "id": "58ef44fe",
   "metadata": {},
   "outputs": [],
   "source": [
    "def get_all_track_artists_followers(track_id):\n",
    "    meta = sp.track(track_id)\n",
    "    track_artist_followers_list = []\n",
    "    for item in (meta['artists']):\n",
    "        track_artist_id = item['id']\n",
    "        track_artist_followers = sp.artist(track_artist_id)['followers']['total']\n",
    "        track_artist_followers_list.append(track_artist_followers)\n",
    "    return track_artist_followers_list     "
   ]
  },
  {
   "cell_type": "markdown",
   "id": "067cebd3",
   "metadata": {},
   "source": [
    "Test with track id '3fFBZvG777xoKyvcrBq7lc?si=f241a44d776b451a'"
   ]
  },
  {
   "cell_type": "code",
   "execution_count": 24,
   "id": "701589c3",
   "metadata": {},
   "outputs": [
    {
     "data": {
      "text/plain": [
       "[10978631, 21538862, 6838669]"
      ]
     },
     "execution_count": 24,
     "metadata": {},
     "output_type": "execute_result"
    }
   ],
   "source": [
    "get_all_track_artists_followers('3fFBZvG777xoKyvcrBq7lc?si=f241a44d776b451a')"
   ]
  },
  {
   "cell_type": "markdown",
   "id": "134faadf",
   "metadata": {},
   "source": [
    "### Playlist data return function"
   ]
  },
  {
   "cell_type": "code",
   "execution_count": 28,
   "id": "81228307",
   "metadata": {},
   "outputs": [],
   "source": [
    "def get_playlist_tracks_more_than_100_songs(username, playlist_id):\n",
    "    results = sp.user_playlist_tracks(username, playlist_id)\n",
    "    playlist_name = sp.playlist(playlist_id)['name']\n",
    "    tracks = results['items']\n",
    "    while results['next']:\n",
    "        results = sp.next(results)\n",
    "        tracks.extend(results['items'])\n",
    "    results = tracks    \n",
    "    \n",
    "    pl_id = []\n",
    "    pl_name = []\n",
    "    chart_position = []\n",
    "    album_name = []\n",
    "    album_id = []\n",
    "    album_release_date = []\n",
    "    album_artists = []\n",
    "    album_artists_ids = []\n",
    "    album_artists_genres = []\n",
    "    album_artists_popularity = []\n",
    "    album_artists_followers = []\n",
    "    track_name = []\n",
    "    track_id = []\n",
    "    track_popularity = []\n",
    "    track_explicit = []\n",
    "    track_artists = []\n",
    "    track_artists_ids = []\n",
    "    track_artists_genres = []\n",
    "    track_artists_popularity = []\n",
    "    track_artists_followers = []\n",
    "\n",
    "    for i in tqdm(range(len(results))):\n",
    "        if i == 0:\n",
    "            pl_id = playlist_id\n",
    "            pl_name = playlist_name\n",
    "            chart_position = i + 1\n",
    "            album_name = results[i]['track']['album']['name']\n",
    "            album_id = results[i]['track']['album']['id']\n",
    "            album_release_date = results[i]['track']['album']['release_date']\n",
    "            album_artists = get_all_album_artists_names(results[i]['track']['id'])\n",
    "            album_artists_ids = get_all_album_artists_ids(results[i]['track']['id'])\n",
    "            album_artists_genres = get_all_album_artists_genres(results[i]['track']['id'])\n",
    "            album_artists_popularity = get_all_album_artists_popularity(results[i]['track']['id'])\n",
    "            album_artists_followers = get_all_album_artists_followers(results[i]['track']['id'])\n",
    "            track_name = results[i]['track']['name']\n",
    "            track_id = results[i]['track']['id']\n",
    "            track_popularity = results[i]['track']['popularity']\n",
    "            track_explicit = results[i]['track']['explicit']\n",
    "            track_artists = get_all_track_artists_names(results[i]['track']['id'])\n",
    "            track_artists_ids = get_all_album_artists_ids(results[i]['track']['id'])\n",
    "            track_artists_genres = get_all_album_artists_genres(results[i]['track']['id'])\n",
    "            track_artists_popularity = get_all_album_artists_popularity(results[i]['track']['id'])\n",
    "            track_artists_followers = get_all_album_artists_followers(results[i]['track']['id'])\n",
    "            features = sp.audio_features(track_id)\n",
    "            features_df = pd.DataFrame(data=features, columns=features[0].keys())\n",
    "            features_df['playlist_id'] = [pl_id]\n",
    "            features_df['playlist_name'] = [pl_name]\n",
    "            features_df['position'] = [chart_position]\n",
    "            features_df['album_name'] = [album_name]\n",
    "            features_df['album_id'] = [album_id]\n",
    "            features_df['album_release_date'] = [album_release_date]\n",
    "            features_df['album_artists'] = album_artists\n",
    "            features_df['album_artists_ids'] = [album_artists_ids]\n",
    "            features_df['album_artists_genres'] = [album_artists_genres]\n",
    "            features_df['album_artists_popularity'] = [album_artists_popularity]\n",
    "            features_df['album_artists_followers'] = [album_artists_followers]\n",
    "            features_df['track_name'] = [track_name]\n",
    "            features_df['track_id'] = [track_id]\n",
    "            features_df['track_popularity'] = [track_popularity]\n",
    "            features_df['track_explicit'] = [track_explicit]\n",
    "            features_df['track_artists'] = [track_artists]\n",
    "            features_df['track_artists_ids'] = [track_artists_ids]\n",
    "            features_df['track_artists_genres'] = [track_artists_genres]\n",
    "            features_df['track_artists_popularity'] = [track_artists_popularity]\n",
    "            features_df['track_artists_followers'] = [track_artists_followers]           \n",
    "            features_df = features_df[['playlist_id', 'playlist_name', 'position', \n",
    "                                       'album_name', 'album_id', 'album_release_date', 'album_artists', 'album_artists_ids',\n",
    "                                       'album_artists_genres', 'album_artists_popularity', 'album_artists_followers',\n",
    "                                       'track_name', 'track_id', 'track_popularity', 'track_artists', \n",
    "                                       'track_artists_ids', 'track_artists_genres', 'track_artists_popularity', \n",
    "                                       'track_explicit', 'track_artists_followers', 'danceability', 'energy', \n",
    "                                       'key', 'loudness', 'mode', 'acousticness', 'instrumentalness',\n",
    "                                       'liveness', 'valence', 'tempo',\n",
    "                                       'duration_ms', 'time_signature']]\n",
    "            continue\n",
    "        else:\n",
    "            try:\n",
    "                pl_id = playlist_id\n",
    "                pl_name = playlist_name\n",
    "                chart_position = (i + 1)\n",
    "                album_name = results[i]['track']['album']['name']\n",
    "                album_id = results[i]['track']['album']['id']\n",
    "                album_release_date = results[i]['track']['album']['release_date']\n",
    "                album_artists = get_all_album_artists_names(results[i]['track']['id'])\n",
    "                album_artists_ids = get_all_album_artists_ids(results[i]['track']['id'])\n",
    "                album_artists_genres = get_all_album_artists_genres(results[i]['track']['id'])\n",
    "                album_artists_popularity = get_all_album_artists_popularity(results[i]['track']['id'])\n",
    "                album_artists_followers = get_all_album_artists_followers(results[i]['track']['id'])\n",
    "                track_name = results[i]['track']['name']\n",
    "                track_id = results[i]['track']['id']\n",
    "                track_popularity = results[i]['track']['popularity']\n",
    "                track_artists = get_all_track_artists_names(results[i]['track']['id'])\n",
    "                track_artists_ids = get_all_album_artists_ids(results[i]['track']['id'])\n",
    "                track_artists_genres = get_all_album_artists_genres(results[i]['track']['id'])\n",
    "                track_artists_popularity = get_all_album_artists_popularity(results[i]['track']['id'])\n",
    "                track_explicit = results[i]['track']['explicit']\n",
    "                track_artists_followers = get_all_album_artists_followers(results[i]['track']['id'])\n",
    "                features = sp.audio_features(track_id)\n",
    "                new_row = {'playlist_id':[pl_id],\n",
    "                    'playlist_name': [pl_name],\n",
    "                    'position': [chart_position],\n",
    "                    'album_name': [album_name],\n",
    "                    'album_id': [album_id],\n",
    "                    'album_release_date': [album_release_date],\n",
    "                    'album_artists': [album_artists],\n",
    "                    'album_artists_ids': [album_artists_ids],\n",
    "                    'album_artists_genres': [album_artists_genres],\n",
    "                    'album_artists_popularity': [album_artists_popularity],\n",
    "                    'album_artists_followers': [album_artists_followers],\n",
    "                    'track_name': [track_name],\n",
    "                    'track_id': [track_id],\n",
    "                    'track_popularity': [track_popularity],\n",
    "                    'track_artists': [track_artists],\n",
    "                    'track_artists_ids': [track_artists_ids],\n",
    "                    'track_artists_genres': [track_artists_genres],\n",
    "                    'track_artists_popularity': [track_artists_popularity],\n",
    "                    'track_explicit': [track_explicit],\n",
    "                    'track_artists_followers': [track_artists_followers],\n",
    "                    'danceability':[features[0]['danceability']],\n",
    "                    'energy':[features[0]['energy']],\n",
    "                    'key':[features[0]['key']],\n",
    "                    'loudness':[features[0]['loudness']],\n",
    "                    'mode':[features[0]['mode']],\n",
    "                    'acousticness':[features[0]['acousticness']],\n",
    "                    'instrumentalness':[features[0]['instrumentalness']],\n",
    "                    'liveness':[features[0]['liveness']],\n",
    "                    'valence':[features[0]['valence']],\n",
    "                    'tempo':[features[0]['tempo']],\n",
    "                    'duration_ms':[features[0]['duration_ms']],\n",
    "                    'time_signature':[features[0]['time_signature']]\n",
    "                }\n",
    "\n",
    "                dfs = [features_df, pd.DataFrame(new_row)]\n",
    "                features_df = pd.concat(dfs, ignore_index = True)\n",
    "            except:\n",
    "                continue\n",
    "                \n",
    "    return features_df"
   ]
  },
  {
   "cell_type": "markdown",
   "id": "40d87c6a",
   "metadata": {},
   "source": [
    "## Dataset creation"
   ]
  },
  {
   "cell_type": "markdown",
   "id": "1d6bcc5d",
   "metadata": {},
   "source": [
    "### Billboard 2021 Top Albums chart table"
   ]
  },
  {
   "cell_type": "markdown",
   "id": "2185fc66",
   "metadata": {},
   "source": [
    "#### Pull chart data from Spotify"
   ]
  },
  {
   "cell_type": "code",
   "execution_count": 29,
   "id": "d7e0b54a",
   "metadata": {
    "scrolled": false
   },
   "outputs": [
    {
     "name": "stderr",
     "output_type": "stream",
     "text": [
      "100%|██████████| 200/200 [05:44<00:00,  1.72s/it]\n"
     ]
    }
   ],
   "source": [
    "chart2021 = get_playlist_tracks_more_than_100_songs('katiekellert', '3avCwQPH6DkhMTRsizon7N')"
   ]
  },
  {
   "cell_type": "markdown",
   "id": "75904951",
   "metadata": {},
   "source": [
    "#### View the dataset"
   ]
  },
  {
   "cell_type": "code",
   "execution_count": 31,
   "id": "78160091",
   "metadata": {},
   "outputs": [
    {
     "data": {
      "text/html": [
       "<div>\n",
       "<style scoped>\n",
       "    .dataframe tbody tr th:only-of-type {\n",
       "        vertical-align: middle;\n",
       "    }\n",
       "\n",
       "    .dataframe tbody tr th {\n",
       "        vertical-align: top;\n",
       "    }\n",
       "\n",
       "    .dataframe thead th {\n",
       "        text-align: right;\n",
       "    }\n",
       "</style>\n",
       "<table border=\"1\" class=\"dataframe\">\n",
       "  <thead>\n",
       "    <tr style=\"text-align: right;\">\n",
       "      <th></th>\n",
       "      <th>playlist_id</th>\n",
       "      <th>playlist_name</th>\n",
       "      <th>position</th>\n",
       "      <th>album_name</th>\n",
       "      <th>album_id</th>\n",
       "      <th>album_release_date</th>\n",
       "      <th>album_artists</th>\n",
       "      <th>album_artists_ids</th>\n",
       "      <th>album_artists_genres</th>\n",
       "      <th>album_artists_popularity</th>\n",
       "      <th>album_artists_followers</th>\n",
       "      <th>track_name</th>\n",
       "      <th>track_id</th>\n",
       "      <th>track_popularity</th>\n",
       "      <th>track_artists</th>\n",
       "      <th>track_artists_ids</th>\n",
       "      <th>track_artists_genres</th>\n",
       "      <th>track_artists_popularity</th>\n",
       "      <th>track_explicit</th>\n",
       "      <th>track_artists_followers</th>\n",
       "      <th>danceability</th>\n",
       "      <th>energy</th>\n",
       "      <th>key</th>\n",
       "      <th>loudness</th>\n",
       "      <th>mode</th>\n",
       "      <th>acousticness</th>\n",
       "      <th>instrumentalness</th>\n",
       "      <th>liveness</th>\n",
       "      <th>valence</th>\n",
       "      <th>tempo</th>\n",
       "      <th>duration_ms</th>\n",
       "      <th>time_signature</th>\n",
       "    </tr>\n",
       "  </thead>\n",
       "  <tbody>\n",
       "    <tr>\n",
       "      <th>0</th>\n",
       "      <td>3avCwQPH6DkhMTRsizon7N</td>\n",
       "      <td>Billboard 200 Top Albums 2021</td>\n",
       "      <td>1</td>\n",
       "      <td>Dangerous: The Double Album</td>\n",
       "      <td>1qW1C4kDOXnrly22daHbxz</td>\n",
       "      <td>2021-01-08</td>\n",
       "      <td>Morgan Wallen</td>\n",
       "      <td>[4oUHIQIBe0LHzYfvXNW4QM]</td>\n",
       "      <td>[[contemporary country]]</td>\n",
       "      <td>[86]</td>\n",
       "      <td>[2705213]</td>\n",
       "      <td>More Than My Hometown</td>\n",
       "      <td>65mMCEOu5Ll1DBAfEUmerU</td>\n",
       "      <td>34</td>\n",
       "      <td>[Morgan Wallen]</td>\n",
       "      <td>[4oUHIQIBe0LHzYfvXNW4QM]</td>\n",
       "      <td>[[contemporary country]]</td>\n",
       "      <td>[86]</td>\n",
       "      <td>False</td>\n",
       "      <td>[2705213]</td>\n",
       "      <td>0.621</td>\n",
       "      <td>0.868</td>\n",
       "      <td>6</td>\n",
       "      <td>-5.478</td>\n",
       "      <td>1</td>\n",
       "      <td>0.617000</td>\n",
       "      <td>0.000000</td>\n",
       "      <td>0.1310</td>\n",
       "      <td>0.594</td>\n",
       "      <td>126.010</td>\n",
       "      <td>216573</td>\n",
       "      <td>4</td>\n",
       "    </tr>\n",
       "    <tr>\n",
       "      <th>1</th>\n",
       "      <td>3avCwQPH6DkhMTRsizon7N</td>\n",
       "      <td>Billboard 200 Top Albums 2021</td>\n",
       "      <td>2</td>\n",
       "      <td>SOUR</td>\n",
       "      <td>6s84u2TUpR3wdUv4NgKA2j</td>\n",
       "      <td>2021-05-21</td>\n",
       "      <td>[Olivia Rodrigo]</td>\n",
       "      <td>[1McMsnEElThX1knmY4oliG]</td>\n",
       "      <td>[[pop]]</td>\n",
       "      <td>[92]</td>\n",
       "      <td>[12088661]</td>\n",
       "      <td>drivers license</td>\n",
       "      <td>5wANPM4fQCJwkGd4rN57mH</td>\n",
       "      <td>92</td>\n",
       "      <td>[Olivia Rodrigo]</td>\n",
       "      <td>[1McMsnEElThX1knmY4oliG]</td>\n",
       "      <td>[[pop]]</td>\n",
       "      <td>[92]</td>\n",
       "      <td>True</td>\n",
       "      <td>[12088661]</td>\n",
       "      <td>0.561</td>\n",
       "      <td>0.431</td>\n",
       "      <td>10</td>\n",
       "      <td>-8.810</td>\n",
       "      <td>1</td>\n",
       "      <td>0.768000</td>\n",
       "      <td>0.000014</td>\n",
       "      <td>0.1060</td>\n",
       "      <td>0.137</td>\n",
       "      <td>143.875</td>\n",
       "      <td>242013</td>\n",
       "      <td>4</td>\n",
       "    </tr>\n",
       "    <tr>\n",
       "      <th>2</th>\n",
       "      <td>3avCwQPH6DkhMTRsizon7N</td>\n",
       "      <td>Billboard 200 Top Albums 2021</td>\n",
       "      <td>3</td>\n",
       "      <td>Shoot For The Stars Aim For The Moon</td>\n",
       "      <td>7e7t0MCrNDcJZsPwUKjmOc</td>\n",
       "      <td>2020-07-03</td>\n",
       "      <td>[Pop Smoke]</td>\n",
       "      <td>[0eDvMgVFoNV3TpwtrVCoTj]</td>\n",
       "      <td>[[brooklyn drill]]</td>\n",
       "      <td>[89]</td>\n",
       "      <td>[8721767]</td>\n",
       "      <td>What You Know Bout Love</td>\n",
       "      <td>1tkg4EHVoqnhR6iFEXb60y</td>\n",
       "      <td>85</td>\n",
       "      <td>[Pop Smoke]</td>\n",
       "      <td>[0eDvMgVFoNV3TpwtrVCoTj]</td>\n",
       "      <td>[[brooklyn drill]]</td>\n",
       "      <td>[89]</td>\n",
       "      <td>True</td>\n",
       "      <td>[8721767]</td>\n",
       "      <td>0.709</td>\n",
       "      <td>0.548</td>\n",
       "      <td>10</td>\n",
       "      <td>-8.493</td>\n",
       "      <td>1</td>\n",
       "      <td>0.650000</td>\n",
       "      <td>0.000002</td>\n",
       "      <td>0.1330</td>\n",
       "      <td>0.543</td>\n",
       "      <td>83.995</td>\n",
       "      <td>160000</td>\n",
       "      <td>4</td>\n",
       "    </tr>\n",
       "    <tr>\n",
       "      <th>3</th>\n",
       "      <td>3avCwQPH6DkhMTRsizon7N</td>\n",
       "      <td>Billboard 200 Top Albums 2021</td>\n",
       "      <td>4</td>\n",
       "      <td>evermore</td>\n",
       "      <td>2Xoteh7uEpea4TohMxjtaq</td>\n",
       "      <td>2020-12-11</td>\n",
       "      <td>[Taylor Swift]</td>\n",
       "      <td>[06HL4z0CvFAxyc27GXpf02]</td>\n",
       "      <td>[[pop]]</td>\n",
       "      <td>[100]</td>\n",
       "      <td>[47362363]</td>\n",
       "      <td>willow</td>\n",
       "      <td>0lx2cLdOt3piJbcaXIV74f</td>\n",
       "      <td>82</td>\n",
       "      <td>[Taylor Swift]</td>\n",
       "      <td>[06HL4z0CvFAxyc27GXpf02]</td>\n",
       "      <td>[[pop]]</td>\n",
       "      <td>[100]</td>\n",
       "      <td>False</td>\n",
       "      <td>[47362363]</td>\n",
       "      <td>0.392</td>\n",
       "      <td>0.574</td>\n",
       "      <td>7</td>\n",
       "      <td>-9.195</td>\n",
       "      <td>1</td>\n",
       "      <td>0.833000</td>\n",
       "      <td>0.001790</td>\n",
       "      <td>0.1450</td>\n",
       "      <td>0.529</td>\n",
       "      <td>81.112</td>\n",
       "      <td>214707</td>\n",
       "      <td>4</td>\n",
       "    </tr>\n",
       "    <tr>\n",
       "      <th>4</th>\n",
       "      <td>3avCwQPH6DkhMTRsizon7N</td>\n",
       "      <td>Billboard 200 Top Albums 2021</td>\n",
       "      <td>5</td>\n",
       "      <td>Certified Lover Boy</td>\n",
       "      <td>3SpBlxme9WbeQdI9kx7KAV</td>\n",
       "      <td>2021-09-03</td>\n",
       "      <td>[Drake]</td>\n",
       "      <td>[3TVXtAsR1Inumwj472S9r4]</td>\n",
       "      <td>[[canadian hip hop, canadian pop, hip hop, rap...</td>\n",
       "      <td>[98]</td>\n",
       "      <td>[59845429]</td>\n",
       "      <td>Way 2 Sexy (with Future &amp; Young Thug)</td>\n",
       "      <td>0k1WUmIRnG3xU6fvvDVfRG</td>\n",
       "      <td>90</td>\n",
       "      <td>[Drake, Future, Young Thug]</td>\n",
       "      <td>[3TVXtAsR1Inumwj472S9r4]</td>\n",
       "      <td>[[canadian hip hop, canadian pop, hip hop, rap...</td>\n",
       "      <td>[98]</td>\n",
       "      <td>True</td>\n",
       "      <td>[59845429]</td>\n",
       "      <td>0.803</td>\n",
       "      <td>0.597</td>\n",
       "      <td>11</td>\n",
       "      <td>-6.035</td>\n",
       "      <td>0</td>\n",
       "      <td>0.000619</td>\n",
       "      <td>0.000005</td>\n",
       "      <td>0.3230</td>\n",
       "      <td>0.331</td>\n",
       "      <td>136.008</td>\n",
       "      <td>257605</td>\n",
       "      <td>4</td>\n",
       "    </tr>\n",
       "    <tr>\n",
       "      <th>5</th>\n",
       "      <td>3avCwQPH6DkhMTRsizon7N</td>\n",
       "      <td>Billboard 200 Top Albums 2021</td>\n",
       "      <td>6</td>\n",
       "      <td>F*CK LOVE</td>\n",
       "      <td>6RuwGwQcAureaOraKJNFQG</td>\n",
       "      <td>2020-07-24</td>\n",
       "      <td>[The Kid LAROI]</td>\n",
       "      <td>[2tIP7SsRs7vjIcLrU85W8J]</td>\n",
       "      <td>[[australian hip hop]]</td>\n",
       "      <td>[90]</td>\n",
       "      <td>[3123153]</td>\n",
       "      <td>GO (feat. Juice WRLD)</td>\n",
       "      <td>2rPHUAeUPbNgTmK18FPTiZ</td>\n",
       "      <td>79</td>\n",
       "      <td>[The Kid LAROI, Juice WRLD]</td>\n",
       "      <td>[2tIP7SsRs7vjIcLrU85W8J]</td>\n",
       "      <td>[[australian hip hop]]</td>\n",
       "      <td>[90]</td>\n",
       "      <td>True</td>\n",
       "      <td>[3123153]</td>\n",
       "      <td>0.487</td>\n",
       "      <td>0.740</td>\n",
       "      <td>6</td>\n",
       "      <td>-4.973</td>\n",
       "      <td>1</td>\n",
       "      <td>0.157000</td>\n",
       "      <td>0.000000</td>\n",
       "      <td>0.6120</td>\n",
       "      <td>0.522</td>\n",
       "      <td>73.779</td>\n",
       "      <td>181688</td>\n",
       "      <td>4</td>\n",
       "    </tr>\n",
       "    <tr>\n",
       "      <th>6</th>\n",
       "      <td>3avCwQPH6DkhMTRsizon7N</td>\n",
       "      <td>Billboard 200 Top Albums 2021</td>\n",
       "      <td>7</td>\n",
       "      <td>What You See Is What You Get</td>\n",
       "      <td>0S9D5NIDp2YXhYwlvuJzqx</td>\n",
       "      <td>2019-11-08</td>\n",
       "      <td>[Luke Combs]</td>\n",
       "      <td>[718COspgdWOnwOFpJHRZHS]</td>\n",
       "      <td>[[contemporary country, country]]</td>\n",
       "      <td>[83]</td>\n",
       "      <td>[5981206]</td>\n",
       "      <td>Beer Never Broke My Heart</td>\n",
       "      <td>7aEtlGHoiPAfRB084NiDmx</td>\n",
       "      <td>77</td>\n",
       "      <td>[Luke Combs]</td>\n",
       "      <td>[718COspgdWOnwOFpJHRZHS]</td>\n",
       "      <td>[[contemporary country, country]]</td>\n",
       "      <td>[83]</td>\n",
       "      <td>False</td>\n",
       "      <td>[5981206]</td>\n",
       "      <td>0.538</td>\n",
       "      <td>0.863</td>\n",
       "      <td>1</td>\n",
       "      <td>-4.483</td>\n",
       "      <td>1</td>\n",
       "      <td>0.013900</td>\n",
       "      <td>0.000000</td>\n",
       "      <td>0.0874</td>\n",
       "      <td>0.637</td>\n",
       "      <td>77.001</td>\n",
       "      <td>186733</td>\n",
       "      <td>4</td>\n",
       "    </tr>\n",
       "    <tr>\n",
       "      <th>7</th>\n",
       "      <td>3avCwQPH6DkhMTRsizon7N</td>\n",
       "      <td>Billboard 200 Top Albums 2021</td>\n",
       "      <td>8</td>\n",
       "      <td>Positions</td>\n",
       "      <td>3BSzygCIET0gzTTIs7iB3y</td>\n",
       "      <td>2020-10-30</td>\n",
       "      <td>[Ariana Grande]</td>\n",
       "      <td>[66CXWjxzNUsdJxJ2JdwvnR]</td>\n",
       "      <td>[[dance pop, pop]]</td>\n",
       "      <td>[96]</td>\n",
       "      <td>[73920087]</td>\n",
       "      <td>positions</td>\n",
       "      <td>1eNoiSrvdNWZfCOrP37jSf</td>\n",
       "      <td>63</td>\n",
       "      <td>[Ariana Grande]</td>\n",
       "      <td>[66CXWjxzNUsdJxJ2JdwvnR]</td>\n",
       "      <td>[[dance pop, pop]]</td>\n",
       "      <td>[96]</td>\n",
       "      <td>False</td>\n",
       "      <td>[73920087]</td>\n",
       "      <td>0.735</td>\n",
       "      <td>0.805</td>\n",
       "      <td>5</td>\n",
       "      <td>-4.821</td>\n",
       "      <td>1</td>\n",
       "      <td>0.468000</td>\n",
       "      <td>0.000000</td>\n",
       "      <td>0.0940</td>\n",
       "      <td>0.617</td>\n",
       "      <td>144.020</td>\n",
       "      <td>172325</td>\n",
       "      <td>4</td>\n",
       "    </tr>\n",
       "    <tr>\n",
       "      <th>8</th>\n",
       "      <td>3avCwQPH6DkhMTRsizon7N</td>\n",
       "      <td>Billboard 200 Top Albums 2021</td>\n",
       "      <td>9</td>\n",
       "      <td>Future Nostalgia</td>\n",
       "      <td>7fJJK56U9fHixgO0HQkhtI</td>\n",
       "      <td>2020-03-27</td>\n",
       "      <td>[Dua Lipa]</td>\n",
       "      <td>[6M2wZ9GZgrQXHCFfjv46we]</td>\n",
       "      <td>[[dance pop, pop, uk pop]]</td>\n",
       "      <td>[94]</td>\n",
       "      <td>[31002076]</td>\n",
       "      <td>Don't Start Now</td>\n",
       "      <td>3PfIrDoz19wz7qK7tYeu62</td>\n",
       "      <td>84</td>\n",
       "      <td>[Dua Lipa]</td>\n",
       "      <td>[6M2wZ9GZgrQXHCFfjv46we]</td>\n",
       "      <td>[[dance pop, pop, uk pop]]</td>\n",
       "      <td>[94]</td>\n",
       "      <td>False</td>\n",
       "      <td>[31002076]</td>\n",
       "      <td>0.793</td>\n",
       "      <td>0.793</td>\n",
       "      <td>11</td>\n",
       "      <td>-4.521</td>\n",
       "      <td>0</td>\n",
       "      <td>0.012300</td>\n",
       "      <td>0.000000</td>\n",
       "      <td>0.0951</td>\n",
       "      <td>0.679</td>\n",
       "      <td>123.950</td>\n",
       "      <td>183290</td>\n",
       "      <td>4</td>\n",
       "    </tr>\n",
       "    <tr>\n",
       "      <th>9</th>\n",
       "      <td>3avCwQPH6DkhMTRsizon7N</td>\n",
       "      <td>Billboard 200 Top Albums 2021</td>\n",
       "      <td>10</td>\n",
       "      <td>My Turn</td>\n",
       "      <td>1ynyQdPQiXdYJNQEDL1S3d</td>\n",
       "      <td>2020-02-28</td>\n",
       "      <td>[Lil Baby]</td>\n",
       "      <td>[5f7VJjfbwm532GiveGC0ZK]</td>\n",
       "      <td>[[atl hip hop, atl trap, rap, trap]]</td>\n",
       "      <td>[93]</td>\n",
       "      <td>[9150690]</td>\n",
       "      <td>Woah</td>\n",
       "      <td>02RCbjb9czvQKNGBmEmWob</td>\n",
       "      <td>68</td>\n",
       "      <td>[Lil Baby]</td>\n",
       "      <td>[5f7VJjfbwm532GiveGC0ZK]</td>\n",
       "      <td>[[atl hip hop, atl trap, rap, trap]]</td>\n",
       "      <td>[93]</td>\n",
       "      <td>True</td>\n",
       "      <td>[9150690]</td>\n",
       "      <td>0.883</td>\n",
       "      <td>0.599</td>\n",
       "      <td>11</td>\n",
       "      <td>-5.551</td>\n",
       "      <td>1</td>\n",
       "      <td>0.017700</td>\n",
       "      <td>0.000000</td>\n",
       "      <td>0.1790</td>\n",
       "      <td>0.413</td>\n",
       "      <td>142.976</td>\n",
       "      <td>183011</td>\n",
       "      <td>4</td>\n",
       "    </tr>\n",
       "  </tbody>\n",
       "</table>\n",
       "</div>"
      ],
      "text/plain": [
       "              playlist_id                  playlist_name  position  \\\n",
       "0  3avCwQPH6DkhMTRsizon7N  Billboard 200 Top Albums 2021         1   \n",
       "1  3avCwQPH6DkhMTRsizon7N  Billboard 200 Top Albums 2021         2   \n",
       "2  3avCwQPH6DkhMTRsizon7N  Billboard 200 Top Albums 2021         3   \n",
       "3  3avCwQPH6DkhMTRsizon7N  Billboard 200 Top Albums 2021         4   \n",
       "4  3avCwQPH6DkhMTRsizon7N  Billboard 200 Top Albums 2021         5   \n",
       "5  3avCwQPH6DkhMTRsizon7N  Billboard 200 Top Albums 2021         6   \n",
       "6  3avCwQPH6DkhMTRsizon7N  Billboard 200 Top Albums 2021         7   \n",
       "7  3avCwQPH6DkhMTRsizon7N  Billboard 200 Top Albums 2021         8   \n",
       "8  3avCwQPH6DkhMTRsizon7N  Billboard 200 Top Albums 2021         9   \n",
       "9  3avCwQPH6DkhMTRsizon7N  Billboard 200 Top Albums 2021        10   \n",
       "\n",
       "                             album_name                album_id  \\\n",
       "0           Dangerous: The Double Album  1qW1C4kDOXnrly22daHbxz   \n",
       "1                                  SOUR  6s84u2TUpR3wdUv4NgKA2j   \n",
       "2  Shoot For The Stars Aim For The Moon  7e7t0MCrNDcJZsPwUKjmOc   \n",
       "3                              evermore  2Xoteh7uEpea4TohMxjtaq   \n",
       "4                   Certified Lover Boy  3SpBlxme9WbeQdI9kx7KAV   \n",
       "5                             F*CK LOVE  6RuwGwQcAureaOraKJNFQG   \n",
       "6          What You See Is What You Get  0S9D5NIDp2YXhYwlvuJzqx   \n",
       "7                             Positions  3BSzygCIET0gzTTIs7iB3y   \n",
       "8                      Future Nostalgia  7fJJK56U9fHixgO0HQkhtI   \n",
       "9                               My Turn  1ynyQdPQiXdYJNQEDL1S3d   \n",
       "\n",
       "  album_release_date     album_artists         album_artists_ids  \\\n",
       "0         2021-01-08     Morgan Wallen  [4oUHIQIBe0LHzYfvXNW4QM]   \n",
       "1         2021-05-21  [Olivia Rodrigo]  [1McMsnEElThX1knmY4oliG]   \n",
       "2         2020-07-03       [Pop Smoke]  [0eDvMgVFoNV3TpwtrVCoTj]   \n",
       "3         2020-12-11    [Taylor Swift]  [06HL4z0CvFAxyc27GXpf02]   \n",
       "4         2021-09-03           [Drake]  [3TVXtAsR1Inumwj472S9r4]   \n",
       "5         2020-07-24   [The Kid LAROI]  [2tIP7SsRs7vjIcLrU85W8J]   \n",
       "6         2019-11-08      [Luke Combs]  [718COspgdWOnwOFpJHRZHS]   \n",
       "7         2020-10-30   [Ariana Grande]  [66CXWjxzNUsdJxJ2JdwvnR]   \n",
       "8         2020-03-27        [Dua Lipa]  [6M2wZ9GZgrQXHCFfjv46we]   \n",
       "9         2020-02-28        [Lil Baby]  [5f7VJjfbwm532GiveGC0ZK]   \n",
       "\n",
       "                                album_artists_genres album_artists_popularity  \\\n",
       "0                           [[contemporary country]]                     [86]   \n",
       "1                                            [[pop]]                     [92]   \n",
       "2                                 [[brooklyn drill]]                     [89]   \n",
       "3                                            [[pop]]                    [100]   \n",
       "4  [[canadian hip hop, canadian pop, hip hop, rap...                     [98]   \n",
       "5                             [[australian hip hop]]                     [90]   \n",
       "6                  [[contemporary country, country]]                     [83]   \n",
       "7                                 [[dance pop, pop]]                     [96]   \n",
       "8                         [[dance pop, pop, uk pop]]                     [94]   \n",
       "9               [[atl hip hop, atl trap, rap, trap]]                     [93]   \n",
       "\n",
       "  album_artists_followers                             track_name  \\\n",
       "0               [2705213]                  More Than My Hometown   \n",
       "1              [12088661]                        drivers license   \n",
       "2               [8721767]                What You Know Bout Love   \n",
       "3              [47362363]                                 willow   \n",
       "4              [59845429]  Way 2 Sexy (with Future & Young Thug)   \n",
       "5               [3123153]                  GO (feat. Juice WRLD)   \n",
       "6               [5981206]              Beer Never Broke My Heart   \n",
       "7              [73920087]                              positions   \n",
       "8              [31002076]                        Don't Start Now   \n",
       "9               [9150690]                                   Woah   \n",
       "\n",
       "                 track_id  track_popularity                track_artists  \\\n",
       "0  65mMCEOu5Ll1DBAfEUmerU                34              [Morgan Wallen]   \n",
       "1  5wANPM4fQCJwkGd4rN57mH                92             [Olivia Rodrigo]   \n",
       "2  1tkg4EHVoqnhR6iFEXb60y                85                  [Pop Smoke]   \n",
       "3  0lx2cLdOt3piJbcaXIV74f                82               [Taylor Swift]   \n",
       "4  0k1WUmIRnG3xU6fvvDVfRG                90  [Drake, Future, Young Thug]   \n",
       "5  2rPHUAeUPbNgTmK18FPTiZ                79  [The Kid LAROI, Juice WRLD]   \n",
       "6  7aEtlGHoiPAfRB084NiDmx                77                 [Luke Combs]   \n",
       "7  1eNoiSrvdNWZfCOrP37jSf                63              [Ariana Grande]   \n",
       "8  3PfIrDoz19wz7qK7tYeu62                84                   [Dua Lipa]   \n",
       "9  02RCbjb9czvQKNGBmEmWob                68                   [Lil Baby]   \n",
       "\n",
       "          track_artists_ids  \\\n",
       "0  [4oUHIQIBe0LHzYfvXNW4QM]   \n",
       "1  [1McMsnEElThX1knmY4oliG]   \n",
       "2  [0eDvMgVFoNV3TpwtrVCoTj]   \n",
       "3  [06HL4z0CvFAxyc27GXpf02]   \n",
       "4  [3TVXtAsR1Inumwj472S9r4]   \n",
       "5  [2tIP7SsRs7vjIcLrU85W8J]   \n",
       "6  [718COspgdWOnwOFpJHRZHS]   \n",
       "7  [66CXWjxzNUsdJxJ2JdwvnR]   \n",
       "8  [6M2wZ9GZgrQXHCFfjv46we]   \n",
       "9  [5f7VJjfbwm532GiveGC0ZK]   \n",
       "\n",
       "                                track_artists_genres track_artists_popularity  \\\n",
       "0                           [[contemporary country]]                     [86]   \n",
       "1                                            [[pop]]                     [92]   \n",
       "2                                 [[brooklyn drill]]                     [89]   \n",
       "3                                            [[pop]]                    [100]   \n",
       "4  [[canadian hip hop, canadian pop, hip hop, rap...                     [98]   \n",
       "5                             [[australian hip hop]]                     [90]   \n",
       "6                  [[contemporary country, country]]                     [83]   \n",
       "7                                 [[dance pop, pop]]                     [96]   \n",
       "8                         [[dance pop, pop, uk pop]]                     [94]   \n",
       "9               [[atl hip hop, atl trap, rap, trap]]                     [93]   \n",
       "\n",
       "   track_explicit track_artists_followers  danceability  energy  key  \\\n",
       "0           False               [2705213]         0.621   0.868    6   \n",
       "1            True              [12088661]         0.561   0.431   10   \n",
       "2            True               [8721767]         0.709   0.548   10   \n",
       "3           False              [47362363]         0.392   0.574    7   \n",
       "4            True              [59845429]         0.803   0.597   11   \n",
       "5            True               [3123153]         0.487   0.740    6   \n",
       "6           False               [5981206]         0.538   0.863    1   \n",
       "7           False              [73920087]         0.735   0.805    5   \n",
       "8           False              [31002076]         0.793   0.793   11   \n",
       "9            True               [9150690]         0.883   0.599   11   \n",
       "\n",
       "   loudness  mode  acousticness  instrumentalness  liveness  valence    tempo  \\\n",
       "0    -5.478     1      0.617000          0.000000    0.1310    0.594  126.010   \n",
       "1    -8.810     1      0.768000          0.000014    0.1060    0.137  143.875   \n",
       "2    -8.493     1      0.650000          0.000002    0.1330    0.543   83.995   \n",
       "3    -9.195     1      0.833000          0.001790    0.1450    0.529   81.112   \n",
       "4    -6.035     0      0.000619          0.000005    0.3230    0.331  136.008   \n",
       "5    -4.973     1      0.157000          0.000000    0.6120    0.522   73.779   \n",
       "6    -4.483     1      0.013900          0.000000    0.0874    0.637   77.001   \n",
       "7    -4.821     1      0.468000          0.000000    0.0940    0.617  144.020   \n",
       "8    -4.521     0      0.012300          0.000000    0.0951    0.679  123.950   \n",
       "9    -5.551     1      0.017700          0.000000    0.1790    0.413  142.976   \n",
       "\n",
       "   duration_ms  time_signature  \n",
       "0       216573               4  \n",
       "1       242013               4  \n",
       "2       160000               4  \n",
       "3       214707               4  \n",
       "4       257605               4  \n",
       "5       181688               4  \n",
       "6       186733               4  \n",
       "7       172325               4  \n",
       "8       183290               4  \n",
       "9       183011               4  "
      ]
     },
     "execution_count": 31,
     "metadata": {},
     "output_type": "execute_result"
    }
   ],
   "source": [
    "chart2021.head(10)"
   ]
  },
  {
   "cell_type": "markdown",
   "id": "fa4e482e",
   "metadata": {},
   "source": [
    "#### Export dataset to csv"
   ]
  },
  {
   "cell_type": "code",
   "execution_count": 33,
   "id": "46c7d076",
   "metadata": {},
   "outputs": [],
   "source": [
    "chart2021.to_csv('data/chart2021.csv')"
   ]
  },
  {
   "cell_type": "code",
   "execution_count": null,
   "id": "cd1e6536",
   "metadata": {},
   "outputs": [],
   "source": []
  }
 ],
 "metadata": {
  "kernelspec": {
   "display_name": "Python 3",
   "language": "python",
   "name": "python3"
  },
  "language_info": {
   "codemirror_mode": {
    "name": "ipython",
    "version": 3
   },
   "file_extension": ".py",
   "mimetype": "text/x-python",
   "name": "python",
   "nbconvert_exporter": "python",
   "pygments_lexer": "ipython3",
   "version": "3.8.8"
  }
 },
 "nbformat": 4,
 "nbformat_minor": 5
}
