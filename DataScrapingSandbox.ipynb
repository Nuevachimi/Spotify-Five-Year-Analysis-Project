{
 "cells": [
  {
   "cell_type": "markdown",
   "id": "a5c5a956",
   "metadata": {},
   "source": [
    "# Spotify Song Data Scraping Sandbox"
   ]
  },
  {
   "cell_type": "markdown",
   "id": "ba14a9e3",
   "metadata": {},
   "source": [
    "### References:\n",
    "#### Based on the following tutorials: <br />\n",
    "Max Hilsdorf, \"How to Create Large Music Datasets Using Spotipy\", <i>Towards Data Science</i>, 25 April 2020: <br />\n",
    "https://towardsdatascience.com/how-to-create-large-music-datasets-using-spotipy-40e7242cc6a6 <br />\n",
    "Max Tingle, \"Getting Started with Spotify’s API & Spotipy\", <i>Towards Data Science</i>, 3 Oct 2019: <br />\n",
    "https://medium.com/@maxtingle/getting-started-with-spotifys-api-spotipy-197c3dc6353b <br />\n",
    "Sandra Radgowska, \"How to use Spotify API and what data science opportunities can it open up?\", <i>My Journey As A Data Scientist</i>, 18 August 2021:<br />\n",
    "https://datascientistdiary.com/index.php/2021/03/04/how-to-use-spotify-api-and-what-data-science-opportunities-can-it-open-up/<br />\n",
    "Angelica Dietzel, \"How to Extract Any Artist’s Data Using Spotify’s API, Python, and Spotipy\", <i>Better Programming</i>, 25 March 2020:<br />\n",
    "https://betterprogramming.pub/how-to-extract-any-artists-data-using-spotify-s-api-python-and-spotipy-4c079401bc37<br />\n",
    "StackOverflow: Spotipy: How To Read More Than 100 Tracks From A Playlist:<br />\n",
    "https://stackoverflow.com/questions/39086287/spotipy-how-to-read-more-than-100-tracks-from-a-playlist<br />\n",
    "Github: How Do I Get Every Track of A Playlist:<br /> https://github.com/plamere/spotipy/issues/246"
   ]
  },
  {
   "cell_type": "markdown",
   "id": "221b655a",
   "metadata": {},
   "source": [
    "## Setup"
   ]
  },
  {
   "cell_type": "markdown",
   "id": "8875f365",
   "metadata": {},
   "source": [
    "### Import packages"
   ]
  },
  {
   "cell_type": "code",
   "execution_count": 179,
   "id": "1252e80c",
   "metadata": {},
   "outputs": [],
   "source": [
    "import json\n",
    "import time\n",
    "from tqdm import tqdm\n",
    "import pandas as pd\n",
    "import spotipy\n",
    "from spotipy.oauth2 import SpotifyClientCredentials\n",
    "import creds"
   ]
  },
  {
   "cell_type": "markdown",
   "id": "83963bef",
   "metadata": {},
   "source": [
    "### Spotify Credentials"
   ]
  },
  {
   "cell_type": "markdown",
   "id": "8652f190",
   "metadata": {},
   "source": [
    "#### Load credentials"
   ]
  },
  {
   "cell_type": "markdown",
   "id": "c243f8ea",
   "metadata": {},
   "source": [
    "Loads the creds.py file, containing the following two lines for variables client_id and secret, which is gitignored for sharing. \n",
    "\n",
    "client_id = 'Your Client ID Here'<br />\n",
    "secret = 'Your secret here'"
   ]
  },
  {
   "cell_type": "code",
   "execution_count": null,
   "id": "01c50c05",
   "metadata": {},
   "outputs": [],
   "source": [
    "%run -i 'creds.py'"
   ]
  },
  {
   "cell_type": "markdown",
   "id": "9944dc61",
   "metadata": {},
   "source": [
    "#### Set credentials"
   ]
  },
  {
   "cell_type": "code",
   "execution_count": null,
   "id": "26eee901",
   "metadata": {},
   "outputs": [],
   "source": [
    "client_credentials_manager = SpotifyClientCredentials(client_id=client_id,client_secret=secret)\n",
    "sp = spotipy.Spotify(client_credentials_manager=client_credentials_manager)"
   ]
  },
  {
   "cell_type": "markdown",
   "id": "3c982b68",
   "metadata": {},
   "source": [
    "## Functions for data extraction"
   ]
  },
  {
   "cell_type": "markdown",
   "id": "8de478c3",
   "metadata": {},
   "source": [
    "### Get track data including features (updated to ensure retrieval of all artists)\n",
    "#### Details: uri, name, album, artist name, release date, explicit T/F, duration in mins\n",
    "#### Audio features: acousticness, danceability, energy, instrumentalness, liveness, loudness, speechiness, tempo, time_signature"
   ]
  },
  {
   "cell_type": "markdown",
   "id": "19769a50",
   "metadata": {},
   "source": [
    "#### Function to extract all the track ids from your playlist (returns only 100 items)"
   ]
  },
  {
   "cell_type": "code",
   "execution_count": 147,
   "id": "79f54a1a",
   "metadata": {},
   "outputs": [],
   "source": [
    "def get_track_ids(playlist_id):\n",
    "    music_id_list = []\n",
    "    playlist = sp.playlist(playlist_id)\n",
    "    for item in playlist['tracks']['items']:\n",
    "        music_track = item['track']\n",
    "        music_id_list.append(music_track['id'])\n",
    "    return music_id_list "
   ]
  },
  {
   "cell_type": "code",
   "execution_count": 148,
   "id": "7b223613",
   "metadata": {},
   "outputs": [
    {
     "name": "stdout",
     "output_type": "stream",
     "text": [
      "100\n"
     ]
    }
   ],
   "source": [
    "music_id_list = get_track_ids('3avCwQPH6DkhMTRsizon7N')\n",
    "print(len(music_id_list))"
   ]
  },
  {
   "cell_type": "markdown",
   "id": "612effef",
   "metadata": {},
   "source": [
    "#### Function to extract all album artists given a track id:"
   ]
  },
  {
   "cell_type": "code",
   "execution_count": null,
   "id": "b51b4f3b",
   "metadata": {},
   "outputs": [],
   "source": [
    "def get_all_album_artists_names(track_id):\n",
    "    meta = sp.track(track_id)\n",
    "    album_artist_list = []\n",
    "    for item in (meta['album']['artists']):\n",
    "        album_artist = item['name']\n",
    "        album_artist_list.append(album_artist)\n",
    "    return album_artist_list     "
   ]
  },
  {
   "cell_type": "markdown",
   "id": "7e8707a7",
   "metadata": {},
   "source": [
    "Test with track id '3fFBZvG777xoKyvcrBq7lc?si=f241a44d776b451a'"
   ]
  },
  {
   "cell_type": "code",
   "execution_count": null,
   "id": "a0bce89d",
   "metadata": {},
   "outputs": [],
   "source": [
    "get_all_album_artists_names('3fFBZvG777xoKyvcrBq7lc?si=f241a44d776b451a')"
   ]
  },
  {
   "cell_type": "markdown",
   "id": "83478be6",
   "metadata": {},
   "source": [
    "#### Function to extract all the track artists given the track id:"
   ]
  },
  {
   "cell_type": "code",
   "execution_count": null,
   "id": "d1c86d80",
   "metadata": {},
   "outputs": [],
   "source": [
    "def get_all_track_artists_names(track_id):\n",
    "    meta = sp.track(track_id)\n",
    "    track_artist_list = []\n",
    "    for item in (meta['artists']):\n",
    "        track_artist = item['name']\n",
    "        track_artist_list.append(track_artist)\n",
    "    return track_artist_list     "
   ]
  },
  {
   "cell_type": "markdown",
   "id": "b776e0b5",
   "metadata": {},
   "source": [
    "Test with track id '3fFBZvG777xoKyvcrBq7lc?si=f241a44d776b451a'"
   ]
  },
  {
   "cell_type": "code",
   "execution_count": null,
   "id": "c1092a81",
   "metadata": {},
   "outputs": [],
   "source": [
    "get_all_track_artists_names('3fFBZvG777xoKyvcrBq7lc?si=f241a44d776b451a')"
   ]
  },
  {
   "cell_type": "markdown",
   "id": "ab5990c6",
   "metadata": {},
   "source": [
    "#### Function to extract all the track artists' ids given a track id:"
   ]
  },
  {
   "cell_type": "code",
   "execution_count": null,
   "id": "809473b4",
   "metadata": {},
   "outputs": [],
   "source": [
    "def get_all_track_artists_ids(track_id):\n",
    "    meta = sp.track(track_id)\n",
    "    track_artist_id_list = []\n",
    "    for item in (meta['artists']):\n",
    "        track_artist = item['id']\n",
    "        track_artist_id_list.append(track_artist)\n",
    "    return track_artist_id_list     "
   ]
  },
  {
   "cell_type": "markdown",
   "id": "ed41acda",
   "metadata": {},
   "source": [
    "Test with track id '3fFBZvG777xoKyvcrBq7lc?si=f241a44d776b451a'"
   ]
  },
  {
   "cell_type": "code",
   "execution_count": null,
   "id": "5b3a15fc",
   "metadata": {},
   "outputs": [],
   "source": [
    "get_all_track_artists_ids('3fFBZvG777xoKyvcrBq7lc?si=f241a44d776b451a')"
   ]
  },
  {
   "cell_type": "markdown",
   "id": "ad00d8da",
   "metadata": {},
   "source": [
    "#### Function to extract all the details and features of each track by passing its ID:"
   ]
  },
  {
   "cell_type": "code",
   "execution_count": null,
   "id": "cc4fa5b7",
   "metadata": {},
   "outputs": [],
   "source": [
    "def get_track_data(track_id):\n",
    "    meta = sp.track(track_id)\n",
    "    features = sp.audio_features(track_id)\n",
    "    analysis = sp.audio_analysis(track_id)\n",
    "    track_details = {'uri': meta['uri'],\n",
    "                    'name': meta['name'],\n",
    "                    'track_artists': get_all_track_artists_names(track_id),\n",
    "                    'track_artists_ids': get_all_track_artists_ids(track_id),\n",
    "                    'album': meta['album']['name'],\n",
    "                    'album_artists': get_all_album_artists_names(track_id),\n",
    "                    'release_date': meta['album']['release_date'],\n",
    "                    'explicit': meta['explicit'],\n",
    "                    'duration_in_mins': round((meta['duration_ms'] * 0.001) / 60.0, 2),\n",
    "                    'acousticness' : features[0]['acousticness'],\n",
    "                    'danceability' : features[0]['danceability'],\n",
    "                    'energy' : features[0]['energy'],\n",
    "                    'instrumentalness' : features[0]['instrumentalness'],\n",
    "                    'liveness' : features[0]['liveness'],\n",
    "                    'loudness' : features[0]['loudness'],\n",
    "                    'speechiness' : features[0]['speechiness'],\n",
    "                    'tempo' : features[0]['tempo'],\n",
    "                    'time_signature' : features[0]['time_signature'],\n",
    "                    'track_duration_in_seconds' : analysis['track']['duration'],\n",
    "                    'end_of_fade_in' : analysis['track']['end_of_fade_in'],\n",
    "                    'start_of_fade_out' : analysis['track']['start_of_fade_out'],\n",
    "                    'key' : analysis['track']['key'],\n",
    "                    'mode' : analysis['track']['mode']\n",
    "                    }\n",
    "    return track_details"
   ]
  },
  {
   "cell_type": "markdown",
   "id": "9a3cde90",
   "metadata": {},
   "source": [
    "#### Loop function possibility 1: "
   ]
  },
  {
   "cell_type": "code",
   "execution_count": 117,
   "id": "fed58a24",
   "metadata": {},
   "outputs": [],
   "source": [
    "def get_playlist_tracks(playlist_id):\n",
    "    results = sp.user_playlist_tracks(playlist_id)\n",
    "    track_count = results['items']\n",
    "    while results['next']:\n",
    "        results = sp.next(results)\n",
    "        tracks.extend(results['items'])\n",
    "    return tracks\n",
    "    "
   ]
  },
  {
   "cell_type": "markdown",
   "id": "45f6a95c",
   "metadata": {},
   "source": [
    "###  Extract track data"
   ]
  },
  {
   "cell_type": "markdown",
   "id": "1a08b13e",
   "metadata": {},
   "source": [
    "#### Create track container dictionaries"
   ]
  },
  {
   "cell_type": "code",
   "execution_count": null,
   "id": "d8e96d7d",
   "metadata": {},
   "outputs": [],
   "source": [
    "tracks_with_allartists = []"
   ]
  },
  {
   "cell_type": "markdown",
   "id": "92c1d229",
   "metadata": {},
   "source": [
    "#### Extract info of each track\n",
    "\n",
    "For testing:  playlist_id = '27Wi4y5VlHr43Q6UpZMVyS'"
   ]
  },
  {
   "cell_type": "code",
   "execution_count": null,
   "id": "b4c6fcb5",
   "metadata": {},
   "outputs": [],
   "source": [
    "# Get the ids for all the songs in your playlist\n",
    "playlist_id = input('Enter the playlist id')\n",
    "track_ids = get_track_ids(playlist_id)\n",
    "print(len(track_ids))\n",
    "print(track_ids)\n",
    "\n",
    "#  Loop over track ids and get their data points\n",
    "for i in tqdm(range(len(track_ids))):\n",
    "    time.sleep(.5)\n",
    "    track = get_track_data(track_ids[i])\n",
    "    tracks_with_allartists.append(track)"
   ]
  },
  {
   "cell_type": "markdown",
   "id": "4bbb51ef",
   "metadata": {},
   "source": [
    "#### Create dataframe"
   ]
  },
  {
   "cell_type": "code",
   "execution_count": null,
   "id": "aef27a29",
   "metadata": {},
   "outputs": [],
   "source": [
    "df_allartists = pd.DataFrame(tracks_with_allartists)\n",
    "df_allartists"
   ]
  },
  {
   "cell_type": "code",
   "execution_count": null,
   "id": "a4599c92",
   "metadata": {},
   "outputs": [],
   "source": [
    "df_allartists['track_artists'][2]"
   ]
  },
  {
   "cell_type": "markdown",
   "id": "c4cc77af",
   "metadata": {},
   "source": [
    "### Get artist data (id, artist name, genre, popularity, followers)"
   ]
  },
  {
   "cell_type": "markdown",
   "id": "41ee8754",
   "metadata": {},
   "source": [
    "#### Extract track artist id column"
   ]
  },
  {
   "cell_type": "code",
   "execution_count": null,
   "id": "e6e3c910",
   "metadata": {},
   "outputs": [],
   "source": [
    "artist_ids = df_allartists['track_artists_ids']\n",
    "artist_ids"
   ]
  },
  {
   "cell_type": "markdown",
   "id": "a2dd5754",
   "metadata": {},
   "source": [
    "#### Explode column"
   ]
  },
  {
   "cell_type": "code",
   "execution_count": null,
   "id": "63774e11",
   "metadata": {},
   "outputs": [],
   "source": [
    "splody_ids = artist_ids.explode('track_artists_ids')\n",
    "id_df= pd.DataFrame(splody_ids)\n",
    "id_df"
   ]
  },
  {
   "cell_type": "markdown",
   "id": "8856e169",
   "metadata": {},
   "source": [
    "#### Remove duplicates"
   ]
  },
  {
   "cell_type": "code",
   "execution_count": null,
   "id": "969840cd",
   "metadata": {},
   "outputs": [],
   "source": [
    "id_df2 = id_df.drop_duplicates(subset=['track_artists_ids'], keep='first')\n",
    "id_df2"
   ]
  },
  {
   "cell_type": "markdown",
   "id": "54f9ea7d",
   "metadata": {},
   "source": [
    "#### Convert to list"
   ]
  },
  {
   "cell_type": "code",
   "execution_count": null,
   "id": "a505930b",
   "metadata": {},
   "outputs": [],
   "source": [
    "artist_id_list = id_df2['track_artists_ids'].tolist()\n",
    "artist_id_list"
   ]
  },
  {
   "cell_type": "markdown",
   "id": "136592a4",
   "metadata": {},
   "source": [
    "#### Function to extract all the details of each artist by passing their ID:"
   ]
  },
  {
   "cell_type": "code",
   "execution_count": null,
   "id": "939f9d64",
   "metadata": {},
   "outputs": [],
   "source": [
    "def get_artist_data(artist_id):\n",
    "    meta = sp.artist(artist_id)\n",
    "    artist_details = {'artist id': meta['id'],\n",
    "                    'artist name': meta['name'],\n",
    "                    'genres': meta['genres'],\n",
    "                    'popularity': meta['popularity'],\n",
    "                    'followers': meta['followers']['total']\n",
    "                    }\n",
    "    return artist_details"
   ]
  },
  {
   "cell_type": "markdown",
   "id": "641731a7",
   "metadata": {},
   "source": [
    "####  Extract artist data"
   ]
  },
  {
   "cell_type": "markdown",
   "id": "66e5c5ff",
   "metadata": {},
   "source": [
    "Extract artist data from list"
   ]
  },
  {
   "cell_type": "code",
   "execution_count": null,
   "id": "05620473",
   "metadata": {},
   "outputs": [],
   "source": [
    "artists = []\n",
    "#  Loop over track ids and get their data points\n",
    "for i in tqdm(range(len(artist_id_list))):\n",
    "    time.sleep(.5)\n",
    "    artist = get_artist_data(artist_id_list[i])\n",
    "    artists.append(artist)"
   ]
  },
  {
   "cell_type": "code",
   "execution_count": null,
   "id": "17e7610b",
   "metadata": {},
   "outputs": [],
   "source": [
    "artists"
   ]
  },
  {
   "cell_type": "markdown",
   "id": "15925ba6",
   "metadata": {},
   "source": [
    "#### Create dataframe"
   ]
  },
  {
   "cell_type": "code",
   "execution_count": null,
   "id": "77582d27",
   "metadata": {},
   "outputs": [],
   "source": [
    "artist_df = pd.DataFrame(artists)\n",
    "artist_df"
   ]
  },
  {
   "cell_type": "markdown",
   "id": "a363a71c",
   "metadata": {},
   "source": [
    "# ================================================="
   ]
  },
  {
   "cell_type": "markdown",
   "id": "462c132e",
   "metadata": {},
   "source": [
    "## Self Contained Loop Example"
   ]
  },
  {
   "cell_type": "markdown",
   "id": "9d59ef0c",
   "metadata": {},
   "source": [
    "### Supporting function definitions"
   ]
  },
  {
   "cell_type": "markdown",
   "id": "cac0a559",
   "metadata": {},
   "source": [
    "#### Album artists names function"
   ]
  },
  {
   "cell_type": "code",
   "execution_count": 182,
   "id": "70a85d8a",
   "metadata": {},
   "outputs": [],
   "source": [
    "def get_all_album_artists_names(track_id):\n",
    "    meta = sp.track(track_id)\n",
    "    album_artist_list = []\n",
    "    for item in (meta['album']['artists']):\n",
    "        album_artist = item['name']\n",
    "        album_artist_list.append(album_artist)\n",
    "    return album_artist_list     "
   ]
  },
  {
   "cell_type": "markdown",
   "id": "41717cf5",
   "metadata": {},
   "source": [
    "Test with track id '3fFBZvG777xoKyvcrBq7lc?si=f241a44d776b451a'"
   ]
  },
  {
   "cell_type": "code",
   "execution_count": 181,
   "id": "66182673",
   "metadata": {},
   "outputs": [
    {
     "data": {
      "text/plain": [
       "['Future', 'Juice WRLD']"
      ]
     },
     "execution_count": 181,
     "metadata": {},
     "output_type": "execute_result"
    }
   ],
   "source": [
    "get_all_album_artists_names('3fFBZvG777xoKyvcrBq7lc?si=f241a44d776b451a')"
   ]
  },
  {
   "cell_type": "markdown",
   "id": "50814ecb",
   "metadata": {},
   "source": [
    "#### Album artists ids function"
   ]
  },
  {
   "cell_type": "code",
   "execution_count": 187,
   "id": "1b60b1f6",
   "metadata": {},
   "outputs": [],
   "source": [
    "def get_all_album_artists_ids(track_id):\n",
    "    meta = sp.track(track_id)\n",
    "    album_artist_id_list = []\n",
    "    for item in (meta['album']['artists']):\n",
    "        album_artist_id = item['id']\n",
    "        album_artist_id_list.append(album_artist_id)\n",
    "    return album_artist_id_list     "
   ]
  },
  {
   "cell_type": "markdown",
   "id": "6714fec9",
   "metadata": {},
   "source": [
    "Test with track id '3fFBZvG777xoKyvcrBq7lc?si=f241a44d776b451a'"
   ]
  },
  {
   "cell_type": "code",
   "execution_count": 188,
   "id": "39192857",
   "metadata": {},
   "outputs": [
    {
     "data": {
      "text/plain": [
       "['1RyvyyTE3xzB2ZywiAwp0i', '4MCBfE4596Uoi2O4DtmEMz']"
      ]
     },
     "execution_count": 188,
     "metadata": {},
     "output_type": "execute_result"
    }
   ],
   "source": [
    "get_all_album_artists_ids('3fFBZvG777xoKyvcrBq7lc?si=f241a44d776b451a')"
   ]
  },
  {
   "cell_type": "markdown",
   "id": "66eee0a6",
   "metadata": {},
   "source": [
    "#### Album artists genres function"
   ]
  },
  {
   "cell_type": "code",
   "execution_count": 205,
   "id": "17eaf179",
   "metadata": {},
   "outputs": [],
   "source": [
    "def get_all_album_artists_genres(track_id):\n",
    "    meta = sp.track(track_id)\n",
    "    album_artist_genre_list = []\n",
    "    for item in (meta['album']['artists']):\n",
    "        album_artist_id = item['id']\n",
    "        album_artist_genres = sp.artist(album_artist_id)['genres']\n",
    "        album_artist_genre_list.append(album_artist_genres)\n",
    "    return album_artist_genre_list     "
   ]
  },
  {
   "cell_type": "markdown",
   "id": "eefef7b9",
   "metadata": {},
   "source": [
    "Test with track id '3fFBZvG777xoKyvcrBq7lc?si=f241a44d776b451a'"
   ]
  },
  {
   "cell_type": "code",
   "execution_count": 206,
   "id": "60242837",
   "metadata": {},
   "outputs": [
    {
     "data": {
      "text/plain": [
       "[['atl hip hop', 'hip hop', 'pop rap', 'rap', 'southern hip hop', 'trap'],\n",
       " ['chicago rap', 'melodic rap']]"
      ]
     },
     "execution_count": 206,
     "metadata": {},
     "output_type": "execute_result"
    }
   ],
   "source": [
    "get_all_album_artists_genres('3fFBZvG777xoKyvcrBq7lc?si=f241a44d776b451a')"
   ]
  },
  {
   "cell_type": "markdown",
   "id": "3b99f223",
   "metadata": {},
   "source": [
    "#### Album artists popularity function"
   ]
  },
  {
   "cell_type": "code",
   "execution_count": 209,
   "id": "b54138b6",
   "metadata": {},
   "outputs": [],
   "source": [
    "def get_all_album_artists_popularity(track_id):\n",
    "    meta = sp.track(track_id)\n",
    "    album_artist_popularity_list = []\n",
    "    for item in (meta['album']['artists']):\n",
    "        album_artist_id = item['id']\n",
    "        album_artist_popularity = sp.artist(album_artist_id)['popularity']\n",
    "        album_artist_popularity_list.append(album_artist_popularity)\n",
    "    return album_artist_popularity_list     "
   ]
  },
  {
   "cell_type": "markdown",
   "id": "4537946e",
   "metadata": {},
   "source": [
    "Test with track id '3fFBZvG777xoKyvcrBq7lc?si=f241a44d776b451a'"
   ]
  },
  {
   "cell_type": "code",
   "execution_count": 210,
   "id": "6c9d6a22",
   "metadata": {},
   "outputs": [
    {
     "data": {
      "text/plain": [
       "[91, 97]"
      ]
     },
     "execution_count": 210,
     "metadata": {},
     "output_type": "execute_result"
    }
   ],
   "source": [
    "get_all_album_artists_popularity('3fFBZvG777xoKyvcrBq7lc?si=f241a44d776b451a')"
   ]
  },
  {
   "cell_type": "markdown",
   "id": "052ba84b",
   "metadata": {},
   "source": [
    "#### Album artists followers function"
   ]
  },
  {
   "cell_type": "code",
   "execution_count": 213,
   "id": "cf37145f",
   "metadata": {},
   "outputs": [],
   "source": [
    "def get_all_album_artists_followers(track_id):\n",
    "    meta = sp.track(track_id)\n",
    "    album_artist_followers_list = []\n",
    "    for item in (meta['album']['artists']):\n",
    "        album_artist_id = item['id']\n",
    "        album_artist_followers = sp.artist(album_artist_id)['followers']['total']\n",
    "        album_artist_followers_list.append(album_artist_followers)\n",
    "    return album_artist_followers_list     "
   ]
  },
  {
   "cell_type": "markdown",
   "id": "8cb4f9af",
   "metadata": {},
   "source": [
    "Test with track id '3fFBZvG777xoKyvcrBq7lc?si=f241a44d776b451a'"
   ]
  },
  {
   "cell_type": "code",
   "execution_count": 214,
   "id": "52a7c21c",
   "metadata": {},
   "outputs": [
    {
     "data": {
      "text/plain": [
       "[10972060, 21500025]"
      ]
     },
     "execution_count": 214,
     "metadata": {},
     "output_type": "execute_result"
    }
   ],
   "source": [
    "get_all_album_artists_followers('3fFBZvG777xoKyvcrBq7lc?si=f241a44d776b451a')"
   ]
  },
  {
   "cell_type": "markdown",
   "id": "b0690450",
   "metadata": {},
   "source": [
    "#### Track artists names function"
   ]
  },
  {
   "cell_type": "code",
   "execution_count": 189,
   "id": "e1b33bf8",
   "metadata": {},
   "outputs": [],
   "source": [
    "def get_all_track_artists_names(track_id):\n",
    "    meta = sp.track(track_id)\n",
    "    track_artist_list = []\n",
    "    for item in (meta['artists']):\n",
    "        track_artist = item['name']\n",
    "        track_artist_list.append(track_artist)\n",
    "    return track_artist_list     "
   ]
  },
  {
   "cell_type": "markdown",
   "id": "bf6cdb7f",
   "metadata": {},
   "source": [
    "Test with track id '3fFBZvG777xoKyvcrBq7lc?si=f241a44d776b451a'"
   ]
  },
  {
   "cell_type": "code",
   "execution_count": 190,
   "id": "4b768d76",
   "metadata": {},
   "outputs": [
    {
     "data": {
      "text/plain": [
       "['Future', 'Juice WRLD', 'Young Thug']"
      ]
     },
     "execution_count": 190,
     "metadata": {},
     "output_type": "execute_result"
    }
   ],
   "source": [
    "get_all_track_artists_names('3fFBZvG777xoKyvcrBq7lc?si=f241a44d776b451a')"
   ]
  },
  {
   "cell_type": "markdown",
   "id": "fe28b5fe",
   "metadata": {},
   "source": [
    "#### Track artists ids function"
   ]
  },
  {
   "cell_type": "code",
   "execution_count": 191,
   "id": "b8d3be31",
   "metadata": {},
   "outputs": [],
   "source": [
    "def get_all_track_artists_ids(track_id):\n",
    "    meta = sp.track(track_id)\n",
    "    track_artist_id_list = []\n",
    "    for item in (meta['artists']):\n",
    "        track_artist = item['id']\n",
    "        track_artist_id_list.append(track_artist)\n",
    "    return track_artist_id_list     "
   ]
  },
  {
   "cell_type": "markdown",
   "id": "bec466a2",
   "metadata": {},
   "source": [
    "Test with track id '3fFBZvG777xoKyvcrBq7lc?si=f241a44d776b451a'"
   ]
  },
  {
   "cell_type": "code",
   "execution_count": 192,
   "id": "aff36ea8",
   "metadata": {},
   "outputs": [
    {
     "data": {
      "text/plain": [
       "['1RyvyyTE3xzB2ZywiAwp0i', '4MCBfE4596Uoi2O4DtmEMz', '50co4Is1HCEo8bhOyUWKpn']"
      ]
     },
     "execution_count": 192,
     "metadata": {},
     "output_type": "execute_result"
    }
   ],
   "source": [
    "get_all_track_artists_ids('3fFBZvG777xoKyvcrBq7lc?si=f241a44d776b451a')"
   ]
  },
  {
   "cell_type": "markdown",
   "id": "8467cf72",
   "metadata": {},
   "source": [
    "#### Track artists genres function"
   ]
  },
  {
   "cell_type": "code",
   "execution_count": 215,
   "id": "455280a9",
   "metadata": {},
   "outputs": [],
   "source": [
    "def get_all_track_artists_genres(track_id):\n",
    "    meta = sp.track(track_id)\n",
    "    track_artist_genre_list = []\n",
    "    for item in (meta['artists']):\n",
    "        track_artist_id = item['id']\n",
    "        track_artist_genres = sp.artist(track_artist_id)['genres']\n",
    "        track_artist_genre_list.append(track_artist_genres)\n",
    "    return track_artist_genre_list     "
   ]
  },
  {
   "cell_type": "markdown",
   "id": "4f50d32e",
   "metadata": {},
   "source": [
    "Test with track id '3fFBZvG777xoKyvcrBq7lc?si=f241a44d776b451a'"
   ]
  },
  {
   "cell_type": "code",
   "execution_count": 216,
   "id": "e8e23548",
   "metadata": {},
   "outputs": [
    {
     "data": {
      "text/plain": [
       "[['atl hip hop', 'hip hop', 'pop rap', 'rap', 'southern hip hop', 'trap'],\n",
       " ['chicago rap', 'melodic rap'],\n",
       " ['atl hip hop',\n",
       "  'atl trap',\n",
       "  'gangster rap',\n",
       "  'hip hop',\n",
       "  'melodic rap',\n",
       "  'rap',\n",
       "  'trap']]"
      ]
     },
     "execution_count": 216,
     "metadata": {},
     "output_type": "execute_result"
    }
   ],
   "source": [
    "get_all_track_artists_genres('3fFBZvG777xoKyvcrBq7lc?si=f241a44d776b451a')"
   ]
  },
  {
   "cell_type": "markdown",
   "id": "45ba0043",
   "metadata": {},
   "source": [
    "#### Track artists popularity function"
   ]
  },
  {
   "cell_type": "code",
   "execution_count": 221,
   "id": "fd0d06df",
   "metadata": {},
   "outputs": [],
   "source": [
    "def get_all_track_artists_popularity(track_id):\n",
    "    meta = sp.track(track_id)\n",
    "    track_artist_popularity_list = []\n",
    "    for item in (meta['artists']):\n",
    "        track_artist_id = item['id']\n",
    "        track_artist_popularity = sp.artist(track_artist_id)['popularity']\n",
    "        track_artist_popularity_list.append(track_artist_popularity)\n",
    "    return track_artist_popularity_list     "
   ]
  },
  {
   "cell_type": "markdown",
   "id": "60c03454",
   "metadata": {},
   "source": [
    "Test with track id '3fFBZvG777xoKyvcrBq7lc?si=f241a44d776b451a'"
   ]
  },
  {
   "cell_type": "code",
   "execution_count": 222,
   "id": "ceb05d2c",
   "metadata": {},
   "outputs": [
    {
     "data": {
      "text/plain": [
       "[91, 97, 90]"
      ]
     },
     "execution_count": 222,
     "metadata": {},
     "output_type": "execute_result"
    }
   ],
   "source": [
    "get_all_track_artists_popularity('3fFBZvG777xoKyvcrBq7lc?si=f241a44d776b451a')"
   ]
  },
  {
   "cell_type": "markdown",
   "id": "0c72fa2f",
   "metadata": {},
   "source": [
    "#### Track artists followers function"
   ]
  },
  {
   "cell_type": "code",
   "execution_count": 223,
   "id": "b1c9415c",
   "metadata": {},
   "outputs": [],
   "source": [
    "def get_all_track_artists_followers(track_id):\n",
    "    meta = sp.track(track_id)\n",
    "    track_artist_followers_list = []\n",
    "    for item in (meta['artists']):\n",
    "        track_artist_id = item['id']\n",
    "        track_artist_followers = sp.artist(track_artist_id)['followers']['total']\n",
    "        track_artist_followers_list.append(track_artist_followers)\n",
    "    return track_artist_followers_list     "
   ]
  },
  {
   "cell_type": "markdown",
   "id": "5cb9b764",
   "metadata": {},
   "source": [
    "Test with track id '3fFBZvG777xoKyvcrBq7lc?si=f241a44d776b451a'"
   ]
  },
  {
   "cell_type": "code",
   "execution_count": 224,
   "id": "1904f835",
   "metadata": {},
   "outputs": [
    {
     "data": {
      "text/plain": [
       "[10972060, 21500025, 6833604]"
      ]
     },
     "execution_count": 224,
     "metadata": {},
     "output_type": "execute_result"
    }
   ],
   "source": [
    "get_all_track_artists_followers('3fFBZvG777xoKyvcrBq7lc?si=f241a44d776b451a')"
   ]
  },
  {
   "cell_type": "markdown",
   "id": "5c291172",
   "metadata": {},
   "source": [
    "### Playlist data return function"
   ]
  },
  {
   "cell_type": "code",
   "execution_count": 266,
   "id": "e1bc95e3",
   "metadata": {},
   "outputs": [],
   "source": [
    "def get_playlist_tracks_more_than_100_songs(username, playlist_id):\n",
    "    results = sp.user_playlist_tracks(username, playlist_id)\n",
    "    tracks = results['items']\n",
    "    while results['next']:\n",
    "        results = sp.next(results)\n",
    "        tracks.extend(results['items'])\n",
    "    results = tracks    \n",
    "    \n",
    "    pl_id = []\n",
    "    playlist_name = []\n",
    "    chart_position = []\n",
    "    album_name = []\n",
    "    album_id = []\n",
    "    album_release_date = []\n",
    "    album_artists = []\n",
    "    album_artists_ids = []\n",
    "    album_artists_genres = []\n",
    "    album_artists_popularity = []\n",
    "    album_artists_followers = []\n",
    "    track_name = []\n",
    "    track_id = []\n",
    "    track_popularity = []\n",
    "    track_explicit = []\n",
    "    track_artists = []\n",
    "    track_artists_ids = []\n",
    "    track_artists_genres = []\n",
    "    track_artists_popularity = []\n",
    "    track_artists_followers = []\n",
    "\n",
    "    for i in tqdm(range(len(results))):\n",
    "        if i == 0:\n",
    "            pl_id = playlist_id\n",
    "            chart_position = i + 1\n",
    "            album_name = results[i]['track']['album']['name']\n",
    "            album_id = results[i]['track']['album']['id']\n",
    "            album_release_date = results[i]['track']['album']['release_date']\n",
    "            album_artists = get_all_album_artists_names(results[i]['track']['id'])\n",
    "            album_artists_ids = get_all_album_artists_ids(results[i]['track']['id'])\n",
    "            album_artists_genres = get_all_album_artists_genres(results[i]['track']['id'])\n",
    "            album_artists_popularity = get_all_album_artists_popularity(results[i]['track']['id'])\n",
    "            album_artists_followers = get_all_album_artists_followers(results[i]['track']['id'])\n",
    "            track_name = results[i]['track']['name']\n",
    "            track_id = results[i]['track']['id']\n",
    "            track_popularity = results[i]['track']['popularity']\n",
    "            track_explicit = results[i]['track']['explicit']\n",
    "            track_artists = get_all_track_artists_names(results[i]['track']['id'])\n",
    "            track_artists_ids = get_all_album_artists_ids(results[i]['track']['id'])\n",
    "            track_artists_genres = get_all_album_artists_genres(results[i]['track']['id'])\n",
    "            track_artists_popularity = get_all_album_artists_popularity(results[i]['track']['id'])\n",
    "            track_artists_followers = get_all_album_artists_followers(results[i]['track']['id'])\n",
    "            features = sp.audio_features(track_id)\n",
    "            features_df = pd.DataFrame(data=features, columns=features[0].keys())\n",
    "            features_df['playlist_id'] = pl_id\n",
    "            features_df['position'] = chart_position\n",
    "            features_df['album_name'] = album_name\n",
    "            features_df['album_id'] = album_id\n",
    "            features_df['album_release_date'] = album_release_date\n",
    "            features_df['album_artists'] = album_artists\n",
    "            features_df['album_artists_ids'] = album_artists_ids\n",
    "            features_df['album_artists_genres'] = album_artists_genres\n",
    "            features_df['album_artists_popularity'] = album_artists_popularity\n",
    "            features_df['album_artists_followers'] = album_artists_followers\n",
    "            features_df['track_name'] = track_name\n",
    "            features_df['track_id'] = track_id\n",
    "            features_df['track_popularity'] = track_popularity\n",
    "            features_df['track_explicit'] = track_explicit\n",
    "            features_df['track_artists'] = track_artists\n",
    "            features_df['track_artists_ids'] = track_artists_ids\n",
    "            features_df['track_artists_genres'] = track_artists_genres\n",
    "            features_df['track_artists_popularity'] = track_artists_popularity\n",
    "            features_df['track_artists_followers'] = track_artists_followers            \n",
    "            features_df = features_df[['playlist_id', 'position', \n",
    "                                       'album_name', 'album_id', 'album_release_date', 'album_artists', 'album_artists_ids',\n",
    "                                       'album_artists_genres', 'album_artists_popularity', 'album_artists_followers',\n",
    "                                       'track_name', 'track_id', 'track_popularity', 'track_artists', \n",
    "                                       'track_artists_ids', 'track_artists_genres', 'track_artists_popularity', \n",
    "                                       'track_explicit', 'track_artists_followers', 'danceability', 'energy', \n",
    "                                       'key', 'loudness', 'mode', 'acousticness', 'instrumentalness',\n",
    "                                       'liveness', 'valence', 'tempo',\n",
    "                                       'duration_ms', 'time_signature']]\n",
    "            continue\n",
    "        else:\n",
    "            try:\n",
    "                pl_id = playlist_id\n",
    "                chart_position = (i + 1)\n",
    "                album_name = results[i]['track']['album']['name']\n",
    "                album_id = results[i]['track']['album']['id']\n",
    "                album_release_date = results[i]['track']['album']['release_date']\n",
    "                album_artists = get_all_album_artists_names(results[i]['track']['id'])\n",
    "                album_artists_ids = get_all_album_artists_ids(results[i]['track']['id'])\n",
    "                album_artists_genres = get_all_album_artists_genres(results[i]['track']['id'])\n",
    "                album_artists_popularity = get_all_album_artists_popularity(results[i]['track']['id'])\n",
    "                album_artists_followers = get_all_album_artists_followers(results[i]['track']['id'])\n",
    "                track_name = results[i]['track']['name']\n",
    "                track_id = results[i]['track']['id']\n",
    "                track_popularity = results[i]['track']['popularity']\n",
    "                track_artists = get_all_track_artists_names(results[i]['track']['id'])\n",
    "                track_artists_ids = get_all_album_artists_ids(results[i]['track']['id'])\n",
    "                track_artists_genres = get_all_album_artists_genres(results[i]['track']['id'])\n",
    "                track_artists_popularity = get_all_album_artists_popularity(results[i]['track']['id'])\n",
    "                track_explicit = results[i]['track']['explicit']\n",
    "                track_artists_followers = get_all_album_artists_followers(results[i]['track']['id'])\n",
    "                features = sp.audio_features(track_id)\n",
    "                new_row = {'playlist_id':[pl_id],\n",
    "                    'position':[chart_position],\n",
    "                    'album_name':[album_name],\n",
    "                    'album_id': [album_id],\n",
    "                    'album_release_date': [album_release_date],\n",
    "                    'album_artists': [album_artists],\n",
    "                    'album_artists_ids': [album_artists],\n",
    "                    'album_artists_genres': [album_artists_genres],\n",
    "                    'album_artists_popularity': [album_artists_popularity],\n",
    "                    'album_artists_followers': [album_artists_followers],\n",
    "                    'track_name': [track_name],\n",
    "                    'track_id': [track_id],\n",
    "                    'track_popularity': [track_popularity],\n",
    "                    'track_artists': [track_artists],\n",
    "                    'track_artists_ids': [track_artists_ids],\n",
    "                    'track_artists_genres': [track_artists_genres],\n",
    "                    'track_artists_popularity': [track_artists_popularity],\n",
    "                    'track_explicit': [track_explicit],\n",
    "                    'track_artists_followers': [track_artists_followers],\n",
    "                    'danceability':[features[0]['danceability']],\n",
    "                    'energy':[features[0]['energy']],\n",
    "                    'key':[features[0]['key']],\n",
    "                    'loudness':[features[0]['loudness']],\n",
    "                    'mode':[features[0]['mode']],\n",
    "                    'acousticness':[features[0]['acousticness']],\n",
    "                    'instrumentalness':[features[0]['instrumentalness']],\n",
    "                    'liveness':[features[0]['liveness']],\n",
    "                    'valence':[features[0]['valence']],\n",
    "                    'tempo':[features[0]['tempo']],\n",
    "                    'duration_ms':[features[0]['duration_ms']],\n",
    "                    'time_signature':[features[0]['time_signature']]\n",
    "                }\n",
    "\n",
    "                dfs = [features_df, pd.DataFrame(new_row)]\n",
    "                features_df = pd.concat(dfs, ignore_index = True)\n",
    "            except:\n",
    "                continue\n",
    "                \n",
    "    return features_df"
   ]
  },
  {
   "cell_type": "markdown",
   "id": "e1cec3c5",
   "metadata": {},
   "source": [
    "#### Playlist data return test"
   ]
  },
  {
   "cell_type": "code",
   "execution_count": 267,
   "id": "4f34b72e",
   "metadata": {},
   "outputs": [
    {
     "name": "stderr",
     "output_type": "stream",
     "text": [
      "100%|██████████| 200/200 [05:45<00:00,  1.73s/it]\n"
     ]
    }
   ],
   "source": [
    "chart2021 = get_playlist_tracks_more_than_100_songs('katiekellert', '3avCwQPH6DkhMTRsizon7N')"
   ]
  },
  {
   "cell_type": "code",
   "execution_count": 270,
   "id": "55c3ac8e",
   "metadata": {},
   "outputs": [
    {
     "data": {
      "text/plain": [
       "0      False\n",
       "1       True\n",
       "2       True\n",
       "3      False\n",
       "4       True\n",
       "       ...  \n",
       "195    False\n",
       "196    False\n",
       "197    False\n",
       "198    False\n",
       "199    False\n",
       "Name: track_explicit, Length: 200, dtype: bool"
      ]
     },
     "execution_count": 270,
     "metadata": {},
     "output_type": "execute_result"
    }
   ],
   "source": [
    "chart2021['track_explicit']"
   ]
  },
  {
   "cell_type": "markdown",
   "id": "7c8441dd",
   "metadata": {},
   "source": [
    "# ====================================================="
   ]
  },
  {
   "cell_type": "markdown",
   "id": "7c4d5a59",
   "metadata": {},
   "source": [
    "# WIP AREA"
   ]
  },
  {
   "cell_type": "code",
   "execution_count": null,
   "id": "4ac8d6bc",
   "metadata": {},
   "outputs": [],
   "source": []
  },
  {
   "cell_type": "markdown",
   "id": "e431c70b",
   "metadata": {},
   "source": [
    "### Get artist IDs from playlists or tracks"
   ]
  },
  {
   "cell_type": "markdown",
   "id": "8326cfa8",
   "metadata": {},
   "source": [
    "#### Create track container dictionaries\n",
    "\n",
    "* Note that since artists variable is not created in cell with function call, subsequent calls will be appended to the same dictionary"
   ]
  },
  {
   "cell_type": "code",
   "execution_count": 271,
   "id": "7a777c60",
   "metadata": {},
   "outputs": [],
   "source": [
    "artists = []"
   ]
  },
  {
   "cell_type": "markdown",
   "id": "43ee4da2",
   "metadata": {},
   "source": [
    "#### Function to extract all of the tracks' artist ids from your playlist:"
   ]
  },
  {
   "cell_type": "code",
   "execution_count": 272,
   "id": "758360a7",
   "metadata": {},
   "outputs": [],
   "source": [
    "def get_artist_ids(playlist_id):\n",
    "    artist_id_list = []\n",
    "    playlist = sp.playlist(playlist_id)\n",
    "    for item in playlist['tracks']['items']:\n",
    "        music_track = item['track']\n",
    "        artist_id_list.append(music_track['artists'][0]['id'])\n",
    "    return artist_id_list "
   ]
  },
  {
   "cell_type": "markdown",
   "id": "e35ffd58",
   "metadata": {},
   "source": [
    "Test with playlist id '27Wi4y5VlHr43Q6UpZMVyS'"
   ]
  },
  {
   "cell_type": "code",
   "execution_count": 273,
   "id": "e19a1962",
   "metadata": {},
   "outputs": [
    {
     "data": {
      "text/plain": [
       "['246dkjvS1zLTtiykXe5h60',\n",
       " '06HL4z0CvFAxyc27GXpf02',\n",
       " '4kYSro6naA4h99UJvo89HB',\n",
       " '15UsOTVnJzReFVN1VCnxy4',\n",
       " '2YZyLoL8N0Wb9xBt1NhZWg']"
      ]
     },
     "execution_count": 273,
     "metadata": {},
     "output_type": "execute_result"
    }
   ],
   "source": [
    "get_artist_ids('27Wi4y5VlHr43Q6UpZMVyS')"
   ]
  },
  {
   "cell_type": "code",
   "execution_count": 274,
   "id": "6d0d4137",
   "metadata": {},
   "outputs": [],
   "source": [
    "def get_all_track_artists_ids(track_id):\n",
    "    meta = sp.track(track_id)\n",
    "    track_artist_id_list = []\n",
    "    for item in (meta['artists']):\n",
    "        track_artist = item['id']\n",
    "        track_artist_id_list.append(track_artist)\n",
    "    return track_artist_id_list     "
   ]
  },
  {
   "cell_type": "markdown",
   "id": "c1d85787",
   "metadata": {},
   "source": [
    "Test with track id '3fFBZvG777xoKyvcrBq7lc?si=f241a44d776b451a'"
   ]
  },
  {
   "cell_type": "code",
   "execution_count": 275,
   "id": "abafd394",
   "metadata": {},
   "outputs": [
    {
     "data": {
      "text/plain": [
       "['1RyvyyTE3xzB2ZywiAwp0i', '4MCBfE4596Uoi2O4DtmEMz', '50co4Is1HCEo8bhOyUWKpn']"
      ]
     },
     "execution_count": 275,
     "metadata": {},
     "output_type": "execute_result"
    }
   ],
   "source": [
    "get_all_track_artists_ids('3fFBZvG777xoKyvcrBq7lc?si=f241a44d776b451a')"
   ]
  },
  {
   "cell_type": "markdown",
   "id": "8cec5567",
   "metadata": {},
   "source": [
    "#### Function to extract all the details of each artist by passing their ID:"
   ]
  },
  {
   "cell_type": "code",
   "execution_count": 276,
   "id": "02d36689",
   "metadata": {},
   "outputs": [],
   "source": [
    "def get_artist_data(artist_id):\n",
    "    meta = sp.artist(artist_id)\n",
    "    artist_details = {'artist id': meta['id'],\n",
    "                    'artist name': meta['name'],\n",
    "                    'genres': meta['genres'],\n",
    "                    'popularity': meta['popularity'],\n",
    "                    'followers': meta['followers']['total']\n",
    "                    }\n",
    "    return artist_details"
   ]
  },
  {
   "cell_type": "markdown",
   "id": "d181aada",
   "metadata": {},
   "source": [
    "####  Extract artist data"
   ]
  },
  {
   "cell_type": "markdown",
   "id": "ac394ca4",
   "metadata": {},
   "source": [
    "Extract artist data of each track\n",
    "\n",
    "For testing:  playlist_id = '27Wi4y5VlHr43Q6UpZMVyS'"
   ]
  },
  {
   "cell_type": "code",
   "execution_count": 279,
   "id": "3b4c3a72",
   "metadata": {},
   "outputs": [
    {
     "name": "stdout",
     "output_type": "stream",
     "text": [
      "Enter the playlist id27Wi4y5VlHr43Q6UpZMVyS\n"
     ]
    },
    {
     "name": "stderr",
     "output_type": "stream",
     "text": [
      "\r",
      "  0%|          | 0/5 [00:00<?, ?it/s]"
     ]
    },
    {
     "name": "stdout",
     "output_type": "stream",
     "text": [
      "5\n",
      "['246dkjvS1zLTtiykXe5h60', '06HL4z0CvFAxyc27GXpf02', '4kYSro6naA4h99UJvo89HB', '15UsOTVnJzReFVN1VCnxy4', '2YZyLoL8N0Wb9xBt1NhZWg']\n"
     ]
    },
    {
     "name": "stderr",
     "output_type": "stream",
     "text": [
      "100%|██████████| 5/5 [00:02<00:00,  1.68it/s]\n"
     ]
    }
   ],
   "source": [
    "# Get the ids for all the songs in your playlist\n",
    "playlist_id = input('Enter the playlist id')\n",
    "artist_ids = get_artist_ids(playlist_id)\n",
    "print(len(artist_ids))\n",
    "print(artist_ids)\n",
    "\n",
    "#  Loop over track ids and get their data points\n",
    "for i in tqdm(range(len(artist_ids))):\n",
    "    time.sleep(.5)\n",
    "    artist = get_artist_data(artist_ids[i])\n",
    "    artists.append(artist)"
   ]
  },
  {
   "cell_type": "markdown",
   "id": "b0f55a16",
   "metadata": {},
   "source": [
    "#### Create dataframe"
   ]
  },
  {
   "cell_type": "code",
   "execution_count": 280,
   "id": "67970574",
   "metadata": {},
   "outputs": [
    {
     "data": {
      "text/html": [
       "<div>\n",
       "<style scoped>\n",
       "    .dataframe tbody tr th:only-of-type {\n",
       "        vertical-align: middle;\n",
       "    }\n",
       "\n",
       "    .dataframe tbody tr th {\n",
       "        vertical-align: top;\n",
       "    }\n",
       "\n",
       "    .dataframe thead th {\n",
       "        text-align: right;\n",
       "    }\n",
       "</style>\n",
       "<table border=\"1\" class=\"dataframe\">\n",
       "  <thead>\n",
       "    <tr style=\"text-align: right;\">\n",
       "      <th></th>\n",
       "      <th>artist id</th>\n",
       "      <th>artist name</th>\n",
       "      <th>genres</th>\n",
       "      <th>popularity</th>\n",
       "      <th>followers</th>\n",
       "    </tr>\n",
       "  </thead>\n",
       "  <tbody>\n",
       "    <tr>\n",
       "      <th>0</th>\n",
       "      <td>246dkjvS1zLTtiykXe5h60</td>\n",
       "      <td>Post Malone</td>\n",
       "      <td>[dfw rap, melodic rap, rap]</td>\n",
       "      <td>92</td>\n",
       "      <td>35378269</td>\n",
       "    </tr>\n",
       "    <tr>\n",
       "      <th>1</th>\n",
       "      <td>06HL4z0CvFAxyc27GXpf02</td>\n",
       "      <td>Taylor Swift</td>\n",
       "      <td>[pop]</td>\n",
       "      <td>100</td>\n",
       "      <td>47325018</td>\n",
       "    </tr>\n",
       "    <tr>\n",
       "      <th>2</th>\n",
       "      <td>4kYSro6naA4h99UJvo89HB</td>\n",
       "      <td>Cardi B</td>\n",
       "      <td>[dance pop, pop, pop rap, rap]</td>\n",
       "      <td>86</td>\n",
       "      <td>18844041</td>\n",
       "    </tr>\n",
       "    <tr>\n",
       "      <th>3</th>\n",
       "      <td>15UsOTVnJzReFVN1VCnxy4</td>\n",
       "      <td>XXXTENTACION</td>\n",
       "      <td>[emo rap, miami hip hop]</td>\n",
       "      <td>91</td>\n",
       "      <td>33440056</td>\n",
       "    </tr>\n",
       "    <tr>\n",
       "      <th>4</th>\n",
       "      <td>2YZyLoL8N0Wb9xBt1NhZWg</td>\n",
       "      <td>Kendrick Lamar</td>\n",
       "      <td>[conscious hip hop, hip hop, rap, west coast rap]</td>\n",
       "      <td>90</td>\n",
       "      <td>18984347</td>\n",
       "    </tr>\n",
       "  </tbody>\n",
       "</table>\n",
       "</div>"
      ],
      "text/plain": [
       "                artist id     artist name  \\\n",
       "0  246dkjvS1zLTtiykXe5h60     Post Malone   \n",
       "1  06HL4z0CvFAxyc27GXpf02    Taylor Swift   \n",
       "2  4kYSro6naA4h99UJvo89HB         Cardi B   \n",
       "3  15UsOTVnJzReFVN1VCnxy4    XXXTENTACION   \n",
       "4  2YZyLoL8N0Wb9xBt1NhZWg  Kendrick Lamar   \n",
       "\n",
       "                                              genres  popularity  followers  \n",
       "0                        [dfw rap, melodic rap, rap]          92   35378269  \n",
       "1                                              [pop]         100   47325018  \n",
       "2                     [dance pop, pop, pop rap, rap]          86   18844041  \n",
       "3                           [emo rap, miami hip hop]          91   33440056  \n",
       "4  [conscious hip hop, hip hop, rap, west coast rap]          90   18984347  "
      ]
     },
     "execution_count": 280,
     "metadata": {},
     "output_type": "execute_result"
    }
   ],
   "source": [
    "artist_df = pd.DataFrame(artists)\n",
    "artist_df.head()"
   ]
  },
  {
   "cell_type": "markdown",
   "id": "c2145d1d",
   "metadata": {},
   "source": [
    "### Get track's audio features directly from playlist (for concept only, still a WIP)"
   ]
  },
  {
   "cell_type": "markdown",
   "id": "94f200fe",
   "metadata": {},
   "source": [
    "#### Function to extract each track's audio features from a playlist directly"
   ]
  },
  {
   "cell_type": "code",
   "execution_count": 281,
   "id": "4be9a505",
   "metadata": {},
   "outputs": [],
   "source": [
    "def get_playlist_tracks(playlist_id):\n",
    "    track_attributes = sp.playlist_tracks(playlist_id)\n",
    "    return track_attributes"
   ]
  },
  {
   "cell_type": "code",
   "execution_count": 282,
   "id": "135b7869",
   "metadata": {},
   "outputs": [
    {
     "name": "stderr",
     "output_type": "stream",
     "text": [
      "100%|██████████| 1/1 [00:00<00:00,  1.57it/s]\n"
     ]
    }
   ],
   "source": [
    "playlist_tracks_data = []\n",
    "playlist_ids = ['0qfagBJB5ou0r1kwQDZ8Op']\n",
    "\n",
    "#  Loop over playlist ids and get their data points\n",
    "for i in tqdm(range(len(playlist_ids))):\n",
    "    time.sleep(.5)\n",
    "    playlist_track = get_playlist_tracks(playlist_ids[i])\n",
    "    playlist_tracks_data.append(playlist_track)"
   ]
  },
  {
   "cell_type": "code",
   "execution_count": 283,
   "id": "d10cbbd3",
   "metadata": {},
   "outputs": [
    {
     "data": {
      "text/html": [
       "<div>\n",
       "<style scoped>\n",
       "    .dataframe tbody tr th:only-of-type {\n",
       "        vertical-align: middle;\n",
       "    }\n",
       "\n",
       "    .dataframe tbody tr th {\n",
       "        vertical-align: top;\n",
       "    }\n",
       "\n",
       "    .dataframe thead th {\n",
       "        text-align: right;\n",
       "    }\n",
       "</style>\n",
       "<table border=\"1\" class=\"dataframe\">\n",
       "  <thead>\n",
       "    <tr style=\"text-align: right;\">\n",
       "      <th></th>\n",
       "      <th>href</th>\n",
       "      <th>items</th>\n",
       "      <th>limit</th>\n",
       "      <th>next</th>\n",
       "      <th>offset</th>\n",
       "      <th>previous</th>\n",
       "      <th>total</th>\n",
       "    </tr>\n",
       "  </thead>\n",
       "  <tbody>\n",
       "    <tr>\n",
       "      <th>0</th>\n",
       "      <td>https://api.spotify.com/v1/playlists/0qfagBJB5...</td>\n",
       "      <td>[{'added_at': '2015-12-04T17:25:30Z', 'added_b...</td>\n",
       "      <td>100</td>\n",
       "      <td>None</td>\n",
       "      <td>0</td>\n",
       "      <td>None</td>\n",
       "      <td>21</td>\n",
       "    </tr>\n",
       "  </tbody>\n",
       "</table>\n",
       "</div>"
      ],
      "text/plain": [
       "                                                href  \\\n",
       "0  https://api.spotify.com/v1/playlists/0qfagBJB5...   \n",
       "\n",
       "                                               items  limit  next  offset  \\\n",
       "0  [{'added_at': '2015-12-04T17:25:30Z', 'added_b...    100  None       0   \n",
       "\n",
       "  previous  total  \n",
       "0     None     21  "
      ]
     },
     "execution_count": 283,
     "metadata": {},
     "output_type": "execute_result"
    }
   ],
   "source": [
    "playlist_df = pd.DataFrame(playlist_tracks_data)\n",
    "playlist_df"
   ]
  },
  {
   "cell_type": "code",
   "execution_count": null,
   "id": "4e93236b",
   "metadata": {},
   "outputs": [],
   "source": []
  },
  {
   "cell_type": "markdown",
   "id": "fbf7515c",
   "metadata": {},
   "source": [
    "### Get track's audio features directly from playlist (for concept only, still a WIP)"
   ]
  },
  {
   "cell_type": "markdown",
   "id": "a8027369",
   "metadata": {},
   "source": [
    "#### Function to extract each track's audio features from a playlist directly"
   ]
  },
  {
   "cell_type": "code",
   "execution_count": 284,
   "id": "c989d9f4",
   "metadata": {},
   "outputs": [],
   "source": [
    "def get_playlist_tracks(playlist_id):\n",
    "    track_attributes = sp.playlist_tracks(playlist_id)\n",
    "    return track_attributes"
   ]
  },
  {
   "cell_type": "code",
   "execution_count": 285,
   "id": "ba929ac7",
   "metadata": {},
   "outputs": [
    {
     "name": "stderr",
     "output_type": "stream",
     "text": [
      "100%|██████████| 1/1 [00:00<00:00,  1.53it/s]\n"
     ]
    }
   ],
   "source": [
    "playlist_tracks_data = []\n",
    "playlist_ids = ['0qfagBJB5ou0r1kwQDZ8Op']\n",
    "\n",
    "#  Loop over playlist ids and get their data points\n",
    "for i in tqdm(range(len(playlist_ids))):\n",
    "    time.sleep(.5)\n",
    "    playlist_track = get_playlist_tracks(playlist_ids[i])\n",
    "    playlist_tracks_data.append(playlist_track)"
   ]
  },
  {
   "cell_type": "code",
   "execution_count": 286,
   "id": "eea04c5f",
   "metadata": {},
   "outputs": [
    {
     "data": {
      "text/html": [
       "<div>\n",
       "<style scoped>\n",
       "    .dataframe tbody tr th:only-of-type {\n",
       "        vertical-align: middle;\n",
       "    }\n",
       "\n",
       "    .dataframe tbody tr th {\n",
       "        vertical-align: top;\n",
       "    }\n",
       "\n",
       "    .dataframe thead th {\n",
       "        text-align: right;\n",
       "    }\n",
       "</style>\n",
       "<table border=\"1\" class=\"dataframe\">\n",
       "  <thead>\n",
       "    <tr style=\"text-align: right;\">\n",
       "      <th></th>\n",
       "      <th>href</th>\n",
       "      <th>items</th>\n",
       "      <th>limit</th>\n",
       "      <th>next</th>\n",
       "      <th>offset</th>\n",
       "      <th>previous</th>\n",
       "      <th>total</th>\n",
       "    </tr>\n",
       "  </thead>\n",
       "  <tbody>\n",
       "    <tr>\n",
       "      <th>0</th>\n",
       "      <td>https://api.spotify.com/v1/playlists/0qfagBJB5...</td>\n",
       "      <td>[{'added_at': '2015-12-04T17:25:30Z', 'added_b...</td>\n",
       "      <td>100</td>\n",
       "      <td>None</td>\n",
       "      <td>0</td>\n",
       "      <td>None</td>\n",
       "      <td>21</td>\n",
       "    </tr>\n",
       "  </tbody>\n",
       "</table>\n",
       "</div>"
      ],
      "text/plain": [
       "                                                href  \\\n",
       "0  https://api.spotify.com/v1/playlists/0qfagBJB5...   \n",
       "\n",
       "                                               items  limit  next  offset  \\\n",
       "0  [{'added_at': '2015-12-04T17:25:30Z', 'added_b...    100  None       0   \n",
       "\n",
       "  previous  total  \n",
       "0     None     21  "
      ]
     },
     "execution_count": 286,
     "metadata": {},
     "output_type": "execute_result"
    }
   ],
   "source": [
    "playlist_df = pd.DataFrame(playlist_tracks_data)\n",
    "playlist_df"
   ]
  },
  {
   "cell_type": "markdown",
   "id": "5ed25255",
   "metadata": {},
   "source": [
    "# ================================================"
   ]
  },
  {
   "cell_type": "code",
   "execution_count": 287,
   "id": "be3f6a25",
   "metadata": {},
   "outputs": [
    {
     "data": {
      "text/plain": [
       "200"
      ]
     },
     "execution_count": 287,
     "metadata": {},
     "output_type": "execute_result"
    }
   ],
   "source": [
    "tracks_count = sp.playlist('3avCwQPH6DkhMTRsizon7N')['tracks']['total']\n",
    "tracks_count"
   ]
  },
  {
   "cell_type": "code",
   "execution_count": null,
   "id": "90762555",
   "metadata": {},
   "outputs": [],
   "source": []
  },
  {
   "cell_type": "markdown",
   "id": "01ccc9dc",
   "metadata": {},
   "source": [
    "Extract info of each track\n",
    "\n",
    "For testing:  playlist_id = '3avCwQPH6DkhMTRsizon7N'"
   ]
  },
  {
   "cell_type": "markdown",
   "id": "e36cf2f5",
   "metadata": {},
   "source": [
    "#### Loop testing: "
   ]
  },
  {
   "cell_type": "code",
   "execution_count": 288,
   "id": "26b0d6d1",
   "metadata": {},
   "outputs": [
    {
     "name": "stdout",
     "output_type": "stream",
     "text": [
      "Billboard 200 Top Albums 2021\n",
      "200\n"
     ]
    }
   ],
   "source": [
    "playlist_id = '3avCwQPH6DkhMTRsizon7N'\n",
    "tracks_count = sp.playlist(playlist_id)['tracks']['total']\n",
    "playlist_name = sp.playlist(playlist_id)['name']\n",
    "print(playlist_name)\n",
    "print(tracks_count)"
   ]
  },
  {
   "cell_type": "code",
   "execution_count": 290,
   "id": "b38556a1",
   "metadata": {},
   "outputs": [
    {
     "ename": "IndentationError",
     "evalue": "unindent does not match any outer indentation level (<tokenize>, line 46)",
     "output_type": "error",
     "traceback": [
      "\u001b[0;36m  File \u001b[0;32m\"<tokenize>\"\u001b[0;36m, line \u001b[0;32m46\u001b[0m\n\u001b[0;31m    return trackId\u001b[0m\n\u001b[0m    ^\u001b[0m\n\u001b[0;31mIndentationError\u001b[0m\u001b[0;31m:\u001b[0m unindent does not match any outer indentation level\n"
     ]
    }
   ],
   "source": [
    "def get_playlist_tracks(playlist_id):\n",
    "    results = sp.user_playlist_tracks(username,playlist_id)\n",
    "    tracks = results['items']\n",
    "    while results['next']:\n",
    "        results = sp.next(results)\n",
    "        tracks.extend(results['items'])\n",
    "    return tracks\n",
    "      \n",
    "      \n",
    "      \n",
    "# empty list, batchsize and the counter for None results\n",
    "rows = []\n",
    "batchsize = 100\n",
    "None_counter = 0\n",
    "\n",
    "for i in range(0,len(df_tracks['track_id']),batchsize):\n",
    "    batch = df_tracks['track_id'][i:i+batchsize]\n",
    "    feature_results = sp.audio_features(batch)\n",
    "    for i, t in enumerate(feature_results):\n",
    "        if t == None:\n",
    "            None_counter = None_counter + 1\n",
    "        else:\n",
    "            rows.append(t)\n",
    "            \n",
    "print('Number of tracks where no audio features were available:',None_counter)\n",
    "\n",
    "\n",
    "\n",
    "\n",
    "\n",
    "\n",
    "\n",
    "def show_tracks (results, uriArray):\n",
    "    for i, item in enumerate(results['items']) :\n",
    "        track = item['track']\n",
    "        uriArray-append(track['id'])\n",
    "                              \n",
    "def get_playlist_track_id (username, playlist_ id):\n",
    "    trackId = []\n",
    "    results = sp.user_playlist(username, playlist_id)\n",
    "    tracks = results['tracks']\n",
    "    show_tracks (tracks, trackId)\n",
    "    while tracks['next']:\n",
    "            tracks = sp.next (tracks)\n",
    "            show_tracks (tracks, trackId)\n",
    "        return trackId"
   ]
  },
  {
   "cell_type": "markdown",
   "id": "8cd074cb",
   "metadata": {},
   "source": [
    "#### Create dataframe"
   ]
  },
  {
   "cell_type": "code",
   "execution_count": 291,
   "id": "2d501fe1",
   "metadata": {},
   "outputs": [
    {
     "data": {
      "text/html": [
       "<div>\n",
       "<style scoped>\n",
       "    .dataframe tbody tr th:only-of-type {\n",
       "        vertical-align: middle;\n",
       "    }\n",
       "\n",
       "    .dataframe tbody tr th {\n",
       "        vertical-align: top;\n",
       "    }\n",
       "\n",
       "    .dataframe thead th {\n",
       "        text-align: right;\n",
       "    }\n",
       "</style>\n",
       "<table border=\"1\" class=\"dataframe\">\n",
       "  <thead>\n",
       "    <tr style=\"text-align: right;\">\n",
       "      <th></th>\n",
       "      <th>uri</th>\n",
       "      <th>name</th>\n",
       "      <th>track_artists</th>\n",
       "      <th>track_artists_ids</th>\n",
       "      <th>album</th>\n",
       "      <th>album_artists</th>\n",
       "      <th>release_date</th>\n",
       "      <th>explicit</th>\n",
       "      <th>duration_in_mins</th>\n",
       "      <th>acousticness</th>\n",
       "      <th>...</th>\n",
       "      <th>liveness</th>\n",
       "      <th>loudness</th>\n",
       "      <th>speechiness</th>\n",
       "      <th>tempo</th>\n",
       "      <th>time_signature</th>\n",
       "      <th>track_duration_in_seconds</th>\n",
       "      <th>end_of_fade_in</th>\n",
       "      <th>start_of_fade_out</th>\n",
       "      <th>key</th>\n",
       "      <th>mode</th>\n",
       "    </tr>\n",
       "  </thead>\n",
       "  <tbody>\n",
       "    <tr>\n",
       "      <th>0</th>\n",
       "      <td>spotify:track:0e7ipj03S05BNilyu5bRzt</td>\n",
       "      <td>rockstar (feat. 21 Savage)</td>\n",
       "      <td>[Post Malone, 21 Savage]</td>\n",
       "      <td>[246dkjvS1zLTtiykXe5h60, 1URnnhqYAYcrqrcwql10ft]</td>\n",
       "      <td>beerbongs &amp; bentleys</td>\n",
       "      <td>[Post Malone]</td>\n",
       "      <td>2018-04-27</td>\n",
       "      <td>True</td>\n",
       "      <td>3.64</td>\n",
       "      <td>0.1240</td>\n",
       "      <td>...</td>\n",
       "      <td>0.1310</td>\n",
       "      <td>-6.136</td>\n",
       "      <td>0.0712</td>\n",
       "      <td>159.801</td>\n",
       "      <td>4</td>\n",
       "      <td>218.14667</td>\n",
       "      <td>0.00000</td>\n",
       "      <td>215.41151</td>\n",
       "      <td>5</td>\n",
       "      <td>0</td>\n",
       "    </tr>\n",
       "    <tr>\n",
       "      <th>1</th>\n",
       "      <td>spotify:track:1P17dC1amhFzptugyAO7Il</td>\n",
       "      <td>Look What You Made Me Do</td>\n",
       "      <td>[Taylor Swift]</td>\n",
       "      <td>[06HL4z0CvFAxyc27GXpf02]</td>\n",
       "      <td>reputation</td>\n",
       "      <td>[Taylor Swift]</td>\n",
       "      <td>2017-11-10</td>\n",
       "      <td>False</td>\n",
       "      <td>3.53</td>\n",
       "      <td>0.2040</td>\n",
       "      <td>...</td>\n",
       "      <td>0.1260</td>\n",
       "      <td>-6.471</td>\n",
       "      <td>0.1230</td>\n",
       "      <td>128.070</td>\n",
       "      <td>4</td>\n",
       "      <td>211.85333</td>\n",
       "      <td>0.34884</td>\n",
       "      <td>209.84454</td>\n",
       "      <td>9</td>\n",
       "      <td>0</td>\n",
       "    </tr>\n",
       "    <tr>\n",
       "      <th>2</th>\n",
       "      <td>spotify:track:3bsycjdQtbcJeR6822SBvd</td>\n",
       "      <td>I Like It</td>\n",
       "      <td>[Cardi B, Bad Bunny, J Balvin]</td>\n",
       "      <td>[4kYSro6naA4h99UJvo89HB, 4q3ewBCX7sLwd24euuV69...</td>\n",
       "      <td>Invasion of Privacy</td>\n",
       "      <td>[Cardi B]</td>\n",
       "      <td>2018-04-05</td>\n",
       "      <td>False</td>\n",
       "      <td>4.22</td>\n",
       "      <td>0.0981</td>\n",
       "      <td>...</td>\n",
       "      <td>0.3780</td>\n",
       "      <td>-4.026</td>\n",
       "      <td>0.1360</td>\n",
       "      <td>136.050</td>\n",
       "      <td>4</td>\n",
       "      <td>253.39029</td>\n",
       "      <td>0.15116</td>\n",
       "      <td>241.78938</td>\n",
       "      <td>5</td>\n",
       "      <td>0</td>\n",
       "    </tr>\n",
       "    <tr>\n",
       "      <th>3</th>\n",
       "      <td>spotify:track:3ee8Jmje8o58CHK66QrVC2</td>\n",
       "      <td>SAD!</td>\n",
       "      <td>[XXXTENTACION]</td>\n",
       "      <td>[15UsOTVnJzReFVN1VCnxy4]</td>\n",
       "      <td>?</td>\n",
       "      <td>[XXXTENTACION]</td>\n",
       "      <td>2018-03-16</td>\n",
       "      <td>True</td>\n",
       "      <td>2.78</td>\n",
       "      <td>0.2580</td>\n",
       "      <td>...</td>\n",
       "      <td>0.1230</td>\n",
       "      <td>-4.880</td>\n",
       "      <td>0.1450</td>\n",
       "      <td>75.023</td>\n",
       "      <td>4</td>\n",
       "      <td>166.60553</td>\n",
       "      <td>0.00000</td>\n",
       "      <td>155.38794</td>\n",
       "      <td>8</td>\n",
       "      <td>1</td>\n",
       "    </tr>\n",
       "    <tr>\n",
       "      <th>4</th>\n",
       "      <td>spotify:track:3GCdLUSnKSMJhs4Tj6CV3s</td>\n",
       "      <td>All The Stars (with SZA)</td>\n",
       "      <td>[Kendrick Lamar, SZA]</td>\n",
       "      <td>[2YZyLoL8N0Wb9xBt1NhZWg, 7tYKF4w9nC0nq9CsPZTHyP]</td>\n",
       "      <td>Black Panther The Album Music From And Inspire...</td>\n",
       "      <td>[Kendrick Lamar, SZA]</td>\n",
       "      <td>2018-02-09</td>\n",
       "      <td>True</td>\n",
       "      <td>3.87</td>\n",
       "      <td>0.0605</td>\n",
       "      <td>...</td>\n",
       "      <td>0.0926</td>\n",
       "      <td>-4.946</td>\n",
       "      <td>0.0597</td>\n",
       "      <td>96.924</td>\n",
       "      <td>4</td>\n",
       "      <td>232.18668</td>\n",
       "      <td>0.00000</td>\n",
       "      <td>227.49170</td>\n",
       "      <td>8</td>\n",
       "      <td>1</td>\n",
       "    </tr>\n",
       "    <tr>\n",
       "      <th>5</th>\n",
       "      <td>spotify:track:0e7ipj03S05BNilyu5bRzt</td>\n",
       "      <td>rockstar (feat. 21 Savage)</td>\n",
       "      <td>[Post Malone, 21 Savage]</td>\n",
       "      <td>[246dkjvS1zLTtiykXe5h60, 1URnnhqYAYcrqrcwql10ft]</td>\n",
       "      <td>beerbongs &amp; bentleys</td>\n",
       "      <td>[Post Malone]</td>\n",
       "      <td>2018-04-27</td>\n",
       "      <td>True</td>\n",
       "      <td>3.64</td>\n",
       "      <td>0.1240</td>\n",
       "      <td>...</td>\n",
       "      <td>0.1310</td>\n",
       "      <td>-6.136</td>\n",
       "      <td>0.0712</td>\n",
       "      <td>159.801</td>\n",
       "      <td>4</td>\n",
       "      <td>218.14667</td>\n",
       "      <td>0.00000</td>\n",
       "      <td>215.41151</td>\n",
       "      <td>5</td>\n",
       "      <td>0</td>\n",
       "    </tr>\n",
       "    <tr>\n",
       "      <th>6</th>\n",
       "      <td>spotify:track:1P17dC1amhFzptugyAO7Il</td>\n",
       "      <td>Look What You Made Me Do</td>\n",
       "      <td>[Taylor Swift]</td>\n",
       "      <td>[06HL4z0CvFAxyc27GXpf02]</td>\n",
       "      <td>reputation</td>\n",
       "      <td>[Taylor Swift]</td>\n",
       "      <td>2017-11-10</td>\n",
       "      <td>False</td>\n",
       "      <td>3.53</td>\n",
       "      <td>0.2040</td>\n",
       "      <td>...</td>\n",
       "      <td>0.1260</td>\n",
       "      <td>-6.471</td>\n",
       "      <td>0.1230</td>\n",
       "      <td>128.070</td>\n",
       "      <td>4</td>\n",
       "      <td>211.85333</td>\n",
       "      <td>0.34884</td>\n",
       "      <td>209.84454</td>\n",
       "      <td>9</td>\n",
       "      <td>0</td>\n",
       "    </tr>\n",
       "    <tr>\n",
       "      <th>7</th>\n",
       "      <td>spotify:track:3bsycjdQtbcJeR6822SBvd</td>\n",
       "      <td>I Like It</td>\n",
       "      <td>[Cardi B, Bad Bunny, J Balvin]</td>\n",
       "      <td>[4kYSro6naA4h99UJvo89HB, 4q3ewBCX7sLwd24euuV69...</td>\n",
       "      <td>Invasion of Privacy</td>\n",
       "      <td>[Cardi B]</td>\n",
       "      <td>2018-04-05</td>\n",
       "      <td>False</td>\n",
       "      <td>4.22</td>\n",
       "      <td>0.0981</td>\n",
       "      <td>...</td>\n",
       "      <td>0.3780</td>\n",
       "      <td>-4.026</td>\n",
       "      <td>0.1360</td>\n",
       "      <td>136.050</td>\n",
       "      <td>4</td>\n",
       "      <td>253.39029</td>\n",
       "      <td>0.15116</td>\n",
       "      <td>241.78938</td>\n",
       "      <td>5</td>\n",
       "      <td>0</td>\n",
       "    </tr>\n",
       "    <tr>\n",
       "      <th>8</th>\n",
       "      <td>spotify:track:3ee8Jmje8o58CHK66QrVC2</td>\n",
       "      <td>SAD!</td>\n",
       "      <td>[XXXTENTACION]</td>\n",
       "      <td>[15UsOTVnJzReFVN1VCnxy4]</td>\n",
       "      <td>?</td>\n",
       "      <td>[XXXTENTACION]</td>\n",
       "      <td>2018-03-16</td>\n",
       "      <td>True</td>\n",
       "      <td>2.78</td>\n",
       "      <td>0.2580</td>\n",
       "      <td>...</td>\n",
       "      <td>0.1230</td>\n",
       "      <td>-4.880</td>\n",
       "      <td>0.1450</td>\n",
       "      <td>75.023</td>\n",
       "      <td>4</td>\n",
       "      <td>166.60553</td>\n",
       "      <td>0.00000</td>\n",
       "      <td>155.38794</td>\n",
       "      <td>8</td>\n",
       "      <td>1</td>\n",
       "    </tr>\n",
       "    <tr>\n",
       "      <th>9</th>\n",
       "      <td>spotify:track:3GCdLUSnKSMJhs4Tj6CV3s</td>\n",
       "      <td>All The Stars (with SZA)</td>\n",
       "      <td>[Kendrick Lamar, SZA]</td>\n",
       "      <td>[2YZyLoL8N0Wb9xBt1NhZWg, 7tYKF4w9nC0nq9CsPZTHyP]</td>\n",
       "      <td>Black Panther The Album Music From And Inspire...</td>\n",
       "      <td>[Kendrick Lamar, SZA]</td>\n",
       "      <td>2018-02-09</td>\n",
       "      <td>True</td>\n",
       "      <td>3.87</td>\n",
       "      <td>0.0605</td>\n",
       "      <td>...</td>\n",
       "      <td>0.0926</td>\n",
       "      <td>-4.946</td>\n",
       "      <td>0.0597</td>\n",
       "      <td>96.924</td>\n",
       "      <td>4</td>\n",
       "      <td>232.18668</td>\n",
       "      <td>0.00000</td>\n",
       "      <td>227.49170</td>\n",
       "      <td>8</td>\n",
       "      <td>1</td>\n",
       "    </tr>\n",
       "  </tbody>\n",
       "</table>\n",
       "<p>10 rows × 23 columns</p>\n",
       "</div>"
      ],
      "text/plain": [
       "                                    uri                        name  \\\n",
       "0  spotify:track:0e7ipj03S05BNilyu5bRzt  rockstar (feat. 21 Savage)   \n",
       "1  spotify:track:1P17dC1amhFzptugyAO7Il    Look What You Made Me Do   \n",
       "2  spotify:track:3bsycjdQtbcJeR6822SBvd                   I Like It   \n",
       "3  spotify:track:3ee8Jmje8o58CHK66QrVC2                        SAD!   \n",
       "4  spotify:track:3GCdLUSnKSMJhs4Tj6CV3s    All The Stars (with SZA)   \n",
       "5  spotify:track:0e7ipj03S05BNilyu5bRzt  rockstar (feat. 21 Savage)   \n",
       "6  spotify:track:1P17dC1amhFzptugyAO7Il    Look What You Made Me Do   \n",
       "7  spotify:track:3bsycjdQtbcJeR6822SBvd                   I Like It   \n",
       "8  spotify:track:3ee8Jmje8o58CHK66QrVC2                        SAD!   \n",
       "9  spotify:track:3GCdLUSnKSMJhs4Tj6CV3s    All The Stars (with SZA)   \n",
       "\n",
       "                    track_artists  \\\n",
       "0        [Post Malone, 21 Savage]   \n",
       "1                  [Taylor Swift]   \n",
       "2  [Cardi B, Bad Bunny, J Balvin]   \n",
       "3                  [XXXTENTACION]   \n",
       "4           [Kendrick Lamar, SZA]   \n",
       "5        [Post Malone, 21 Savage]   \n",
       "6                  [Taylor Swift]   \n",
       "7  [Cardi B, Bad Bunny, J Balvin]   \n",
       "8                  [XXXTENTACION]   \n",
       "9           [Kendrick Lamar, SZA]   \n",
       "\n",
       "                                   track_artists_ids  \\\n",
       "0   [246dkjvS1zLTtiykXe5h60, 1URnnhqYAYcrqrcwql10ft]   \n",
       "1                           [06HL4z0CvFAxyc27GXpf02]   \n",
       "2  [4kYSro6naA4h99UJvo89HB, 4q3ewBCX7sLwd24euuV69...   \n",
       "3                           [15UsOTVnJzReFVN1VCnxy4]   \n",
       "4   [2YZyLoL8N0Wb9xBt1NhZWg, 7tYKF4w9nC0nq9CsPZTHyP]   \n",
       "5   [246dkjvS1zLTtiykXe5h60, 1URnnhqYAYcrqrcwql10ft]   \n",
       "6                           [06HL4z0CvFAxyc27GXpf02]   \n",
       "7  [4kYSro6naA4h99UJvo89HB, 4q3ewBCX7sLwd24euuV69...   \n",
       "8                           [15UsOTVnJzReFVN1VCnxy4]   \n",
       "9   [2YZyLoL8N0Wb9xBt1NhZWg, 7tYKF4w9nC0nq9CsPZTHyP]   \n",
       "\n",
       "                                               album          album_artists  \\\n",
       "0                               beerbongs & bentleys          [Post Malone]   \n",
       "1                                         reputation         [Taylor Swift]   \n",
       "2                                Invasion of Privacy              [Cardi B]   \n",
       "3                                                  ?         [XXXTENTACION]   \n",
       "4  Black Panther The Album Music From And Inspire...  [Kendrick Lamar, SZA]   \n",
       "5                               beerbongs & bentleys          [Post Malone]   \n",
       "6                                         reputation         [Taylor Swift]   \n",
       "7                                Invasion of Privacy              [Cardi B]   \n",
       "8                                                  ?         [XXXTENTACION]   \n",
       "9  Black Panther The Album Music From And Inspire...  [Kendrick Lamar, SZA]   \n",
       "\n",
       "  release_date  explicit  duration_in_mins  acousticness  ...  liveness  \\\n",
       "0   2018-04-27      True              3.64        0.1240  ...    0.1310   \n",
       "1   2017-11-10     False              3.53        0.2040  ...    0.1260   \n",
       "2   2018-04-05     False              4.22        0.0981  ...    0.3780   \n",
       "3   2018-03-16      True              2.78        0.2580  ...    0.1230   \n",
       "4   2018-02-09      True              3.87        0.0605  ...    0.0926   \n",
       "5   2018-04-27      True              3.64        0.1240  ...    0.1310   \n",
       "6   2017-11-10     False              3.53        0.2040  ...    0.1260   \n",
       "7   2018-04-05     False              4.22        0.0981  ...    0.3780   \n",
       "8   2018-03-16      True              2.78        0.2580  ...    0.1230   \n",
       "9   2018-02-09      True              3.87        0.0605  ...    0.0926   \n",
       "\n",
       "   loudness  speechiness    tempo  time_signature  track_duration_in_seconds  \\\n",
       "0    -6.136       0.0712  159.801               4                  218.14667   \n",
       "1    -6.471       0.1230  128.070               4                  211.85333   \n",
       "2    -4.026       0.1360  136.050               4                  253.39029   \n",
       "3    -4.880       0.1450   75.023               4                  166.60553   \n",
       "4    -4.946       0.0597   96.924               4                  232.18668   \n",
       "5    -6.136       0.0712  159.801               4                  218.14667   \n",
       "6    -6.471       0.1230  128.070               4                  211.85333   \n",
       "7    -4.026       0.1360  136.050               4                  253.39029   \n",
       "8    -4.880       0.1450   75.023               4                  166.60553   \n",
       "9    -4.946       0.0597   96.924               4                  232.18668   \n",
       "\n",
       "   end_of_fade_in  start_of_fade_out  key  mode  \n",
       "0         0.00000          215.41151    5     0  \n",
       "1         0.34884          209.84454    9     0  \n",
       "2         0.15116          241.78938    5     0  \n",
       "3         0.00000          155.38794    8     1  \n",
       "4         0.00000          227.49170    8     1  \n",
       "5         0.00000          215.41151    5     0  \n",
       "6         0.34884          209.84454    9     0  \n",
       "7         0.15116          241.78938    5     0  \n",
       "8         0.00000          155.38794    8     1  \n",
       "9         0.00000          227.49170    8     1  \n",
       "\n",
       "[10 rows x 23 columns]"
      ]
     },
     "execution_count": 291,
     "metadata": {},
     "output_type": "execute_result"
    }
   ],
   "source": [
    "df_allartists = pd.DataFrame(tracks_with_allartists)\n",
    "df_allartists"
   ]
  },
  {
   "cell_type": "code",
   "execution_count": null,
   "id": "a955aa77",
   "metadata": {},
   "outputs": [],
   "source": []
  }
 ],
 "metadata": {
  "kernelspec": {
   "display_name": "Python 3",
   "language": "python",
   "name": "python3"
  },
  "language_info": {
   "codemirror_mode": {
    "name": "ipython",
    "version": 3
   },
   "file_extension": ".py",
   "mimetype": "text/x-python",
   "name": "python",
   "nbconvert_exporter": "python",
   "pygments_lexer": "ipython3",
   "version": "3.8.8"
  }
 },
 "nbformat": 4,
 "nbformat_minor": 5
}
