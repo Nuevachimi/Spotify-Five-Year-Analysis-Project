{
 "cells": [
  {
   "cell_type": "markdown",
   "id": "4c917509",
   "metadata": {},
   "source": [
    "# Genre Explosion"
   ]
  },
  {
   "cell_type": "markdown",
   "id": "f5a9f84b",
   "metadata": {},
   "source": [
    "## Imports"
   ]
  },
  {
   "cell_type": "code",
   "execution_count": 2,
   "id": "04fac86b",
   "metadata": {},
   "outputs": [],
   "source": [
    "import pandas as pd\n",
    "import numpy as np"
   ]
  },
  {
   "cell_type": "code",
   "execution_count": null,
   "id": "8b7c2e76",
   "metadata": {},
   "outputs": [],
   "source": [
    "alltracks = pd.read_csv(data/)"
   ]
  }
 ],
 "metadata": {
  "kernelspec": {
   "display_name": "Python 3",
   "language": "python",
   "name": "python3"
  },
  "language_info": {
   "codemirror_mode": {
    "name": "ipython",
    "version": 3
   },
   "file_extension": ".py",
   "mimetype": "text/x-python",
   "name": "python",
   "nbconvert_exporter": "python",
   "pygments_lexer": "ipython3",
   "version": "3.8.8"
  }
 },
 "nbformat": 4,
 "nbformat_minor": 5
}
