{
 "cells": [
  {
   "cell_type": "markdown",
   "id": "478b40e9",
   "metadata": {},
   "source": [
    "# Spotify x Billboard Five Year Analysis Project: Exploratory Analysis"
   ]
  },
  {
   "cell_type": "markdown",
   "id": "dad07292",
   "metadata": {},
   "source": [
    "## Import packages "
   ]
  },
  {
   "cell_type": "code",
   "execution_count": 1,
   "id": "b8c137d2",
   "metadata": {},
   "outputs": [],
   "source": [
    "import os\n",
    "import pandas as pd\n",
    "pd.options.mode.chained_assignment = None  # default='warn'\n",
    "import matplotlib.pyplot as plt\n",
    "import numpy as np\n",
    "import seaborn as sns\n",
    "from wordcloud import WordCloud\n",
    "import fontTools\n",
    "%matplotlib inline\n",
    "plt.rcParams['figure.figsize'] = [12, 8]\n",
    "plt.rcParams['figure.dpi'] = 100 # 200 e.g. is really fine, but slower"
   ]
  },
  {
   "cell_type": "markdown",
   "id": "c7890a3c",
   "metadata": {},
   "source": [
    "### Set Display Options"
   ]
  },
  {
   "cell_type": "markdown",
   "id": "227eb870",
   "metadata": {},
   "source": [
    "#### Set to display all columns (max 500)"
   ]
  },
  {
   "cell_type": "code",
   "execution_count": 2,
   "id": "9cb981ae",
   "metadata": {},
   "outputs": [],
   "source": [
    "pd.set_option('display.max_columns', 500)"
   ]
  },
  {
   "cell_type": "markdown",
   "id": "b8f93559",
   "metadata": {},
   "source": [
    "#### Disable display window scrolling for notebook"
   ]
  },
  {
   "cell_type": "code",
   "execution_count": 3,
   "id": "32db34d0",
   "metadata": {},
   "outputs": [
    {
     "data": {
      "application/javascript": [
       "IPython.OutputArea.prototype._should_scroll = function(lines) {\n",
       "   return false;\n",
       "}\n"
      ],
      "text/plain": [
       "<IPython.core.display.Javascript object>"
      ]
     },
     "metadata": {},
     "output_type": "display_data"
    }
   ],
   "source": [
    "%%javascript\n",
    "IPython.OutputArea.prototype._should_scroll = function(lines) {\n",
    "   return false;\n",
    "}"
   ]
  },
  {
   "cell_type": "markdown",
   "id": "97b6c0fb",
   "metadata": {},
   "source": [
    "## Import dataframes"
   ]
  },
  {
   "cell_type": "markdown",
   "id": "946b9cab",
   "metadata": {},
   "source": [
    "### Import All Chart Tracks Table"
   ]
  },
  {
   "cell_type": "code",
   "execution_count": 4,
   "id": "153f1ec0",
   "metadata": {},
   "outputs": [],
   "source": [
    "df1=pd.read_csv(\"../data/AllChartAlbumTracksRecoded.csv\")"
   ]
  },
  {
   "cell_type": "raw",
   "id": "df8f758e",
   "metadata": {},
   "source": [
    "df1 = df1.drop(\"Unnamed: 0\", axis=1)"
   ]
  },
  {
   "cell_type": "markdown",
   "id": "6a6c2fc1",
   "metadata": {},
   "source": [
    "### Import Master Chart Table"
   ]
  },
  {
   "cell_type": "code",
   "execution_count": 5,
   "id": "3cef1dbe",
   "metadata": {},
   "outputs": [],
   "source": [
    "df2=pd.read_csv(\"../data/MasterChartTableRecoded.csv\")"
   ]
  },
  {
   "cell_type": "raw",
   "id": "6f223e28",
   "metadata": {},
   "source": [
    "df2 = df2.drop(\"Unnamed: 0\", axis=1)"
   ]
  },
  {
   "cell_type": "code",
   "execution_count": 6,
   "id": "0eea6c79",
   "metadata": {},
   "outputs": [],
   "source": [
    "position_int = list(df2['position'])\n",
    "df2['chart_position'] = position_int"
   ]
  },
  {
   "cell_type": "code",
   "execution_count": 7,
   "id": "59820722",
   "metadata": {},
   "outputs": [],
   "source": [
    "df3 = df2[[\"playlist_id\", \"playlist_name\", \"chart_position\", \"album_release_date\", \"release_year\", \"release_date_datetime\", \"album_id\", 'album_artist']]"
   ]
  },
  {
   "cell_type": "markdown",
   "id": "70020fd8",
   "metadata": {},
   "source": [
    "### Join Master Chart and All Track Tables on the Album ID"
   ]
  },
  {
   "cell_type": "code",
   "execution_count": 8,
   "id": "55fd9594",
   "metadata": {
    "scrolled": false
   },
   "outputs": [],
   "source": [
    "df4 = pd.merge(df3, df1, on='album_id')"
   ]
  },
  {
   "cell_type": "code",
   "execution_count": 9,
   "id": "c6519913",
   "metadata": {
    "scrolled": true
   },
   "outputs": [],
   "source": [
    "df4 = df4.drop(\"Unnamed: 0\", axis=1)"
   ]
  },
  {
   "cell_type": "code",
   "execution_count": 11,
   "id": "9c76bc95",
   "metadata": {},
   "outputs": [],
   "source": [
    "df4.to_csv('../data/AllTracksAndChartsJoined.csv')"
   ]
  },
  {
   "cell_type": "markdown",
   "id": "ae0c0e1d",
   "metadata": {},
   "source": [
    "#### Select five most popular songs for each album on chart"
   ]
  },
  {
   "cell_type": "code",
   "execution_count": 12,
   "id": "0878bbf1",
   "metadata": {
    "scrolled": true
   },
   "outputs": [],
   "source": [
    "df5 = df4.sort_values('track_popularity', ascending = False).groupby(['playlist_name', 'album_id']).head(5)"
   ]
  },
  {
   "cell_type": "code",
   "execution_count": 13,
   "id": "c2df6225",
   "metadata": {},
   "outputs": [],
   "source": [
    "df5.to_csv('../data/MostPopularAlbumTracksAllChartsJoined.csv')"
   ]
  },
  {
   "cell_type": "markdown",
   "id": "9e2287bf",
   "metadata": {},
   "source": [
    "## Explorations"
   ]
  },
  {
   "cell_type": "markdown",
   "id": "a5debe0e",
   "metadata": {},
   "source": [
    "### Preliminary Questions"
   ]
  },
  {
   "cell_type": "markdown",
   "id": "236e1977",
   "metadata": {},
   "source": [
    "#### Shape of the dataframe:"
   ]
  },
  {
   "cell_type": "code",
   "execution_count": null,
   "id": "3b3187ca",
   "metadata": {},
   "outputs": [],
   "source": [
    "df4.shape\n",
    "#(rows, columns)"
   ]
  },
  {
   "cell_type": "markdown",
   "id": "c4c2a56f",
   "metadata": {},
   "source": [
    "#### Most popular song in dataset:"
   ]
  },
  {
   "cell_type": "code",
   "execution_count": null,
   "id": "92062538",
   "metadata": {},
   "outputs": [],
   "source": [
    "np.max(df4['track_popularity'])"
   ]
  },
  {
   "cell_type": "code",
   "execution_count": null,
   "id": "b656eaf8",
   "metadata": {},
   "outputs": [],
   "source": [
    "df4.loc[df4['track_popularity'] == 100]"
   ]
  },
  {
   "cell_type": "code",
   "execution_count": null,
   "id": "63014cbe",
   "metadata": {
    "scrolled": true
   },
   "outputs": [],
   "source": [
    "print(f\"Most popular song: {set(df4[df4['track_popularity'] == 100]['track_name'].tolist())}\" f\" by {set(df4[df4['track_popularity'] == 100]['track_artist'].tolist())}\\n\")"
   ]
  },
  {
   "cell_type": "markdown",
   "id": "2eba442f",
   "metadata": {},
   "source": [
    "#### Scatter plot of track popularity compared to valence"
   ]
  },
  {
   "cell_type": "code",
   "execution_count": null,
   "id": "890827fd",
   "metadata": {},
   "outputs": [],
   "source": [
    "sns.scatterplot(x=\"valence\", y=\"track_popularity\",\n",
    "                hue=\"key\",\n",
    "                size=\"mode\",\n",
    "                palette=\"tab10\",\n",
    "                sizes=(150, 50), linewidth=0,\n",
    "                data= df5[df5['playlist_name'] == 'Billboard 200 Top Albums 2021'])\n",
    "plt.title('Scatter Plot of Valence vs Track Popularity Sized by Mode for Most Popular Songs from Chart Albums')\n",
    "plt.xlabel('Valence')\n",
    "plt.ylabel('Track Popularity')\n",
    "vpm_plot_key=plt.legend()\n",
    "vpm_plot_key.get_texts()[0].set_text('Key')\n",
    "vpm_plot_key.get_texts()[1].set_text('C')\n",
    "vpm_plot_key.get_texts()[2].set_text('C#')\n",
    "vpm_plot_key.get_texts()[3].set_text('D')\n",
    "vpm_plot_key.get_texts()[4].set_text('D#')\n",
    "vpm_plot_key.get_texts()[5].set_text('E')\n",
    "vpm_plot_key.get_texts()[6].set_text('F')\n",
    "vpm_plot_key.get_texts()[7].set_text('F#')\n",
    "vpm_plot_key.get_texts()[8].set_text('G')\n",
    "vpm_plot_key.get_texts()[9].set_text('G#/Ab')\n",
    "vpm_plot_key.get_texts()[10].set_text('A')\n",
    "vpm_plot_key.get_texts()[11].set_text('A#/Bb')\n",
    "vpm_plot_key.get_texts()[12].set_text('B')\n",
    "vpm_plot_key.get_texts()[13].set_text('Mode')\n",
    "vpm_plot_key.get_texts()[14].set_text('Minor Key')\n",
    "vpm_plot_key.get_texts()[15].set_text('Major Key')\n",
    "plt.savefig('../viz/pyplots/ValencePopularityModeScatterPlot.png')"
   ]
  },
  {
   "cell_type": "markdown",
   "id": "2cf60b0e",
   "metadata": {},
   "source": [
    "#### Average loudness for all chart years together: "
   ]
  },
  {
   "cell_type": "code",
   "execution_count": null,
   "id": "f777bb18",
   "metadata": {},
   "outputs": [],
   "source": [
    "print(f\"Average loudness for all years: {np.mean(df4['loudness'])} dB\\n\")"
   ]
  },
  {
   "cell_type": "markdown",
   "id": "4d212e14",
   "metadata": {},
   "source": [
    "#### Average loudness for each chart year: "
   ]
  },
  {
   "cell_type": "code",
   "execution_count": null,
   "id": "2602b94a",
   "metadata": {
    "scrolled": true
   },
   "outputs": [],
   "source": [
    "print(f\"Average loudness in 2017: {np.mean(df4[df4['playlist_name'] == 'Billboard 200 Top Albums 2017']['loudness'])} dB\")\n",
    "print(f\"Average loudness in 2018: {np.mean(df4[df4['playlist_name'] == 'Billboard 200 Top Albums 2018']['loudness'])} dB\")\n",
    "print(f\"Average loudness in 2019: {np.mean(df4[df4['playlist_name'] == 'Billboard 200 Top Albums 2019']['loudness'])} dB\")\n",
    "print(f\"Average loudness in 2020: {np.mean(df4[df4['playlist_name'] == 'Billboard 200 Top Albums 2020']['loudness'])} dB\")\n",
    "print(f\"Average loudness in 2021: {np.mean(df4[df4['playlist_name'] == 'Billboard 200 Top Albums 2021']['loudness'])} dB\")"
   ]
  },
  {
   "cell_type": "code",
   "execution_count": null,
   "id": "3cffc50c",
   "metadata": {},
   "outputs": [],
   "source": [
    "loudness_frame = df4[['track_id', 'playlist_name', 'main_genre', 'loudness', 'energy']]\n",
    "average_loudness = list(loudness_frame.groupby('playlist_name')['loudness'].mean())\n",
    "average_loudness"
   ]
  },
  {
   "cell_type": "markdown",
   "id": "1d7eea09",
   "metadata": {},
   "source": [
    "#### Chart of change in average loudness over time"
   ]
  },
  {
   "cell_type": "code",
   "execution_count": null,
   "id": "92ecc315",
   "metadata": {
    "scrolled": true
   },
   "outputs": [],
   "source": [
    "years = [2017, 2018, 2019, 2020, 2021]\n",
    "plt.plot(years, average_loudness, color='green', marker='o', linestyle='solid')\n",
    "plt.title(\"Change in Average Chart Album Track Loudness Over Time\")\n",
    "plt.xlabel(\"Year\")\n",
    "plt.ylabel(\"Average Loudness in dB normalization\")\n",
    "plt.xticks(np.arange(min(years), max(years)+1, 1.0))\n",
    "plt.show()\n",
    "plt.savefig('../viz/pyplots/LoudnessMeansOverTimeLineChart.png')"
   ]
  },
  {
   "cell_type": "markdown",
   "id": "3e05771a",
   "metadata": {},
   "source": [
    "#### Error bar of average loudness by genre"
   ]
  },
  {
   "cell_type": "code",
   "execution_count": null,
   "id": "a48b7258",
   "metadata": {},
   "outputs": [],
   "source": [
    "# create new table\n",
    "all_genre_features_table = df4[['track_name', 'track_id', 'main_genre', 'loudness', 'valence']]\n",
    "# grouping loudness by genre\n",
    "genre_loudness = all_genre_features_table.groupby('main_genre')['loudness'].aggregate(['min', np.mean, 'max'])\n",
    "# merge\n",
    "genre_loudness_error = pd.merge(all_genre_features_table, genre_loudness, how='left', left_on='main_genre', right_on = 'main_genre', copy=False).fillna(0)"
   ]
  },
  {
   "cell_type": "code",
   "execution_count": null,
   "id": "aff4a97e",
   "metadata": {},
   "outputs": [],
   "source": [
    "# Plot\n",
    "plt.errorbar(genre_loudness_error[\"main_genre\"],genre_loudness_error[\"mean\"], [genre_loudness_error[\"mean\"] - genre_loudness_error['min'],genre_loudness_error['max']-genre_loudness_error[\"mean\"]], linestyle='None',marker='o')\n",
    "plt.xticks(rotation='vertical')\n",
    "plt.title('Error Bar Chart of Loudness by Genre')\n",
    "plt.xlabel('Genre')\n",
    "plt.ylabel('Loudness in dB Normalization')\n",
    "plt.show()\n",
    "plt.savefig('../viz/pyplots/LoudnessbyGenreErrorChart.png')"
   ]
  },
  {
   "cell_type": "markdown",
   "id": "f0303334",
   "metadata": {},
   "source": [
    "#### Average valence for most popular album tracks all chart years together: "
   ]
  },
  {
   "cell_type": "code",
   "execution_count": null,
   "id": "abde3e3e",
   "metadata": {
    "scrolled": true
   },
   "outputs": [],
   "source": [
    "print(f\"Average valence for all years: {np.mean(df5['valence'])} dB\\n\")"
   ]
  },
  {
   "cell_type": "markdown",
   "id": "385aafcd",
   "metadata": {},
   "source": [
    "#### Error bar of average valence by genre"
   ]
  },
  {
   "cell_type": "code",
   "execution_count": null,
   "id": "3c8a5dd1",
   "metadata": {},
   "outputs": [],
   "source": [
    "# create new table\n",
    "all_genre_features_table = df4[['track_name', 'track_id', 'main_genre', 'loudness', 'valence']]\n",
    "# grouping loudness by genre\n",
    "genre_valence = all_genre_features_table.groupby('main_genre')['valence'].aggregate(['min', np.mean, 'max'])\n",
    "# merge\n",
    "genre_valence_error = pd.merge(all_genre_features_table, genre_valence, how='left', left_on='main_genre', right_on = 'main_genre', copy=False).fillna(0)"
   ]
  },
  {
   "cell_type": "code",
   "execution_count": null,
   "id": "ebbce396",
   "metadata": {},
   "outputs": [],
   "source": [
    "# Plot\n",
    "plt.errorbar(genre_valence_error[\"main_genre\"],genre_valence_error[\"mean\"], [genre_valence_error[\"mean\"] - genre_valence_error['min'],genre_valence_error['max'] - genre_valence_error[\"mean\"]], linestyle='None',marker='o')\n",
    "plt.xticks(rotation='vertical')\n",
    "plt.title('Error Bar Chart of Valence by Genre')\n",
    "plt.xlabel('Genre')\n",
    "plt.ylabel('Valence')\n",
    "plt.show()\n",
    "plt.savefig('../viz/pyplots/ValencebyGenreErrorChart.png')"
   ]
  },
  {
   "cell_type": "markdown",
   "id": "289311a9",
   "metadata": {},
   "source": [
    "#### Count plot for songs in each major and minor key"
   ]
  },
  {
   "cell_type": "code",
   "execution_count": null,
   "id": "5e824e8a",
   "metadata": {},
   "outputs": [],
   "source": [
    "key_plot = sns.countplot(data=df4, x='key', hue='mode', palette = 'Set1')\n",
    "plt.xlabel('Key')\n",
    "plt.ylabel('Song Count')\n",
    "plt.title('Count of Songs in Major and Minor Keys Across All Album Tracks')\n",
    "key_plot.set_xticklabels(['C','C#/Db','D','D#/Eb','E','F','F#/Gb','G', 'G#/Ab', 'A', 'A#/Bb', 'B'])\n",
    "plot_modes=plt.legend()\n",
    "plot_modes.get_texts()[0].set_text('Minor Key')\n",
    "plot_modes.get_texts()[1].set_text('Major Key')\n",
    "plt.savefig('../viz/pyplots/KeyCountPlot.png')"
   ]
  },
  {
   "cell_type": "markdown",
   "id": "b36f7676",
   "metadata": {},
   "source": [
    "#### Number of tracks with explicit lyrics"
   ]
  },
  {
   "cell_type": "code",
   "execution_count": null,
   "id": "f30f93ab",
   "metadata": {
    "scrolled": true
   },
   "outputs": [],
   "source": [
    "df4['track_explicit'].value_counts()"
   ]
  },
  {
   "cell_type": "code",
   "execution_count": null,
   "id": "0dc19e43",
   "metadata": {},
   "outputs": [],
   "source": [
    "plt.pie(df4['track_explicit'].value_counts(), \n",
    "        explode=(0.1, 0), \n",
    "        colors=['green', 'yellow'], \n",
    "        autopct='%1.1f%%',\n",
    "        shadow=True,\n",
    "        startangle=180, labels = ['Does Not Have Parental Advisory Label or Status Unknown', 'Has Parental Advisory Label']);\n",
    "plt.title('Percentage of Chart Album Tracks with Parental Advisory Label')\n",
    "plt.savefig('../viz/pyplots/ExplicitPieChart.png')"
   ]
  },
  {
   "cell_type": "markdown",
   "id": "fff84bef",
   "metadata": {},
   "source": [
    "#### Explicit Lyrics by Genre"
   ]
  },
  {
   "cell_type": "code",
   "execution_count": null,
   "id": "a5fc1a8f",
   "metadata": {},
   "outputs": [],
   "source": [
    "# Slice dataset\n",
    "exp_track = df4[['main_genre', 'track_explicit']]\n",
    "#Dummy code the explicit column\n",
    "exp_dummy = pd.get_dummies(exp_track, prefix='exp', columns=['track_explicit'])\n",
    "# Create grouped df\n",
    "exp_dummy_grouped = exp_dummy.groupby(\n",
    "     ['main_genre']\n",
    " ).agg(\n",
    "     not_exp = ('exp_False','sum'),\n",
    "     exp = ('exp_True','sum'),\n",
    " ).reset_index()"
   ]
  },
  {
   "cell_type": "code",
   "execution_count": null,
   "id": "e21fc7cb",
   "metadata": {},
   "outputs": [],
   "source": [
    "# Create stacked bar chart\n",
    "labels = list(exp_dummy_grouped['main_genre'])\n",
    "ax = exp_dummy_grouped.plot(kind='bar', stacked=True)\n",
    "ax.set(xticklabels = (labels))\n",
    "plt.title(\"Explicit Tracks by Genre\")\n",
    "plt.xlabel(\"Genre\")\n",
    "plt.ylabel(\"Number of Tracks\")\n",
    "plt.savefig('../viz/pyplots/ExpGenreStackedBarChart.png')"
   ]
  },
  {
   "cell_type": "markdown",
   "id": "cfb20d10",
   "metadata": {},
   "source": [
    "#### Stacked to 100% (filled) bar chart "
   ]
  },
  {
   "cell_type": "code",
   "execution_count": null,
   "id": "afdedc22",
   "metadata": {},
   "outputs": [],
   "source": [
    "plotdata = exp_dummy_grouped.set_index('main_genre')"
   ]
  },
  {
   "cell_type": "code",
   "execution_count": null,
   "id": "d93d4552",
   "metadata": {},
   "outputs": [],
   "source": [
    "stacked_data = plotdata.apply(lambda x: x*100/sum(x), axis=1)\n",
    "labels = list(exp_dummy_grouped['main_genre'])\n",
    "ax = stacked_data.plot(kind='bar', stacked=True)\n",
    "ax.set(xticklabels = (labels))\n",
    "plt.title(\"Explicit Tracks by Genre\")\n",
    "plt.xlabel(\"Genre\")\n",
    "plt.ylabel(\"Percentage of Tracks\")\n",
    "plt.savefig('../viz/pyplots/ExpGenreFilledBarChart.png')"
   ]
  },
  {
   "cell_type": "markdown",
   "id": "d2ee4309",
   "metadata": {},
   "source": [
    "#### Explicit Lyrics by Year"
   ]
  },
  {
   "cell_type": "code",
   "execution_count": null,
   "id": "53e853d1",
   "metadata": {},
   "outputs": [],
   "source": [
    "# Slice dataset\n",
    "exp_year = df4[['playlist_name', 'track_explicit']]\n",
    "#Dummy code the explicit column\n",
    "exp_year_dummy = pd.get_dummies(exp_year, prefix='exp', columns=['track_explicit'])\n",
    "# Create grouped df\n",
    "exp_year_dummy_grouped = exp_year_dummy.groupby(\n",
    "     ['playlist_name']\n",
    " ).agg(\n",
    "     not_exp = ('exp_False','sum'),\n",
    "     exp = ('exp_True','sum'),\n",
    " ).reset_index()\n",
    "exp_year_dummy_grouped"
   ]
  },
  {
   "cell_type": "code",
   "execution_count": null,
   "id": "24d64a61",
   "metadata": {},
   "outputs": [],
   "source": [
    "# Create stacked bar chart\n",
    "labels = list(['2017', '2018', '2019', '2020', '2021'])\n",
    "ax = exp_year_dummy_grouped.plot(kind='bar', stacked=True, color=['darkblue', 'red'])\n",
    "ax.set(xticklabels = (labels))\n",
    "plt.title(\"Explicit Tracks by Year\")\n",
    "plt.xlabel(\"Year\")\n",
    "plt.ylabel(\"Number of Tracks\")\n",
    "plt.savefig('../viz/pyplots/ExpYearStackedBarChart.png')"
   ]
  },
  {
   "cell_type": "markdown",
   "id": "9b179712",
   "metadata": {},
   "source": [
    "#### Stacked to 100% (filled) bar chart "
   ]
  },
  {
   "cell_type": "code",
   "execution_count": null,
   "id": "5171e1db",
   "metadata": {},
   "outputs": [],
   "source": [
    "plotdata = exp_year_dummy_grouped.set_index('playlist_name')\n",
    "plotdata.head()"
   ]
  },
  {
   "cell_type": "code",
   "execution_count": null,
   "id": "40f8bb51",
   "metadata": {},
   "outputs": [],
   "source": [
    "stacked_data = plotdata.apply(lambda x: x*100/sum(x), axis=1)\n",
    "labels = list(['2017', '2018', '2019', '2020', '2021'])\n",
    "ax = stacked_data.plot(kind='bar', stacked=True, color=['darkblue', 'red'])\n",
    "ax.set(xticklabels = (labels))\n",
    "plt.title(\"Explicit Tracks by Chart Year\")\n",
    "plt.xlabel(\"Year\")\n",
    "plt.ylabel(\"Percentage of Tracks\")\n",
    "plt.savefig('../viz/pyplots/ExpYearFilledBarChart.png')"
   ]
  },
  {
   "cell_type": "markdown",
   "id": "955da5a5",
   "metadata": {},
   "source": [
    "#### Average valence for most popular album songs for each chart year: "
   ]
  },
  {
   "cell_type": "code",
   "execution_count": null,
   "id": "8e58e76a",
   "metadata": {
    "scrolled": true
   },
   "outputs": [],
   "source": [
    "print(f\"Average valence in 2017: {np.mean(df5[df5['playlist_name'] == 'Billboard 200 Top Albums 2017']['valence'])}\")\n",
    "print(f\"Average valence in 2018: {np.mean(df5[df5['playlist_name'] == 'Billboard 200 Top Albums 2018']['valence'])}\")\n",
    "print(f\"Average valence in 2019: {np.mean(df5[df5['playlist_name'] == 'Billboard 200 Top Albums 2019']['valence'])}\")\n",
    "print(f\"Average valence in 2020: {np.mean(df5[df5['playlist_name'] == 'Billboard 200 Top Albums 2020']['valence'])}\")\n",
    "print(f\"Average valence in 2021: {np.mean(df5[df5['playlist_name'] == 'Billboard 200 Top Albums 2021']['valence'])}\")"
   ]
  },
  {
   "cell_type": "markdown",
   "id": "71ed8dff",
   "metadata": {},
   "source": [
    "#### Mean values of each audio feature"
   ]
  },
  {
   "cell_type": "code",
   "execution_count": null,
   "id": "9916aff6",
   "metadata": {
    "scrolled": true
   },
   "outputs": [],
   "source": [
    "df4[['danceability', 'energy', 'acousticness', 'instrumentalness', 'liveness', 'valence']].mean()"
   ]
  },
  {
   "cell_type": "markdown",
   "id": "e1da690d",
   "metadata": {},
   "source": [
    "#### Bar plot of audio feature means of most popular tracks per album"
   ]
  },
  {
   "cell_type": "code",
   "execution_count": null,
   "id": "ad44a835",
   "metadata": {
    "scrolled": true
   },
   "outputs": [],
   "source": [
    "feature_bars = df4[['danceability', 'energy', 'acousticness', 'instrumentalness', 'liveness', 'valence']]\n",
    "feature_bars.mean().plot.bar()\n",
    "plt.title('Mean Values of Audio Features Across All Tracks')\n",
    "plt.xlabel('Audio Features')\n",
    "plt.ylabel('Values')\n",
    "plt.savefig('../viz/pyplots/MeanAudioFeaturesBarPlot.png')"
   ]
  },
  {
   "cell_type": "markdown",
   "id": "60b33431",
   "metadata": {},
   "source": [
    "#### Histograms of audio features"
   ]
  },
  {
   "cell_type": "code",
   "execution_count": null,
   "id": "84c3bbae",
   "metadata": {},
   "outputs": [],
   "source": [
    "features = ['danceability', 'energy', 'key', 'loudness', 'acousticness', 'liveness', 'valence','tempo']\n",
    "for col in features:\n",
    "  sns.displot(df5, x=col, kde=True)\n",
    "  plt.show()"
   ]
  },
  {
   "cell_type": "markdown",
   "id": "f742dd9a",
   "metadata": {},
   "source": [
    "#### Correlation Heatmap of Features"
   ]
  },
  {
   "cell_type": "code",
   "execution_count": null,
   "id": "e3bb3fbb",
   "metadata": {},
   "outputs": [],
   "source": [
    "# Dataframe with audio features\n",
    "track_feature_corr = df4[['playlist_name', 'chart_position', 'track_popularity', 'track_explicit', 'danceability', 'energy', 'key','loudness', 'mode', 'acousticness', 'instrumentalness', 'liveness', 'valence', 'tempo', 'duration_ms', 'time_signature']]\n",
    "\n",
    "# Generate a mask for the upper part of the chart\n",
    "mask = np.triu(np.ones_like(track_feature_corr.corr(), dtype=bool))\n",
    "\n",
    "# Set up the matplotlib figure\n",
    "f, ax = plt.subplots(figsize=(11, 8))\n",
    "\n",
    "# Generate a custom diverging colormap\n",
    "cmap = sns.diverging_palette(230, 20, as_cmap=True)\n",
    "\n",
    "# Can add mask=mask in sns.heatmap to mask top triangle of plot. Removed to view entire plot.\n",
    "# Draw the heatmap with the mask and correct aspect ratio\n",
    "sns.heatmap(track_feature_corr.corr(), cmap=cmap, vmin=0, mask=mask, vmax=.5, \n",
    "            square=True, linewidths=.5, cbar_kws={\"shrink\": .5})\n",
    "plt.savefig('../viz/pyplots/CorrHeatMapAllTracks.png')"
   ]
  },
  {
   "cell_type": "markdown",
   "id": "b7126fd4",
   "metadata": {},
   "source": [
    "#### Average song length"
   ]
  },
  {
   "cell_type": "code",
   "execution_count": null,
   "id": "cd552c50",
   "metadata": {
    "scrolled": false
   },
   "outputs": [],
   "source": [
    "print(f\"Average song duration in minutes for all years: {int(np.mean(df4['duration_ms']) // 60000)}:\" f\"{round(np.mean(df4['duration_ms'] / 10000) % 60)} \\n\")"
   ]
  },
  {
   "cell_type": "code",
   "execution_count": null,
   "id": "06cd131d",
   "metadata": {
    "scrolled": true
   },
   "outputs": [],
   "source": [
    "print(f\"Average song duration in minutes for all years: {int(np.mean(df4['duration_ms']) // 60000)}:\" f\"{round(np.mean(df4['duration_ms'] / 10000) % 60)} \\n\")"
   ]
  },
  {
   "cell_type": "markdown",
   "id": "86a944e8",
   "metadata": {},
   "source": [
    "#### Longest song"
   ]
  },
  {
   "cell_type": "code",
   "execution_count": null,
   "id": "e13a8c99",
   "metadata": {},
   "outputs": [],
   "source": [
    "print(f\"Longest song in minutes: {df4.iloc[df4['duration_ms'].idxmax()]['track_name']} by \"\n",
    "        f\"{df4.iloc[df4['duration_ms'].idxmax()]['track_artist']}, length = \"\n",
    "        f\"{int(df4['duration_ms'].max() // 60000)}:\" f\"{round((df4['duration_ms'].max() / 10000) % 60)}\\n\")"
   ]
  },
  {
   "cell_type": "markdown",
   "id": "48bd1f2a",
   "metadata": {},
   "source": [
    "#### Artist that has the most appearances on charts across the entire dataset year range"
   ]
  },
  {
   "cell_type": "code",
   "execution_count": null,
   "id": "d180734e",
   "metadata": {},
   "outputs": [],
   "source": [
    "df_freq_art = df2.dropna(subset=['album_artist'])\n",
    "print(f\"Most frequently appearing album artist: {df_freq_art['album_artist'].value_counts().idxmax()}\" f\" appears {df_freq_art['album_artist'].value_counts().max()} times.\\n\")"
   ]
  },
  {
   "cell_type": "markdown",
   "id": "6993fa48",
   "metadata": {},
   "source": [
    "#### Number of chart appearances by particular artists:"
   ]
  },
  {
   "cell_type": "code",
   "execution_count": null,
   "id": "3d12e71c",
   "metadata": {
    "scrolled": false
   },
   "outputs": [],
   "source": [
    "print(\"Number of chart appearances of albums by Taylor Swift: \" + str(df2['album_artist'].str.contains(\"Taylor Swift\").sum()))\n",
    "print(\"Number of chart appearances of albums by Queen: \" + str(df2['album_artist'].str.contains(\"Queen\").sum()))\n",
    "print(\"Number of chart appearances of albums by Elton John: \" + str(df2['album_artist'].str.contains(\"Elton John\").sum()))"
   ]
  },
  {
   "cell_type": "markdown",
   "id": "cd063ecb",
   "metadata": {},
   "source": [
    "#### Create word cloud viz of artist chart appearance frequency"
   ]
  },
  {
   "cell_type": "markdown",
   "id": "7f89f799",
   "metadata": {},
   "source": [
    "Create df of artist frequencies"
   ]
  },
  {
   "cell_type": "code",
   "execution_count": null,
   "id": "8cbe5f50",
   "metadata": {},
   "outputs": [],
   "source": [
    "album_artist_chart_count = df2['album_artist'].value_counts()\n",
    "album_artist_chart_count = album_artist_chart_count.reset_index()\n",
    "album_artist_chart_count.columns = ['artist_name', 'artist_chart_frequency'] # change column names"
   ]
  },
  {
   "cell_type": "markdown",
   "id": "69cb899f",
   "metadata": {},
   "source": [
    "Convert df to dict"
   ]
  },
  {
   "cell_type": "code",
   "execution_count": null,
   "id": "c85398a1",
   "metadata": {},
   "outputs": [],
   "source": [
    "artist_freq = dict(zip(album_artist_chart_count['artist_name'].tolist(), album_artist_chart_count['artist_chart_frequency'].tolist()))"
   ]
  },
  {
   "cell_type": "markdown",
   "id": "f6f157c9",
   "metadata": {},
   "source": [
    "Plot word cloud"
   ]
  },
  {
   "cell_type": "code",
   "execution_count": null,
   "id": "e24b6ea3",
   "metadata": {
    "scrolled": true
   },
   "outputs": [],
   "source": [
    "wc_white = WordCloud(background_color='white',width=800, height=400, max_words=100).generate_from_frequencies(artist_freq)\n",
    "plt.figure(figsize=(20, 10))\n",
    "plt.imshow(wc_white, interpolation='bilinear')\n",
    "plt.axis('off')\n",
    "plt.show()\n",
    "# Plot visualizations must be saved manually as png, but can be exported to svg with the following:\n",
    "# wordcloud_svg = wc_white.to_svg(embed_font=True)\n",
    "# f = open(\"../viz/pyplots/ArtistChartAppearanceWordCloudWhite.svg\",\"w+\")\n",
    "# f.write(wordcloud_svg )\n",
    "# f.close()"
   ]
  },
  {
   "cell_type": "code",
   "execution_count": null,
   "id": "4250e105",
   "metadata": {},
   "outputs": [],
   "source": [
    "wc_black = WordCloud(background_color='black',width=800, height=400, max_words=100).generate_from_frequencies(artist_freq)\n",
    "plt.figure(figsize=(20, 10))\n",
    "plt.imshow(wc_black, interpolation='bilinear')\n",
    "plt.axis('off')\n",
    "plt.show()\n",
    "# Plot visualizations must be saved manually as png, but can be exported to svg with the following:\n",
    "# wordcloud_svg = wc_black.to_svg(embed_font=True)\n",
    "# f = open(\"../viz/pyplots/ArtistChartAppearanceWordCloudBlack.svg\",\"w+\")\n",
    "# f.write(wordcloud_svg )\n",
    "# f.close()"
   ]
  },
  {
   "cell_type": "markdown",
   "id": "566abf58",
   "metadata": {},
   "source": [
    "#### Queen songs appearances on all charts"
   ]
  },
  {
   "cell_type": "code",
   "execution_count": null,
   "id": "36254394",
   "metadata": {},
   "outputs": [],
   "source": [
    "df2.loc[df2['album_artist'] == \"Queen\"]"
   ]
  },
  {
   "cell_type": "markdown",
   "id": "229b77a8",
   "metadata": {},
   "source": [
    "#### Most popular Taylor Swift song on all charts"
   ]
  },
  {
   "cell_type": "code",
   "execution_count": null,
   "id": "5a38ae86",
   "metadata": {
    "scrolled": true
   },
   "outputs": [],
   "source": [
    "print(\"Most popular Taylor Swift song: \" + str(df4.iloc[df4[df4['track_artist'].str.contains('Taylor Swift')]['track_popularity'].idxmax]['track_name']) + \"\\n\")"
   ]
  },
  {
   "cell_type": "markdown",
   "id": "3dbd062f",
   "metadata": {},
   "source": [
    "#### Oldest track"
   ]
  },
  {
   "cell_type": "markdown",
   "id": "74af0f72",
   "metadata": {},
   "source": [
    "Wrangle release date format"
   ]
  },
  {
   "cell_type": "code",
   "execution_count": null,
   "id": "ed69c32f",
   "metadata": {
    "scrolled": true
   },
   "outputs": [],
   "source": [
    "# album_release_frame = df4[['track_name', 'track_artist', 'album_release_date', 'release_date_datetime', 'release_year']]\n",
    "album_release_frame = df4[['album_release_date', 'track_name', 'track_artist']]\n",
    "album_release_frame['datum'] = pd.to_datetime(album_release_frame['album_release_date'], format='%Y-%m-%d')\n",
    "album_release_frame['year'] = album_release_frame['datum'].dt.year"
   ]
  },
  {
   "cell_type": "code",
   "execution_count": null,
   "id": "29f19f60",
   "metadata": {
    "scrolled": true
   },
   "outputs": [],
   "source": [
    "print(f\" The oldest track present on the charts is \\\"{album_release_frame.loc[album_release_frame['year'].idxmin()]['track_name']}\\\" released in {df2['album_release_date'].min()}.\\n\")"
   ]
  },
  {
   "cell_type": "code",
   "execution_count": null,
   "id": "da79df57",
   "metadata": {},
   "outputs": [],
   "source": [
    "# Recode newest date to string\n",
    "date_time_str = album_release_frame.loc[album_release_frame['datum'].idxmax()]['datum'].strftime(\"%B %-d, %Y\")\n",
    "print(f\" The newest track present on the charts is \\\"{album_release_frame.loc[album_release_frame['datum'].idxmax()]['track_name']}\\\" released by {album_release_frame.loc[album_release_frame['datum'].idxmax()]['track_artist']} on {date_time_str}.\\n\")\n"
   ]
  },
  {
   "cell_type": "markdown",
   "id": "004af9f9",
   "metadata": {},
   "source": [
    "#### Bar chart of songs by release year"
   ]
  },
  {
   "cell_type": "code",
   "execution_count": null,
   "id": "a4557bd2",
   "metadata": {},
   "outputs": [],
   "source": [
    "# grouping the songs by year to get the sum\n",
    "release_year = album_release_frame.groupby('year', as_index=False)['track_name'].count()"
   ]
  },
  {
   "cell_type": "code",
   "execution_count": null,
   "id": "48b4b663",
   "metadata": {
    "scrolled": true
   },
   "outputs": [],
   "source": [
    "sns.barplot(data=release_year, x='year', y='track_name', palette='mako_r')\n",
    "plt.xticks(rotation=90)\n",
    "plt.title('Number of Songs by Album Release Year')\n",
    "plt.xlabel('Release Year')\n",
    "plt.ylabel('Number of Tracks')\n",
    "plt.show()\n",
    "plt.savefig('../viz/pyplots/TracksPerReleaseYearBarChart.png')"
   ]
  },
  {
   "cell_type": "code",
   "execution_count": null,
   "id": "dfa23c7e",
   "metadata": {},
   "outputs": [],
   "source": []
  },
  {
   "cell_type": "code",
   "execution_count": null,
   "id": "ba9e2869",
   "metadata": {},
   "outputs": [],
   "source": []
  }
 ],
 "metadata": {
  "kernelspec": {
   "display_name": "Python 3",
   "language": "python",
   "name": "python3"
  },
  "language_info": {
   "codemirror_mode": {
    "name": "ipython",
    "version": 3
   },
   "file_extension": ".py",
   "mimetype": "text/x-python",
   "name": "python",
   "nbconvert_exporter": "python",
   "pygments_lexer": "ipython3",
   "version": "3.8.8"
  }
 },
 "nbformat": 4,
 "nbformat_minor": 5
}
