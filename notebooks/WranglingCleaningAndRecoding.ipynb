{
 "cells": [
  {
   "cell_type": "markdown",
   "id": "b1d14ab4",
   "metadata": {},
   "source": [
    "# Genre & Artist Nested List Wrangling"
   ]
  },
  {
   "cell_type": "markdown",
   "id": "f79598de",
   "metadata": {},
   "source": [
    "## Imports"
   ]
  },
  {
   "cell_type": "code",
   "execution_count": 1,
   "id": "ececcbe6",
   "metadata": {
    "scrolled": true
   },
   "outputs": [],
   "source": [
    "import pandas as pd\n",
    "import numpy as np"
   ]
  },
  {
   "cell_type": "markdown",
   "id": "74455948",
   "metadata": {},
   "source": [
    "## Set display options"
   ]
  },
  {
   "cell_type": "code",
   "execution_count": 2,
   "id": "1ce76860",
   "metadata": {
    "scrolled": true
   },
   "outputs": [],
   "source": [
    "pd.set_option('display.max_columns', 75)"
   ]
  },
  {
   "cell_type": "markdown",
   "id": "dc46ee64",
   "metadata": {},
   "source": [
    "## Import data"
   ]
  },
  {
   "cell_type": "markdown",
   "id": "7d044b98",
   "metadata": {},
   "source": [
    "#### Import table for all chart album tracks"
   ]
  },
  {
   "cell_type": "code",
   "execution_count": 3,
   "id": "818883ea",
   "metadata": {
    "scrolled": true
   },
   "outputs": [],
   "source": [
    "df = pd.read_csv(\"../data/allchartalbumtracks.csv\")"
   ]
  },
  {
   "cell_type": "code",
   "execution_count": 4,
   "id": "3b1501a6",
   "metadata": {
    "scrolled": true
   },
   "outputs": [],
   "source": [
    "#df = pd.read_csv(\"allchartalbumtracks.csv\", \n",
    "                 #converters={'track_artists_popularity': pd.eval, 'track_artists_genres': pd.eval, \n",
    "                            # 'track_artists_ids': pd.eval, 'track_artists_popularity': pd.eval, \n",
    "                            # 'track_artists_followers': pd.eval})"
   ]
  },
  {
   "cell_type": "markdown",
   "id": "ba463b21",
   "metadata": {},
   "source": [
    "#### Import table for yearly chart data"
   ]
  },
  {
   "cell_type": "code",
   "execution_count": 5,
   "id": "baa9a0ce",
   "metadata": {
    "scrolled": true
   },
   "outputs": [],
   "source": [
    "dfa = pd.read_csv(\"../data/mastercharttable.csv\")"
   ]
  },
  {
   "cell_type": "markdown",
   "id": "75b45a97",
   "metadata": {},
   "source": [
    "#### Drop original index column"
   ]
  },
  {
   "cell_type": "code",
   "execution_count": 6,
   "id": "930d597f",
   "metadata": {
    "scrolled": true
   },
   "outputs": [],
   "source": [
    "df = df.drop(\"Unnamed: 0\", axis=1)"
   ]
  },
  {
   "cell_type": "code",
   "execution_count": 7,
   "id": "fdc143d9",
   "metadata": {
    "scrolled": true
   },
   "outputs": [],
   "source": [
    "dfa = dfa.drop(\"Unnamed: 0\", axis=1)"
   ]
  },
  {
   "cell_type": "markdown",
   "id": "e505ab04",
   "metadata": {},
   "source": [
    "#### Import table of wrangled genres"
   ]
  },
  {
   "cell_type": "code",
   "execution_count": 8,
   "id": "ee8dd83d",
   "metadata": {},
   "outputs": [],
   "source": [
    "pd.set_option('display.max_rows', None)\n",
    "genres_df = pd.read_csv(\"../data/genre_wrangling.csv\")"
   ]
  },
  {
   "cell_type": "code",
   "execution_count": 9,
   "id": "a6306449",
   "metadata": {},
   "outputs": [],
   "source": [
    "genres_df.at[220,'New Genre']= 'No Genre Assigned'"
   ]
  },
  {
   "cell_type": "code",
   "execution_count": 10,
   "id": "63e56422",
   "metadata": {},
   "outputs": [],
   "source": [
    "# Replace values for 'movie tunes', 'show_tunes' 'mellow gold' 'hollywood'\n",
    "genres_df.loc[genres_df.Original_Genre == \"movie tunes\", 'New Genre'] = \"Soundtrack\"\n",
    "genres_df.loc[genres_df.Original_Genre == \"show_tunes\", 'New Genre'] = \"Soundtrack\"\n",
    "genres_df.loc[genres_df.Original_Genre == \"mellow gold\", 'New Genre'] = \"Rock\"\n",
    "genres_df.loc[genres_df.Original_Genre == \"hollywood\", 'New Genre'] = \"Soundtrack\""
   ]
  },
  {
   "cell_type": "markdown",
   "id": "360d6db3",
   "metadata": {},
   "source": [
    "## Wrangle Nested Columns In All Track Table"
   ]
  },
  {
   "cell_type": "markdown",
   "id": "3d70dc37",
   "metadata": {},
   "source": [
    "#### Eval track artist, track_artists_ids, track_artists_popularity, track_artists_followers columns for proper list format"
   ]
  },
  {
   "cell_type": "code",
   "execution_count": 11,
   "id": "689066a5",
   "metadata": {
    "scrolled": true
   },
   "outputs": [],
   "source": [
    "df['track_artists'] = df['track_artists'].apply(lambda v: eval(v))"
   ]
  },
  {
   "cell_type": "code",
   "execution_count": 12,
   "id": "a283f88f",
   "metadata": {
    "scrolled": true
   },
   "outputs": [],
   "source": [
    "df['track_artists_ids'] = df['track_artists_ids'].apply(lambda v: eval(v))"
   ]
  },
  {
   "cell_type": "code",
   "execution_count": 13,
   "id": "615d5c5c",
   "metadata": {
    "scrolled": true
   },
   "outputs": [],
   "source": [
    "df['track_artists_popularity'] = df['track_artists_popularity'].apply(lambda v: eval(v))"
   ]
  },
  {
   "cell_type": "code",
   "execution_count": 14,
   "id": "58e9d77b",
   "metadata": {
    "scrolled": true
   },
   "outputs": [],
   "source": [
    "df['track_artists_followers'] = df['track_artists_followers'].apply(lambda v: eval(v))"
   ]
  },
  {
   "cell_type": "markdown",
   "id": "9323389b",
   "metadata": {},
   "source": [
    "#### Eval genre lists for proper list format"
   ]
  },
  {
   "cell_type": "code",
   "execution_count": 15,
   "id": "43a62baf",
   "metadata": {
    "scrolled": true
   },
   "outputs": [],
   "source": [
    "df['track_artists_genres'] = df['track_artists_genres'].apply(lambda v: eval(v))"
   ]
  },
  {
   "cell_type": "markdown",
   "id": "372441e5",
   "metadata": {},
   "source": [
    "## Wrangle Nested Columns In Yearly Chart Track Table"
   ]
  },
  {
   "cell_type": "markdown",
   "id": "cf6413e9",
   "metadata": {},
   "source": [
    "#### Eval track artist, track_artists_ids, track_artists_popularity, track_artists_followers columns for proper list format"
   ]
  },
  {
   "cell_type": "code",
   "execution_count": 16,
   "id": "2349d33a",
   "metadata": {
    "scrolled": true
   },
   "outputs": [],
   "source": [
    "dfa['track_artists'] = dfa['track_artists'].apply(lambda v: eval(v))\n"
   ]
  },
  {
   "cell_type": "code",
   "execution_count": 17,
   "id": "4dec8c03",
   "metadata": {
    "scrolled": true
   },
   "outputs": [],
   "source": [
    "dfa['track_artists_ids'] = dfa['track_artists_ids'].apply(lambda v: eval(v))"
   ]
  },
  {
   "cell_type": "code",
   "execution_count": 18,
   "id": "49249c3a",
   "metadata": {
    "scrolled": true
   },
   "outputs": [],
   "source": [
    "dfa['track_artists_popularity'] = dfa['track_artists_popularity'].apply(lambda v: eval(v))"
   ]
  },
  {
   "cell_type": "code",
   "execution_count": 19,
   "id": "4ff37044",
   "metadata": {
    "scrolled": true
   },
   "outputs": [],
   "source": [
    "dfa['track_artists_followers'] = dfa['track_artists_followers'].apply(lambda v: eval(v))"
   ]
  },
  {
   "cell_type": "markdown",
   "id": "e994bd7a",
   "metadata": {},
   "source": [
    "#### Eval genre lists for proper list format"
   ]
  },
  {
   "cell_type": "code",
   "execution_count": 20,
   "id": "b3a1f50c",
   "metadata": {
    "scrolled": true
   },
   "outputs": [],
   "source": [
    "dfa['track_artists_genres'] = dfa['track_artists_genres'].apply(lambda v: eval(v))"
   ]
  },
  {
   "cell_type": "markdown",
   "id": "d635a8a2",
   "metadata": {},
   "source": [
    "#### Eval album_artist, album_artists_ids, album_artists_popularity, album_artists_followers columns for proper list format"
   ]
  },
  {
   "cell_type": "code",
   "execution_count": 21,
   "id": "94093d1b",
   "metadata": {
    "scrolled": true
   },
   "outputs": [],
   "source": [
    "# This function generates an error on row 12. Work in progress to bugfix. \n",
    "# See function below joining track_artist on album_id from tracks dataframe\n",
    "# dfa['album_artists'] = dfa['album_artists'].apply(lambda v: eval(v))\n",
    "# dfa['album_artists']"
   ]
  },
  {
   "cell_type": "code",
   "execution_count": 22,
   "id": "f62eb7c7",
   "metadata": {
    "scrolled": true
   },
   "outputs": [],
   "source": [
    "dfa['album_artists_ids'] = dfa['album_artists_ids'].apply(lambda v: eval(v))"
   ]
  },
  {
   "cell_type": "code",
   "execution_count": 23,
   "id": "28ed256d",
   "metadata": {
    "scrolled": true
   },
   "outputs": [],
   "source": [
    "dfa['album_artists_popularity'] = dfa['album_artists_popularity'].apply(lambda v: eval(v))"
   ]
  },
  {
   "cell_type": "code",
   "execution_count": 24,
   "id": "cd0db4b1",
   "metadata": {
    "scrolled": true
   },
   "outputs": [],
   "source": [
    "dfa['album_artists_followers'] = dfa['album_artists_followers'].apply(lambda v: eval(v))"
   ]
  },
  {
   "cell_type": "markdown",
   "id": "0941895a",
   "metadata": {},
   "source": [
    "#### Eval genre lists for proper list format"
   ]
  },
  {
   "cell_type": "code",
   "execution_count": 25,
   "id": "28d8742c",
   "metadata": {
    "scrolled": true
   },
   "outputs": [],
   "source": [
    "dfa['album_artists_genres'] = dfa['album_artists_genres'].apply(lambda v: eval(v))"
   ]
  },
  {
   "cell_type": "markdown",
   "id": "a1adcf32",
   "metadata": {},
   "source": [
    "## Wrangle genres"
   ]
  },
  {
   "cell_type": "markdown",
   "id": "bdd03ecc",
   "metadata": {},
   "source": [
    "### Select primary track artist, artist id, popularity, followers from list"
   ]
  },
  {
   "cell_type": "markdown",
   "id": "4f7f3acb",
   "metadata": {},
   "source": [
    "#### Primary artist selection"
   ]
  },
  {
   "cell_type": "code",
   "execution_count": 26,
   "id": "499e0d47",
   "metadata": {
    "scrolled": false
   },
   "outputs": [],
   "source": [
    "track_artists_list = list(df[\"track_artists\"])"
   ]
  },
  {
   "cell_type": "code",
   "execution_count": 27,
   "id": "31253993",
   "metadata": {
    "scrolled": true
   },
   "outputs": [],
   "source": [
    "artist_list = [original_list[0] for original_list in track_artists_list]"
   ]
  },
  {
   "cell_type": "code",
   "execution_count": 28,
   "id": "dcc8304a",
   "metadata": {
    "scrolled": true
   },
   "outputs": [],
   "source": [
    "df[\"track_artist\"] = artist_list"
   ]
  },
  {
   "cell_type": "code",
   "execution_count": 29,
   "id": "cc761fb7",
   "metadata": {
    "scrolled": true
   },
   "outputs": [],
   "source": [
    "album_artists_list = list(dfa['track_artists'])"
   ]
  },
  {
   "cell_type": "code",
   "execution_count": 30,
   "id": "86d186bd",
   "metadata": {
    "scrolled": true
   },
   "outputs": [],
   "source": [
    "album_artist_list = [original_list[0] for original_list in album_artists_list]"
   ]
  },
  {
   "cell_type": "code",
   "execution_count": 31,
   "id": "4f777fb2",
   "metadata": {
    "scrolled": true
   },
   "outputs": [],
   "source": [
    "dfa[\"album_artist\"] = album_artist_list"
   ]
  },
  {
   "cell_type": "markdown",
   "id": "cc6492bc",
   "metadata": {},
   "source": [
    "#### Primary artist id selection"
   ]
  },
  {
   "cell_type": "code",
   "execution_count": 32,
   "id": "7f815036",
   "metadata": {
    "scrolled": false
   },
   "outputs": [],
   "source": [
    "track_artists_ids_list = list(df[\"track_artists_ids\"])"
   ]
  },
  {
   "cell_type": "code",
   "execution_count": 33,
   "id": "b651b2dd",
   "metadata": {
    "scrolled": true
   },
   "outputs": [],
   "source": [
    "artist_id_list = [original_list[0] for original_list in track_artists_ids_list]"
   ]
  },
  {
   "cell_type": "code",
   "execution_count": 34,
   "id": "104d33d0",
   "metadata": {
    "scrolled": true
   },
   "outputs": [],
   "source": [
    "df[\"track_artist_id\"] = artist_id_list"
   ]
  },
  {
   "cell_type": "markdown",
   "id": "9a2c278b",
   "metadata": {},
   "source": [
    "#### Primary artist popularity selection"
   ]
  },
  {
   "cell_type": "code",
   "execution_count": 35,
   "id": "381a2344",
   "metadata": {
    "scrolled": false
   },
   "outputs": [],
   "source": [
    "track_artists_popularity_list = list(df[\"track_artists_popularity\"])"
   ]
  },
  {
   "cell_type": "code",
   "execution_count": 36,
   "id": "f6108113",
   "metadata": {
    "scrolled": true
   },
   "outputs": [],
   "source": [
    "artist_popularity_list = [original_list[0] for original_list in track_artists_popularity_list]"
   ]
  },
  {
   "cell_type": "code",
   "execution_count": 37,
   "id": "fad90c3b",
   "metadata": {
    "scrolled": true
   },
   "outputs": [],
   "source": [
    "df[\"track_artist_popularity\"] = artist_popularity_list"
   ]
  },
  {
   "cell_type": "markdown",
   "id": "61b2dd0f",
   "metadata": {},
   "source": [
    "#### Primary artist followers selection"
   ]
  },
  {
   "cell_type": "code",
   "execution_count": 38,
   "id": "f00c2c12",
   "metadata": {
    "scrolled": false
   },
   "outputs": [],
   "source": [
    "track_artists_followers_list = list(df[\"track_artists_followers\"])"
   ]
  },
  {
   "cell_type": "code",
   "execution_count": 39,
   "id": "950d6fdd",
   "metadata": {
    "scrolled": true
   },
   "outputs": [],
   "source": [
    "artist_followers_list = [original_list[0] for original_list in track_artists_followers_list]"
   ]
  },
  {
   "cell_type": "code",
   "execution_count": 40,
   "id": "043dfd2d",
   "metadata": {
    "scrolled": true
   },
   "outputs": [],
   "source": [
    "df[\"track_artist_followers\"] = artist_followers_list"
   ]
  },
  {
   "cell_type": "markdown",
   "id": "22f11040",
   "metadata": {},
   "source": [
    "### Reshape track_artists_genres"
   ]
  },
  {
   "cell_type": "markdown",
   "id": "dd314142",
   "metadata": {},
   "source": [
    "#### Create dictionary to contain oldgenre:new genre pairs"
   ]
  },
  {
   "cell_type": "code",
   "execution_count": 41,
   "id": "4a7ebca9",
   "metadata": {
    "scrolled": true
   },
   "outputs": [],
   "source": [
    "genres_dict = {}"
   ]
  },
  {
   "cell_type": "markdown",
   "id": "5f145662",
   "metadata": {},
   "source": [
    "#### Loop though table to add to dictionary of pairs"
   ]
  },
  {
   "cell_type": "code",
   "execution_count": 42,
   "id": "68cee3d1",
   "metadata": {
    "scrolled": true
   },
   "outputs": [],
   "source": [
    "for index in genres_df.index:\n",
    "    genres_dict[genres_df.iloc[index,1]] = genres_df.iloc[index,2]"
   ]
  },
  {
   "cell_type": "markdown",
   "id": "37b8f30b",
   "metadata": {},
   "source": [
    "#### Create list of track_artists_genres variable"
   ]
  },
  {
   "cell_type": "code",
   "execution_count": 43,
   "id": "0f951ae2",
   "metadata": {
    "scrolled": false
   },
   "outputs": [],
   "source": [
    "track_artists_genres_list = list(df[\"track_artists_genres\"])"
   ]
  },
  {
   "cell_type": "markdown",
   "id": "c3ce11b0",
   "metadata": {},
   "source": [
    "#### Select the first artist's genre list only if the cell value is a list of genre lists for multiple artists, otherwise return just the single artist's genre list if there's only one."
   ]
  },
  {
   "cell_type": "code",
   "execution_count": 44,
   "id": "d00dc708",
   "metadata": {
    "scrolled": true
   },
   "outputs": [],
   "source": [
    "reshaped_list = [original_list[0] if type(original_list[0]) == list else original_list for original_list in track_artists_genres_list]"
   ]
  },
  {
   "cell_type": "code",
   "execution_count": 45,
   "id": "9eb71865",
   "metadata": {
    "scrolled": true
   },
   "outputs": [],
   "source": [
    "df[\"track_artists_genres\"] = reshaped_list"
   ]
  },
  {
   "cell_type": "markdown",
   "id": "e881fa92",
   "metadata": {},
   "source": [
    "#### Consolidate track_artists_genres by replacing old genres with new genres"
   ]
  },
  {
   "cell_type": "code",
   "execution_count": 46,
   "id": "b0bd732e",
   "metadata": {
    "scrolled": true
   },
   "outputs": [],
   "source": [
    "df[\"track_artists_genres_consolidate\"] = df[\"track_artists_genres\"].apply(lambda l: [genres_dict.get(v) for v in l])"
   ]
  },
  {
   "cell_type": "markdown",
   "id": "39977aa8",
   "metadata": {},
   "source": [
    "#### Select the first new genre as primary genre"
   ]
  },
  {
   "cell_type": "code",
   "execution_count": 47,
   "id": "560904f2",
   "metadata": {
    "scrolled": true
   },
   "outputs": [
    {
     "data": {
      "text/plain": [
       "'Hip-hop'"
      ]
     },
     "execution_count": 47,
     "metadata": {},
     "output_type": "execute_result"
    }
   ],
   "source": [
    "main_genre_list = list(df[\"track_artists_genres_consolidate\"])\n",
    "test_genre = main_genre_list[75]\n",
    "test_genre[0]"
   ]
  },
  {
   "cell_type": "code",
   "execution_count": 48,
   "id": "95792464",
   "metadata": {
    "scrolled": true
   },
   "outputs": [],
   "source": [
    "reshaped_main_genre_list = [original_list[0] if original_list else \"No Genre Assigned\" for original_list in main_genre_list]"
   ]
  },
  {
   "cell_type": "code",
   "execution_count": 49,
   "id": "c967faa9",
   "metadata": {
    "scrolled": true
   },
   "outputs": [],
   "source": [
    "df['main_genre'] = reshaped_main_genre_list"
   ]
  },
  {
   "cell_type": "markdown",
   "id": "6b1f6aad",
   "metadata": {},
   "source": [
    "#### Add genre information for albums without a genre assigned"
   ]
  },
  {
   "cell_type": "code",
   "execution_count": 50,
   "id": "24aa6eb2",
   "metadata": {},
   "outputs": [],
   "source": [
    "df_unassigned = df.loc[df['main_genre'] == 'No Genre Assigned']"
   ]
  },
  {
   "cell_type": "code",
   "execution_count": 51,
   "id": "b1faed6e",
   "metadata": {},
   "outputs": [
    {
     "data": {
      "text/plain": [
       "array(['Moana (Original Motion Picture Soundtrack/Deluxe Edition)',\n",
       "       'The Greatest Showman (Original Motion Picture Soundtrack)',\n",
       "       'Frozen 2 (Original Motion Picture Soundtrack/Deluxe Edition)',\n",
       "       'Frozen (Original Motion Picture Soundtrack / Deluxe Edition)',\n",
       "       'Spider-Man: Into the Spider-Verse (Soundtrack From & Inspired by the Motion Picture)',\n",
       "       'Aladdin (Original Motion Picture Soundtrack)',\n",
       "       'Love, Simon (Original Motion Picture Soundtrack)',\n",
       "       'Fifty Shades Freed (Original Motion Picture Soundtrack)',\n",
       "       'The Fate of the Furious: The Album', 'Suicide Squad: The Album',\n",
       "       'Vol. 2 Guardians of the Galaxy: Awesome Mix Vol. 2 (Original Motion Picture Soundtrack)',\n",
       "       'Beauty and the Beast (Original Motion Picture Soundtrack/Deluxe Edition)',\n",
       "       'Sing (Original Motion Picture Soundtrack / Deluxe)',\n",
       "       'Fifty Shades Darker (Original Motion Picture Soundtrack)',\n",
       "       'EPIC AF', \"NOW That's What I Call Music, Vol. 61\",\n",
       "       'Descendants 2 (Original TV Movie Soundtrack)',\n",
       "       \"NOW That's What I Call Music, Vol. 62\", 'EPIC LIT'], dtype=object)"
      ]
     },
     "execution_count": 51,
     "metadata": {},
     "output_type": "execute_result"
    }
   ],
   "source": [
    "df_unassigned['album_name'].unique()"
   ]
  },
  {
   "cell_type": "code",
   "execution_count": 52,
   "id": "c283f01b",
   "metadata": {},
   "outputs": [],
   "source": [
    "df.loc[df.album_name == 'Moana (Original Motion Picture Soundtrack/Deluxe Edition)', 'main_genre'] = \"Soundtrack\"\n",
    "df.loc[df.album_name == 'The Greatest Showman (Original Motion Picture Soundtrack)', 'main_genre'] = \"Soundtrack\"\n",
    "df.loc[df.album_name == 'Frozen 2 (Original Motion Picture Soundtrack/Deluxe Edition)', 'main_genre'] = \"Soundtrack\"\n",
    "df.loc[df.album_name == 'Frozen (Original Motion Picture Soundtrack / Deluxe Edition)', 'main_genre'] = \"Soundtrack\"\n",
    "df.loc[df.album_name == 'Spider-Man: Into the Spider-Verse (Soundtrack From & Inspired by the Motion Picture)', 'main_genre'] = \"Soundtrack\"\n",
    "df.loc[df.album_name == 'Aladdin (Original Motion Picture Soundtrack)', 'main_genre'] = \"Soundtrack\"\n",
    "df.loc[df.album_name == 'Love, Simon (Original Motion Picture Soundtrack)', 'main_genre'] = \"Soundtrack\"\n",
    "df.loc[df.album_name == 'Fifty Shades Freed (Original Motion Picture Soundtrack)', 'main_genre'] = \"Soundtrack\"\n",
    "df.loc[df.album_name == 'The Fate of the Furious: The Album', 'main_genre'] = \"Soundtrack\"\n",
    "df.loc[df.album_name == 'Suicide Squad: The Album', 'main_genre'] = \"Soundtrack\"\n",
    "df.loc[df.album_name == 'Vol. 2 Guardians of the Galaxy: Awesome Mix Vol. 2 (Original Motion Picture Soundtrack)', 'main_genre'] = \"Soundtrack\"\n",
    "df.loc[df.album_name == 'Sing (Original Motion Picture Soundtrack / Deluxe)', 'main_genre'] = \"Soundtrack\"\n",
    "df.loc[df.album_name == 'Fifty Shades Darker (Original Motion Picture Soundtrack)', 'main_genre'] = \"Soundtrack\"\n",
    "df.loc[df.album_name == 'Fifty Shades Darker (Original Motion Picture Soundtrack)', 'main_genre'] = \"Soundtrack\"\n",
    "df.loc[df.album_name == 'EPIC AF', 'main_genre'] = \"Hip-hop\"\n",
    "df.loc[df.album_name == 'Descendants 2 (Original TV Movie Soundtrack)', 'main_genre'] = \"Soundtrack\"\n",
    "df.loc[df.album_name == 'NOW That\\'s What I Call Music, Vol. 61', 'main_genre'] = \"Misc\"\n",
    "df.loc[df.album_name == 'NOW That\\'s What I Call Music, Vol. 62', 'main_genre'] = \"Misc\"\n",
    "df.loc[df.album_name == 'EPIC LIT', 'main_genre'] = \"Edm\"\n",
    "df.loc[df.album_name == 'Beauty and the Beast (Original Motion Picture Soundtrack/Deluxe Edition)', 'main_genre'] = \"Soundtrack\""
   ]
  },
  {
   "cell_type": "code",
   "execution_count": 53,
   "id": "fac4cb24",
   "metadata": {},
   "outputs": [],
   "source": [
    "df_unassigned = df.loc[df['main_genre'] == 'No Genre Assigned']"
   ]
  },
  {
   "cell_type": "markdown",
   "id": "bd432c36",
   "metadata": {},
   "source": [
    "#### Function for dummy coding genre columns"
   ]
  },
  {
   "cell_type": "code",
   "execution_count": 54,
   "id": "90d1ee03",
   "metadata": {
    "scrolled": true
   },
   "outputs": [],
   "source": [
    "def dummy_code(l, new_col):\n",
    "    if new_col in l:\n",
    "        return(1)\n",
    "    else:\n",
    "        return(0)"
   ]
  },
  {
   "cell_type": "markdown",
   "id": "ea9f5453",
   "metadata": {},
   "source": [
    "#### Dummy code genre columns creating a column for each new genre with the 0/1 presence of that genre for this track"
   ]
  },
  {
   "cell_type": "code",
   "execution_count": 55,
   "id": "9201a6a0",
   "metadata": {
    "scrolled": true
   },
   "outputs": [],
   "source": [
    "for new_col in genres_df['New Genre'].unique():\n",
    "    df[new_col] = df[\"track_artists_genres_consolidate\"].apply(lambda v: dummy_code(v, new_col))"
   ]
  },
  {
   "cell_type": "markdown",
   "id": "5c47c533",
   "metadata": {},
   "source": [
    "#### Wrangle release date format"
   ]
  },
  {
   "cell_type": "code",
   "execution_count": 56,
   "id": "4197d15c",
   "metadata": {},
   "outputs": [],
   "source": [
    "dfa['release_date_datetime'] = pd.to_datetime(dfa['album_release_date'], format='%Y-%m-%d')\n",
    "dfa['release_year'] = dfa['release_date_datetime'].dt.year"
   ]
  },
  {
   "cell_type": "markdown",
   "id": "671361bb",
   "metadata": {},
   "source": [
    "#### Export to csv"
   ]
  },
  {
   "cell_type": "code",
   "execution_count": 57,
   "id": "ec4a8bca",
   "metadata": {
    "scrolled": true
   },
   "outputs": [],
   "source": [
    "df.to_csv(\"../data/AllChartAlbumTracksRecoded.csv\")"
   ]
  },
  {
   "cell_type": "code",
   "execution_count": 58,
   "id": "2b674eeb",
   "metadata": {
    "scrolled": true
   },
   "outputs": [],
   "source": [
    "dfa.to_csv(\"../data/MasterChartTableRecoded.csv\")"
   ]
  },
  {
   "cell_type": "code",
   "execution_count": null,
   "id": "3952cc1b",
   "metadata": {
    "scrolled": true
   },
   "outputs": [],
   "source": []
  }
 ],
 "metadata": {
  "kernelspec": {
   "display_name": "Python 3",
   "language": "python",
   "name": "python3"
  },
  "language_info": {
   "codemirror_mode": {
    "name": "ipython",
    "version": 3
   },
   "file_extension": ".py",
   "mimetype": "text/x-python",
   "name": "python",
   "nbconvert_exporter": "python",
   "pygments_lexer": "ipython3",
   "version": "3.8.8"
  }
 },
 "nbformat": 4,
 "nbformat_minor": 5
}
